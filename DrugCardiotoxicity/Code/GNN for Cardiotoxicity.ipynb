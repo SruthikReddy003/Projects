{
  "cells": [
    {
      "cell_type": "code",
      "execution_count": 1,
      "metadata": {
        "id": "AQhQ5FFM6gdV"
      },
      "outputs": [],
      "source": [
        "from IPython.display import clear_output\n",
        "!apt-get -y install graphviz graphviz-dev\n",
        "!pip install tensorflow==2.8 tensorflow-io==0.25.0 tfds-nightly pygraphviz\n",
        "%pip install tensorflow_gnn==0.2.0\n",
        "%pip install httplib2==0.20.4\n",
        "clear_output()"
      ]
    },
    {
      "cell_type": "code",
      "execution_count": 2,
      "metadata": {
        "id": "IIn2h1Et6qgv",
        "colab": {
          "base_uri": "https://localhost:8080/"
        },
        "outputId": "c0e629d2-13d5-4bb7-ec90-fad7bdc7fe27"
      },
      "outputs": [
        {
          "output_type": "stream",
          "name": "stdout",
          "text": [
            "Using TensorFlow v2.8.0 and TensorFlow-GNN v0.2.0\n",
            "GPUs available: []\n"
          ]
        }
      ],
      "source": [
        "import pygraphviz as pgv\n",
        "from tqdm import tqdm\n",
        "from IPython.display import Image\n",
        "import tensorflow as tf\n",
        "tf.get_logger().setLevel('ERROR')\n",
        "import tensorflow_gnn as tfgnn\n",
        "import tensorflow_datasets as tfds\n",
        "from tensorflow_gnn import runner\n",
        "from tensorflow_gnn.models import gat_v2\n",
        "print(f'Using TensorFlow v{tf.__version__} and TensorFlow-GNN v{tfgnn.__version__}')\n",
        "print(f'GPUs available: {tf.config.list_physical_devices(\"GPU\")}')"
      ]
    },
    {
      "cell_type": "code",
      "execution_count": 3,
      "metadata": {
        "id": "-nnAHTSJ7RU0",
        "colab": {
          "base_uri": "https://localhost:8080/",
          "height": 72,
          "referenced_widgets": [
            "099556ee853c466694cff1918c8b74c6",
            "ac37888256a049a7bb791bfd0926c79b",
            "27afda310f554cf2b6c6ca35595b56f3",
            "de34edd71ec3419698e701f12a2fc76d",
            "0375ae94185d41ab957be40ccb332eef",
            "d26e26bfdb714584bb8545ff28b596a3",
            "ed19f09268a74703af1947809597741a",
            "b2f359c55be440c39e0eece1d1600f33",
            "b8aa0156aac5412c8f1c064aecd71caf",
            "ff26f73a9e0b41c2920783f22938d0ec",
            "82e8f78549cb488ca309d5cd6f20d9bc",
            "70a2a1fed4bc45e18ab3efb8276db72b",
            "700084dfef1e4199b2b9102192d839c2",
            "16573da2d2a940259c20d92bdaa82ec5",
            "686f52ae26e6491d88e9581ae57c3539",
            "616e568a6a954c03a7bd55916e7d9d6f",
            "5d8ce9e8f07749eebbeb04147f274caf",
            "f3179c65c6ac48bbb2d817ee5f636b93",
            "18571c43f7ef43279e293d4773f2d6eb",
            "edfcd39e0b5e4d88888d8345fa249607",
            "f2a58f8f66734a5e8e96202c6b3a7056",
            "ba2eb56759844e1a9f318d6a1adb6edc",
            "f42191773b0c46869fcffbfb896419f2",
            "f24b10ff9e544ec9a61d7f92e3a1d111",
            "697b4ef536164c1cb50666b64969ed63",
            "ba9fff71d2b04d50b83c657a280a8a86",
            "497735443c6843faada3012952286176",
            "0f75b6f0e43d4ac6827ad4a513309186",
            "c61ce5a31b6246cbaee667febec647e9",
            "c937a627de4945a8b1873a609a41a151",
            "72ae150b74c144638281b37fd68e3f40",
            "57315831e24d486a81dd84de02f97e9f",
            "4471397187f54b68ad22f47707ad870d",
            "3c64260513e3451dae7a43742e9caba1",
            "b6bca1d53b124f05879706582e3ab93e",
            "cbffeccb46d74dfbb9de021515aee5f8",
            "7248985458b44de69d09d706ca04fed2",
            "438c6b2d8a754046a0ccd166d81f1e79",
            "9d0b3da462aa4e34a98e1fcc5b9f6503",
            "00aefc0576454e0787e7e17d38c4bb6b",
            "6a70a8b0a88248458ed54ad9d468cd3e",
            "f19763d0ba624382b89cddeaa365a900",
            "4add97223ed3482ba8a76ec4376f7f07",
            "21a85897a8f6478ea6b0b042e9f10ff4",
            "be1b88468c5a4a02a7638e5b656f4082",
            "22fb3bb0384c4591ae8383638b8091d9",
            "8efbd0c1a2be4323bd22b79fb01d07d6",
            "0ef70d1399e64094848be8b0caa7a27f",
            "daee0dc255544ad5bf7dfe6d231dc1cc",
            "4b5ab4ed49494f83bbe6c5fc5d68ea09",
            "bf645d0b860b451195b6cf63e70bd77e",
            "fd03a04b6f824214a367c26bc00b5af7",
            "b6c05dbef9824a2183fad5e741cfd928",
            "1d83350aa60d4498a4fa36a21bf72ee0",
            "91b985aad556426683ae35a2c1e3fb93",
            "477df783d9654d0daa4e4e7121494735",
            "aec0edba0255446bb0b4ec42e8b890f3",
            "afc563838a8345588781c4bd1d4699bc",
            "ef912f4d8551464093142f8a2d457502",
            "c1f9dfb5a977414b94fe4c23d12be322",
            "5cb9f532bf6d46178a74fb36ff394b77",
            "08a1d9ab37204d1ea2ba9c652bda637b",
            "e48f382d4cae4b32b55b09abe861c872",
            "f063ed4f7f494fe3b7c72904cdf565c9",
            "05fd504fe95e40b4bd2c3a591a0b59e7",
            "8656ee314e744a26baf809164ba836c0",
            "96a424318ebb4a11b4ed139131daa33d",
            "803bbc89aaf5453c8a4c52d5bb858cd1",
            "d16c88cfcc1b40a7bccd274134efcf86",
            "d814aa87f05c456cb1d43c5a8599e4c5",
            "49f443c1f3f24fbe8537ca6b65391098",
            "c0f9f3794431454f8fcbd82b8be9adcb",
            "7b6e4d7ae10f4b76bbd886ddc7d88e44",
            "3d4cf36e6ea4421cbda57be7987a88e4",
            "1a2eff253ab54e19a50de77162c8ab49",
            "b524ce5d74f3419c92a2010e8fd0e168",
            "70033644463249febf9d2dcb6a49db82",
            "c039375d826d478c8554c06bf58142f1",
            "4ee45710c5e44151a84e339e52cd4aa3",
            "ab4c113337534f4dbfd0e5f3dc492c44",
            "e175a48190b4405b85c939558f432d3b",
            "84636ecb7a904a268bc41adc2d7a9354",
            "31e51ddd85f54c789ba0c67a2fdad001",
            "7cc2d4a671274b03b350b91d2c3a57f1",
            "e1eb588d00c84c1a80a479c2a2979565",
            "6e0590887d754b04afabeb6a83a9daba",
            "6440a3dcd37849f0b0991a01a9f01e80",
            "e5e0b6ad039444638d0bc00a234452b5",
            "4c303776484c4a54a147ead501663045",
            "2604345b6c0f4d3d9838d4e95644752e",
            "32baa93fa54741048f6c2d90dba3c403",
            "1210ff69a1244745876e57d6644ff3e5",
            "d933eea6be6144a195c6d6e747714a82",
            "77a20c38f9a64293a4db26572fe2710d",
            "b3dc72a3f5eb4f32adb64a4bfb0d9086",
            "52ba2adf72474e53967eea8e3f39f3d3",
            "45c7903385f94471bf3f73a72167de4d",
            "6d21c3e95d944af3a7ca6d3622c3373e",
            "6af1a7e1dff04f399faacff01f9d0590"
          ]
        },
        "outputId": "9389d11e-aefb-45d5-a33c-3b3ff2193dad"
      },
      "outputs": [
        {
          "output_type": "stream",
          "name": "stdout",
          "text": [
            "Downloading and preparing dataset Unknown size (download: Unknown size, generated: 1.66 GiB, total: 1.66 GiB) to data/tfds/cardiotox/1.0.0...\n"
          ]
        },
        {
          "output_type": "display_data",
          "data": {
            "text/plain": [
              "Generating splits...:   0%|          | 0/4 [00:00<?, ? splits/s]"
            ],
            "application/vnd.jupyter.widget-view+json": {
              "version_major": 2,
              "version_minor": 0,
              "model_id": "099556ee853c466694cff1918c8b74c6"
            }
          },
          "metadata": {}
        },
        {
          "output_type": "display_data",
          "data": {
            "text/plain": [
              "Generating train examples...:   0%|          | 0/6523 [00:00<?, ? examples/s]"
            ],
            "application/vnd.jupyter.widget-view+json": {
              "version_major": 2,
              "version_minor": 0,
              "model_id": "70a2a1fed4bc45e18ab3efb8276db72b"
            }
          },
          "metadata": {}
        },
        {
          "output_type": "display_data",
          "data": {
            "text/plain": [
              "Shuffling data/tfds/cardiotox/1.0.0.incomplete977SGX/cardiotox-train.tfrecord*...:   0%|          | 0/6523 [00…"
            ],
            "application/vnd.jupyter.widget-view+json": {
              "version_major": 2,
              "version_minor": 0,
              "model_id": "f42191773b0c46869fcffbfb896419f2"
            }
          },
          "metadata": {}
        },
        {
          "output_type": "display_data",
          "data": {
            "text/plain": [
              "Generating validation examples...:   0%|          | 0/1631 [00:00<?, ? examples/s]"
            ],
            "application/vnd.jupyter.widget-view+json": {
              "version_major": 2,
              "version_minor": 0,
              "model_id": "3c64260513e3451dae7a43742e9caba1"
            }
          },
          "metadata": {}
        },
        {
          "output_type": "display_data",
          "data": {
            "text/plain": [
              "Shuffling data/tfds/cardiotox/1.0.0.incomplete977SGX/cardiotox-validation.tfrecord*...:   0%|          | 0/163…"
            ],
            "application/vnd.jupyter.widget-view+json": {
              "version_major": 2,
              "version_minor": 0,
              "model_id": "be1b88468c5a4a02a7638e5b656f4082"
            }
          },
          "metadata": {}
        },
        {
          "output_type": "display_data",
          "data": {
            "text/plain": [
              "Generating test examples...:   0%|          | 0/839 [00:00<?, ? examples/s]"
            ],
            "application/vnd.jupyter.widget-view+json": {
              "version_major": 2,
              "version_minor": 0,
              "model_id": "477df783d9654d0daa4e4e7121494735"
            }
          },
          "metadata": {}
        },
        {
          "output_type": "display_data",
          "data": {
            "text/plain": [
              "Shuffling data/tfds/cardiotox/1.0.0.incomplete977SGX/cardiotox-test.tfrecord*...:   0%|          | 0/839 [00:0…"
            ],
            "application/vnd.jupyter.widget-view+json": {
              "version_major": 2,
              "version_minor": 0,
              "model_id": "96a424318ebb4a11b4ed139131daa33d"
            }
          },
          "metadata": {}
        },
        {
          "output_type": "display_data",
          "data": {
            "text/plain": [
              "Generating test2 examples...:   0%|          | 0/177 [00:00<?, ? examples/s]"
            ],
            "application/vnd.jupyter.widget-view+json": {
              "version_major": 2,
              "version_minor": 0,
              "model_id": "c039375d826d478c8554c06bf58142f1"
            }
          },
          "metadata": {}
        },
        {
          "output_type": "display_data",
          "data": {
            "text/plain": [
              "Shuffling data/tfds/cardiotox/1.0.0.incomplete977SGX/cardiotox-test2.tfrecord*...:   0%|          | 0/177 [00:…"
            ],
            "application/vnd.jupyter.widget-view+json": {
              "version_major": 2,
              "version_minor": 0,
              "model_id": "4c303776484c4a54a147ead501663045"
            }
          },
          "metadata": {}
        },
        {
          "output_type": "stream",
          "name": "stdout",
          "text": [
            "Dataset cardiotox downloaded and prepared to data/tfds/cardiotox/1.0.0. Subsequent calls will reuse this data.\n"
          ]
        }
      ],
      "source": [
        "dataset_splits, dataset_info = tfds.load('cardiotox', data_dir='data/tfds', with_info=True)"
      ]
    },
    {
      "cell_type": "code",
      "execution_count": 4,
      "metadata": {
        "id": "2tgAkSfh7w7s"
      },
      "outputs": [],
      "source": [
        "graph_schema_pbtxt = \"\"\"\n",
        "node_sets {\n",
        "  key: \"atom\"\n",
        "  value {\n",
        "    description: \"An atom in the molecule.\"\n",
        "\n",
        "    features {\n",
        "      key: \"atom_features\"\n",
        "      value: {\n",
        "        description: \"[DATA] The features of the atom.\"\n",
        "        dtype: DT_FLOAT\n",
        "        shape { dim { size: 27 } }\n",
        "      }\n",
        "    }\n",
        "  }\n",
        "}\n",
        "\n",
        "edge_sets {\n",
        "  key: \"bond\"\n",
        "  value {\n",
        "    description: \"A bond between two atoms in the molecule.\"\n",
        "    source: \"atom\"\n",
        "    target: \"atom\"\n",
        "\n",
        "    features {\n",
        "      key: \"bond_features\"\n",
        "      value: {\n",
        "        description: \"[DATA] The features of the bond.\"\n",
        "        dtype: DT_FLOAT\n",
        "        shape { dim { size: 12 } }\n",
        "      }\n",
        "    }\n",
        "  }\n",
        "}\n",
        "\n",
        "context {\n",
        "  features {\n",
        "    key: \"toxicity\"\n",
        "    value: {\n",
        "      description: \"[LABEL] The toxicity class of the molecule (0 -> non-toxic; 1 -> toxic).\"\n",
        "      dtype: DT_INT64\n",
        "    }\n",
        "  }\n",
        "\n",
        "  features {\n",
        "    key: \"molecule_id\"\n",
        "    value: {\n",
        "      description: \"[LABEL] The id of the molecule.\"\n",
        "      dtype: DT_STRING\n",
        "    }\n",
        "  }\n",
        "}\n",
        "\"\"\""
      ]
    },
    {
      "cell_type": "code",
      "execution_count": 5,
      "metadata": {
        "id": "szYZD7mW8WhH"
      },
      "outputs": [],
      "source": [
        "graph_schema = tfgnn.parse_schema(graph_schema_pbtxt)\n",
        "graph_spec = tfgnn.create_graph_spec_from_schema_pb(graph_schema)"
      ]
    },
    {
      "cell_type": "code",
      "execution_count": 6,
      "metadata": {
        "id": "mr_GCOYq8Y9y"
      },
      "outputs": [],
      "source": [
        "def make_graph_tensor(datapoint):\n",
        "\n",
        "    \"\"\"\n",
        "    Convert a datapoint from the TF-DS CardioTox dataset into a `GraphTensor`.\n",
        "    \"\"\"\n",
        "    # atom_mask is non-zero only for real atoms\n",
        "    # [ V, ]\n",
        "    atom_indices = tf.squeeze(tf.where(datapoint['atom_mask']), axis=1)\n",
        "\n",
        "    # only keep features of real atoms\n",
        "    # [ V, 27 ]\n",
        "    atom_features = tf.gather(datapoint['atoms'], atom_indices)\n",
        "\n",
        "    # restrict the bond mask to real atoms\n",
        "    # [ V, V ]\n",
        "    pair_mask = tf.gather(tf.gather(datapoint['pair_mask'], atom_indices, axis=0), atom_indices, axis=1)\n",
        "\n",
        "    # restrict the bond features to real atoms\n",
        "    # [ V, V, 12 ]\n",
        "    pairs = tf.gather(tf.gather(datapoint['pairs'], atom_indices, axis=0), atom_indices, axis=1)\n",
        "\n",
        "    # pair_mask is non-zero only for real bonds\n",
        "    # [ E, 2 ]\n",
        "    bond_indices = tf.where(pair_mask)\n",
        "\n",
        "    # only keep features of real bonds\n",
        "    # [ E, 12 ]\n",
        "    bond_features = tf.gather_nd(pairs, bond_indices)\n",
        "\n",
        "    # separate sources and targets for each bond\n",
        "    # [ E, ]\n",
        "    sources, targets = tf.unstack(tf.transpose(bond_indices))\n",
        "\n",
        "    # active is [1, 0] for non-toxic molecules, [0, 1] for toxic molecules\n",
        "    # [ ]\n",
        "    toxicity = tf.argmax(datapoint['active'])\n",
        "\n",
        "    # the molecule_id is included for reference\n",
        "    # [ ]\n",
        "    molecule_id = datapoint['molecule_id']\n",
        "\n",
        "    # create a GraphTensor from all of the above\n",
        "    atom = tfgnn.NodeSet.from_fields(features={'atom_features': atom_features},\n",
        "                                     sizes=tf.shape(atom_indices))\n",
        "\n",
        "    atom_adjacency = tfgnn.Adjacency.from_indices(source=('atom', tf.cast(sources, dtype=tf.int32)),\n",
        "                                                  target=('atom', tf.cast(targets, dtype=tf.int32)))\n",
        "\n",
        "    bond = tfgnn.EdgeSet.from_fields(features={'bond_features': bond_features},\n",
        "                                     sizes=tf.shape(sources),\n",
        "                                     adjacency=atom_adjacency)\n",
        "\n",
        "    context = tfgnn.Context.from_fields(features={'toxicity': [toxicity], 'molecule_id': [molecule_id]})\n",
        "\n",
        "    return tfgnn.GraphTensor.from_pieces(node_sets={'atom': atom}, edge_sets={'bond': bond}, context=context)"
      ]
    },
    {
      "cell_type": "code",
      "execution_count": 7,
      "metadata": {
        "id": "XdKcaSLr8_mv",
        "colab": {
          "base_uri": "https://localhost:8080/"
        },
        "outputId": "19bd9be4-5848-4ce4-bbdf-3e7c7d94a274"
      },
      "outputs": [
        {
          "output_type": "execute_result",
          "data": {
            "text/plain": [
              "GraphTensor(\n",
              "  context=Context(features={'toxicity': <tf.Tensor: shape=(1,), dtype=tf.int64>, 'molecule_id': <tf.Tensor: shape=(1,), dtype=tf.string>}, sizes=[1], shape=(), indices_dtype=tf.int32),\n",
              "  node_set_names=['atom'],\n",
              "  edge_set_names=['bond'])"
            ]
          },
          "metadata": {},
          "execution_count": 7
        }
      ],
      "source": [
        "train_dataset = dataset_splits['train'].map(make_graph_tensor)\n",
        "test_dataset = dataset_splits['test'].map(make_graph_tensor)\n",
        "graph_tensor = next(iter(train_dataset))\n",
        "graph_tensor"
      ]
    },
    {
      "cell_type": "code",
      "execution_count": 8,
      "metadata": {
        "id": "M3c6v6959OSt",
        "colab": {
          "base_uri": "https://localhost:8080/"
        },
        "outputId": "bcd66f57-cd86-4b8a-d5a9-c82421c3787a"
      },
      "outputs": [
        {
          "output_type": "execute_result",
          "data": {
            "text/plain": [
              "True"
            ]
          },
          "metadata": {},
          "execution_count": 8
        }
      ],
      "source": [
        "graph_spec.is_compatible_with(graph_tensor)"
      ]
    },
    {
      "cell_type": "code",
      "execution_count": 9,
      "metadata": {
        "id": "x0hXAKyi9PQ4"
      },
      "outputs": [],
      "source": [
        "def create_tfrecords(dataset_splits, dataset_info):\n",
        "    \"\"\"\n",
        "    Dump all splits of the given dataset to TFRecord files.\n",
        "    \"\"\"\n",
        "    for split_name, dataset in dataset_splits.items():\n",
        "        filename = f'data/{dataset_info.name}-{split_name}.tfrecord'\n",
        "        print(f'creating {filename}...')\n",
        "\n",
        "        # convert all datapoints to GraphTensor\n",
        "        dataset = dataset.map(make_graph_tensor, num_parallel_calls=tf.data.AUTOTUNE)\n",
        "\n",
        "        # serialize to TFRecord files\n",
        "        with tf.io.TFRecordWriter(filename) as writer:\n",
        "            for graph_tensor in tqdm(iter(dataset), total=dataset_info.splits[split_name].num_examples):\n",
        "                example = tfgnn.write_example(graph_tensor)\n",
        "                writer.write(example.SerializeToString())"
      ]
    },
    {
      "cell_type": "code",
      "execution_count": 10,
      "metadata": {
        "id": "d59N7iX09ToI",
        "colab": {
          "base_uri": "https://localhost:8080/"
        },
        "outputId": "96742ec4-5595-453c-e55c-a6891b369c1b"
      },
      "outputs": [
        {
          "output_type": "stream",
          "name": "stdout",
          "text": [
            "creating data/cardiotox-train.tfrecord...\n"
          ]
        },
        {
          "output_type": "stream",
          "name": "stderr",
          "text": [
            "100%|██████████| 6523/6523 [00:30<00:00, 211.32it/s]\n"
          ]
        },
        {
          "output_type": "stream",
          "name": "stdout",
          "text": [
            "creating data/cardiotox-validation.tfrecord...\n"
          ]
        },
        {
          "output_type": "stream",
          "name": "stderr",
          "text": [
            "100%|██████████| 1631/1631 [00:06<00:00, 233.42it/s]\n"
          ]
        },
        {
          "output_type": "stream",
          "name": "stdout",
          "text": [
            "creating data/cardiotox-test.tfrecord...\n"
          ]
        },
        {
          "output_type": "stream",
          "name": "stderr",
          "text": [
            "100%|██████████| 839/839 [00:04<00:00, 184.52it/s]\n"
          ]
        },
        {
          "output_type": "stream",
          "name": "stdout",
          "text": [
            "creating data/cardiotox-test2.tfrecord...\n"
          ]
        },
        {
          "output_type": "stream",
          "name": "stderr",
          "text": [
            "100%|██████████| 177/177 [00:00<00:00, 223.93it/s]\n"
          ]
        }
      ],
      "source": [
        "create_tfrecords(dataset_splits, dataset_info)"
      ]
    },
    {
      "cell_type": "code",
      "execution_count": 11,
      "metadata": {
        "id": "J33JPHEG9pto"
      },
      "outputs": [],
      "source": [
        "train_dataset_provider = runner.TFRecordDatasetProvider(file_pattern='data/cardiotox-train.tfrecord')\n",
        "valid_dataset_provider = runner.TFRecordDatasetProvider(file_pattern='data/cardiotox-validation.tfrecord')\n",
        "test1_dataset_provider = runner.TFRecordDatasetProvider(file_pattern='data/cardiotox-test.tfrecord')\n",
        "test2_dataset_provider = runner.TFRecordDatasetProvider(file_pattern='data/cardiotox-test2.tfrecord')"
      ]
    },
    {
      "cell_type": "code",
      "execution_count": 12,
      "metadata": {
        "id": "OEV2heNy7Rkj"
      },
      "outputs": [],
      "source": [
        "train_dataset = train_dataset_provider.get_dataset(context=tf.distribute.InputContext())\n",
        "test_dataset = test1_dataset_provider.get_dataset(context=tf.distribute.InputContext())\n",
        "train_dataset = train_dataset.map(lambda serialized: tfgnn.parse_single_example(serialized=serialized, spec=graph_spec))\n",
        "test_dataset = test_dataset.map(lambda serialized: tfgnn.parse_single_example(serialized=serialized, spec=graph_spec))\n"
      ]
    },
    {
      "cell_type": "code",
      "execution_count": 13,
      "metadata": {
        "id": "ElnpbDME7cRj",
        "colab": {
          "base_uri": "https://localhost:8080/"
        },
        "outputId": "73116041-f563-4018-f6e0-0fa35a83a806"
      },
      "outputs": [
        {
          "output_type": "execute_result",
          "data": {
            "text/plain": [
              "GraphTensor(\n",
              "  context=Context(features={'molecule_id': <tf.Tensor: shape=(1,), dtype=tf.string>, 'toxicity': <tf.Tensor: shape=(1,), dtype=tf.int64>}, sizes=[1], shape=(), indices_dtype=tf.int32),\n",
              "  node_set_names=['atom'],\n",
              "  edge_set_names=['bond'])"
            ]
          },
          "metadata": {},
          "execution_count": 13
        }
      ],
      "source": [
        "graph_tensor = next(iter(train_dataset))\n",
        "graph_tensor"
      ]
    },
    {
      "cell_type": "code",
      "execution_count": 14,
      "metadata": {
        "id": "YUkjzPCh7dSz",
        "colab": {
          "base_uri": "https://localhost:8080/"
        },
        "outputId": "b111b60f-4461-4deb-9748-5d63c47c2320"
      },
      "outputs": [
        {
          "output_type": "execute_result",
          "data": {
            "text/plain": [
              "GraphTensor(\n",
              "  context=Context(features={'molecule_id': <tf.Tensor: shape=(1,), dtype=tf.string>, 'toxicity': <tf.Tensor: shape=(1,), dtype=tf.int64>}, sizes=[1], shape=(), indices_dtype=tf.int32),\n",
              "  node_set_names=['atom'],\n",
              "  edge_set_names=['bond'])"
            ]
          },
          "metadata": {},
          "execution_count": 14
        }
      ],
      "source": [
        "graph_tensor = next(iter(test_dataset))\n",
        "graph_tensor"
      ]
    },
    {
      "cell_type": "code",
      "execution_count": 15,
      "metadata": {
        "id": "DBXK1X1b9rDf",
        "colab": {
          "base_uri": "https://localhost:8080/"
        },
        "outputId": "1d849224-3226-422d-a3d6-f5401e3cc790"
      },
      "outputs": [
        {
          "output_type": "execute_result",
          "data": {
            "text/plain": [
              "<tf.Tensor: shape=(31, 27), dtype=float32, numpy=\n",
              "array([[0., 0., 0., 1., 0., 0., 0., 0., 0., 0., 0., 0., 0., 0., 0., 0.,\n",
              "        0., 0., 0., 0., 0., 0., 1., 0., 1., 0., 0.],\n",
              "       [0., 1., 0., 0., 0., 0., 0., 0., 0., 0., 0., 0., 0., 0., 0., 0.,\n",
              "        0., 0., 0., 0., 0., 0., 1., 0., 0., 0., 0.],\n",
              "       [0., 0., 0., 1., 0., 0., 0., 0., 0., 0., 0., 0., 0., 0., 0., 0.,\n",
              "        0., 0., 0., 0., 0., 0., 1., 0., 0., 1., 0.],\n",
              "       [0., 1., 0., 0., 0., 0., 0., 0., 0., 0., 0., 0., 0., 0., 0., 0.,\n",
              "        0., 0., 1., 0., 0., 0., 0., 1., 0., 0., 0.],\n",
              "       [0., 1., 0., 0., 0., 0., 0., 0., 0., 0., 0., 0., 0., 0., 0., 0.,\n",
              "        0., 0., 0., 0., 0., 0., 0., 1., 0., 0., 0.],\n",
              "       [0., 1., 0., 0., 0., 0., 0., 0., 0., 0., 0., 0., 0., 0., 0., 0.,\n",
              "        0., 0., 1., 0., 0., 0., 1., 0., 0., 0., 1.],\n",
              "       [0., 1., 0., 0., 0., 0., 0., 0., 0., 0., 0., 0., 0., 0., 0., 0.,\n",
              "        0., 0., 1., 0., 0., 0., 1., 0., 0., 0., 1.],\n",
              "       [0., 1., 0., 0., 0., 0., 0., 0., 0., 0., 0., 0., 0., 0., 0., 0.,\n",
              "        0., 0., 1., 0., 0., 0., 1., 0., 0., 0., 1.],\n",
              "       [0., 1., 0., 0., 0., 0., 0., 0., 0., 0., 0., 0., 0., 0., 0., 0.,\n",
              "        0., 0., 1., 0., 0., 0., 1., 0., 0., 0., 1.],\n",
              "       [0., 1., 0., 0., 0., 0., 0., 0., 0., 0., 0., 0., 0., 0., 0., 0.,\n",
              "        0., 0., 1., 0., 0., 0., 1., 0., 0., 0., 1.],\n",
              "       [0., 0., 1., 0., 0., 0., 0., 0., 0., 0., 0., 0., 0., 0., 0., 0.,\n",
              "        0., 0., 0., 0., 0., 0., 1., 0., 1., 1., 0.],\n",
              "       [0., 1., 0., 0., 0., 0., 0., 0., 0., 0., 0., 0., 0., 0., 0., 0.,\n",
              "        0., 1., 0., 0., 0., 0., 1., 0., 0., 0., 1.],\n",
              "       [0., 0., 1., 0., 0., 0., 0., 0., 0., 0., 0., 0., 0., 0., 0., 0.,\n",
              "        0., 1., 0., 0., 0., 0., 1., 0., 1., 0., 1.],\n",
              "       [0., 1., 0., 0., 0., 0., 0., 0., 0., 0., 0., 0., 0., 0., 0., 0.,\n",
              "        0., 1., 0., 0., 0., 0., 1., 0., 0., 0., 1.],\n",
              "       [0., 1., 0., 0., 0., 0., 0., 0., 0., 0., 0., 0., 0., 0., 0., 0.,\n",
              "        0., 1., 0., 0., 0., 0., 1., 0., 0., 0., 1.],\n",
              "       [0., 0., 0., 0., 0., 0., 1., 0., 0., 0., 0., 0., 0., 0., 0., 0.,\n",
              "        0., 1., 0., 0., 0., 0., 1., 0., 1., 0., 1.],\n",
              "       [0., 0., 1., 0., 0., 0., 0., 0., 0., 0., 0., 0., 0., 0., 0., 0.,\n",
              "        0., 0., 1., 0., 0., 0., 1., 0., 1., 0., 1.],\n",
              "       [0., 1., 0., 0., 0., 0., 0., 0., 0., 0., 0., 0., 0., 0., 0., 0.,\n",
              "        0., 0., 1., 0., 0., 0., 0., 1., 0., 0., 0.],\n",
              "       [0., 1., 0., 0., 0., 0., 0., 0., 0., 0., 0., 0., 0., 0., 0., 0.,\n",
              "        0., 0., 1., 0., 0., 0., 0., 1., 0., 0., 0.],\n",
              "       [0., 1., 0., 0., 0., 0., 0., 0., 0., 0., 0., 0., 0., 0., 0., 0.,\n",
              "        0., 0., 1., 0., 0., 0., 0., 1., 0., 0., 0.],\n",
              "       [0., 0., 0., 1., 0., 0., 0., 0., 0., 0., 0., 0., 0., 0., 0., 0.,\n",
              "        0., 0., 0., 0., 0., 0., 1., 0., 1., 0., 0.],\n",
              "       [0., 1., 0., 0., 0., 0., 0., 0., 0., 0., 0., 0., 0., 0., 0., 0.,\n",
              "        0., 0., 1., 0., 0., 0., 1., 0., 0., 0., 1.],\n",
              "       [0., 1., 0., 0., 0., 0., 0., 0., 0., 0., 0., 0., 0., 0., 0., 0.,\n",
              "        0., 0., 1., 0., 0., 0., 1., 0., 0., 0., 1.],\n",
              "       [0., 1., 0., 0., 0., 0., 0., 0., 0., 0., 0., 0., 0., 0., 0., 0.,\n",
              "        0., 0., 1., 0., 0., 0., 1., 0., 0., 0., 1.],\n",
              "       [0., 1., 0., 0., 0., 0., 0., 0., 0., 0., 0., 0., 0., 0., 0., 0.,\n",
              "        0., 0., 1., 0., 0., 0., 1., 0., 0., 0., 1.],\n",
              "       [0., 1., 0., 0., 0., 0., 0., 0., 0., 0., 0., 0., 0., 0., 0., 0.,\n",
              "        0., 0., 1., 0., 0., 0., 1., 0., 0., 0., 1.],\n",
              "       [0., 0., 0., 0., 0., 0., 0., 1., 0., 0., 0., 0., 0., 0., 0., 0.,\n",
              "        0., 0., 0., 0., 0., 0., 0., 1., 0., 0., 0.],\n",
              "       [0., 1., 0., 0., 0., 0., 0., 0., 0., 0., 0., 0., 0., 0., 0., 0.,\n",
              "        0., 0., 1., 0., 0., 0., 1., 0., 0., 0., 1.],\n",
              "       [0., 0., 0., 0., 1., 0., 0., 0., 0., 0., 0., 0., 0., 0., 0., 0.,\n",
              "        0., 0., 0., 0., 0., 0., 0., 1., 1., 0., 0.],\n",
              "       [0., 1., 0., 0., 0., 0., 0., 0., 0., 0., 0., 0., 0., 0., 0., 0.,\n",
              "        0., 0., 1., 0., 0., 0., 0., 1., 0., 0., 0.],\n",
              "       [0., 1., 0., 0., 0., 0., 0., 0., 0., 0., 0., 0., 0., 0., 0., 0.,\n",
              "        0., 0., 1., 0., 0., 0., 0., 1., 0., 0., 0.]], dtype=float32)>"
            ]
          },
          "metadata": {},
          "execution_count": 15
        }
      ],
      "source": [
        "graph_tensor.node_sets['atom']['atom_features']"
      ]
    },
    {
      "cell_type": "code",
      "execution_count": 16,
      "metadata": {
        "id": "5h7tLpgM9wIP",
        "colab": {
          "base_uri": "https://localhost:8080/"
        },
        "outputId": "3be8dab2-c460-4f0c-8b51-c2bd6106bc36"
      },
      "outputs": [
        {
          "output_type": "execute_result",
          "data": {
            "text/plain": [
              "<tf.Tensor: shape=(68, 12), dtype=float32, numpy=\n",
              "array([[0., 1., 0., 0., 1., 1., 1., 1., 1., 1., 1., 0.],\n",
              "       [0., 1., 0., 0., 1., 1., 1., 1., 1., 1., 1., 0.],\n",
              "       [1., 0., 0., 0., 1., 1., 1., 1., 1., 1., 1., 0.],\n",
              "       [1., 0., 0., 0., 1., 1., 1., 1., 1., 1., 1., 0.],\n",
              "       [1., 0., 0., 0., 1., 1., 1., 1., 1., 1., 1., 0.],\n",
              "       [1., 0., 0., 0., 1., 1., 1., 1., 1., 1., 1., 0.],\n",
              "       [1., 0., 0., 0., 1., 1., 1., 1., 1., 1., 1., 0.],\n",
              "       [1., 0., 0., 0., 1., 1., 1., 1., 1., 1., 1., 1.],\n",
              "       [1., 0., 0., 0., 1., 1., 1., 1., 1., 1., 1., 1.],\n",
              "       [1., 0., 0., 0., 1., 1., 1., 1., 1., 1., 1., 0.],\n",
              "       [1., 0., 0., 0., 1., 1., 1., 1., 1., 1., 1., 0.],\n",
              "       [1., 0., 0., 0., 1., 1., 1., 1., 1., 1., 1., 0.],\n",
              "       [0., 0., 0., 1., 1., 1., 1., 1., 1., 1., 1., 1.],\n",
              "       [0., 0., 0., 1., 1., 1., 1., 1., 1., 1., 1., 1.],\n",
              "       [0., 0., 0., 1., 1., 1., 1., 1., 1., 1., 1., 1.],\n",
              "       [0., 0., 0., 1., 1., 1., 1., 1., 1., 1., 1., 1.],\n",
              "       [0., 0., 0., 1., 1., 1., 1., 1., 1., 1., 1., 1.],\n",
              "       [0., 0., 0., 1., 1., 1., 1., 1., 1., 1., 1., 1.],\n",
              "       [0., 0., 0., 1., 1., 1., 1., 1., 1., 1., 1., 1.],\n",
              "       [0., 0., 0., 1., 1., 1., 1., 1., 1., 1., 1., 1.],\n",
              "       [0., 0., 0., 1., 1., 1., 1., 1., 1., 1., 1., 1.],\n",
              "       [1., 0., 0., 0., 1., 1., 1., 1., 1., 1., 1., 0.],\n",
              "       [0., 0., 0., 1., 1., 1., 1., 1., 1., 1., 1., 1.],\n",
              "       [1., 0., 0., 0., 1., 1., 1., 1., 1., 1., 1., 0.],\n",
              "       [1., 0., 0., 0., 1., 1., 1., 1., 1., 1., 1., 0.],\n",
              "       [1., 0., 0., 0., 1., 1., 1., 1., 1., 1., 1., 0.],\n",
              "       [0., 0., 0., 1., 1., 1., 1., 1., 1., 1., 1., 1.],\n",
              "       [0., 0., 0., 1., 1., 1., 1., 1., 1., 1., 1., 1.],\n",
              "       [0., 0., 0., 1., 1., 1., 1., 1., 1., 1., 1., 1.],\n",
              "       [0., 0., 0., 1., 1., 1., 1., 1., 1., 1., 1., 1.],\n",
              "       [0., 0., 0., 1., 1., 1., 1., 1., 1., 1., 1., 1.],\n",
              "       [0., 0., 0., 1., 1., 1., 1., 1., 1., 1., 1., 1.],\n",
              "       [0., 0., 0., 1., 1., 1., 1., 1., 1., 1., 1., 1.],\n",
              "       [0., 0., 0., 1., 1., 1., 1., 1., 1., 1., 1., 1.],\n",
              "       [0., 0., 0., 1., 1., 1., 1., 1., 1., 1., 1., 1.],\n",
              "       [0., 0., 0., 1., 1., 1., 1., 1., 1., 1., 1., 1.],\n",
              "       [0., 0., 0., 1., 1., 1., 1., 1., 1., 1., 1., 1.],\n",
              "       [0., 0., 0., 1., 1., 1., 1., 1., 1., 1., 1., 1.],\n",
              "       [1., 0., 0., 0., 1., 1., 1., 1., 1., 1., 1., 1.],\n",
              "       [1., 0., 0., 0., 1., 1., 1., 1., 1., 1., 1., 1.],\n",
              "       [1., 0., 0., 0., 1., 1., 1., 1., 1., 1., 1., 1.],\n",
              "       [1., 0., 0., 0., 1., 1., 1., 1., 1., 1., 1., 1.],\n",
              "       [1., 0., 0., 0., 1., 1., 1., 1., 1., 1., 1., 1.],\n",
              "       [1., 0., 0., 0., 1., 1., 1., 1., 1., 1., 1., 0.],\n",
              "       [1., 0., 0., 0., 1., 1., 1., 1., 1., 1., 1., 1.],\n",
              "       [1., 0., 0., 0., 1., 1., 1., 1., 1., 1., 1., 0.],\n",
              "       [1., 0., 0., 0., 1., 1., 1., 1., 1., 1., 1., 0.],\n",
              "       [1., 0., 0., 0., 1., 1., 1., 1., 1., 1., 1., 0.],\n",
              "       [0., 0., 0., 1., 1., 1., 1., 1., 1., 1., 1., 1.],\n",
              "       [0., 0., 0., 1., 1., 1., 1., 1., 1., 1., 1., 1.],\n",
              "       [0., 0., 0., 1., 1., 1., 1., 1., 1., 1., 1., 1.],\n",
              "       [0., 0., 0., 1., 1., 1., 1., 1., 1., 1., 1., 1.],\n",
              "       [0., 0., 0., 1., 1., 1., 1., 1., 1., 1., 1., 1.],\n",
              "       [0., 0., 0., 1., 1., 1., 1., 1., 1., 1., 1., 1.],\n",
              "       [0., 0., 0., 1., 1., 1., 1., 1., 1., 1., 1., 1.],\n",
              "       [0., 0., 0., 1., 1., 1., 1., 1., 1., 1., 1., 1.],\n",
              "       [0., 0., 0., 1., 1., 1., 1., 1., 1., 1., 1., 1.],\n",
              "       [1., 0., 0., 0., 1., 1., 1., 1., 1., 1., 1., 0.],\n",
              "       [0., 0., 0., 1., 1., 1., 1., 1., 1., 1., 1., 1.],\n",
              "       [1., 0., 0., 0., 1., 1., 1., 1., 1., 1., 1., 0.],\n",
              "       [0., 0., 0., 1., 1., 1., 1., 1., 1., 1., 1., 1.],\n",
              "       [0., 0., 0., 1., 1., 1., 1., 1., 1., 1., 1., 1.],\n",
              "       [1., 0., 0., 0., 1., 1., 1., 1., 1., 1., 1., 0.],\n",
              "       [1., 0., 0., 0., 1., 1., 1., 1., 1., 1., 1., 0.],\n",
              "       [1., 0., 0., 0., 1., 1., 1., 1., 1., 1., 1., 1.],\n",
              "       [1., 0., 0., 0., 1., 1., 1., 1., 1., 1., 1., 1.],\n",
              "       [1., 0., 0., 0., 1., 1., 1., 1., 1., 1., 1., 1.],\n",
              "       [1., 0., 0., 0., 1., 1., 1., 1., 1., 1., 1., 1.]], dtype=float32)>"
            ]
          },
          "metadata": {},
          "execution_count": 16
        }
      ],
      "source": [
        "graph_tensor.edge_sets['bond']['bond_features']"
      ]
    },
    {
      "cell_type": "code",
      "execution_count": 17,
      "metadata": {
        "id": "OK7rzbDB93n8",
        "colab": {
          "base_uri": "https://localhost:8080/"
        },
        "outputId": "1143258c-e9be-483f-caa1-04507121159b"
      },
      "outputs": [
        {
          "output_type": "execute_result",
          "data": {
            "text/plain": [
              "<tf.Tensor: shape=(68,), dtype=int32, numpy=\n",
              "array([ 0,  1,  1,  1,  2,  3,  3,  3,  3,  4,  4,  5,  5,  5,  6,  6,  7,\n",
              "        7,  8,  8,  9,  9,  9, 10, 10, 11, 11, 11, 12, 12, 13, 13, 14, 14,\n",
              "       15, 15, 16, 16, 17, 17, 18, 18, 19, 19, 19, 20, 20, 21, 21, 21, 22,\n",
              "       22, 23, 23, 24, 24, 25, 25, 25, 26, 27, 27, 27, 28, 29, 29, 30, 30],\n",
              "      dtype=int32)>"
            ]
          },
          "metadata": {},
          "execution_count": 17
        }
      ],
      "source": [
        "graph_tensor.edge_sets['bond'].adjacency.source"
      ]
    },
    {
      "cell_type": "code",
      "execution_count": 18,
      "metadata": {
        "id": "KHkieX0z97ZT",
        "colab": {
          "base_uri": "https://localhost:8080/"
        },
        "outputId": "46570491-f527-42e9-f66a-76929efb67a7"
      },
      "outputs": [
        {
          "output_type": "execute_result",
          "data": {
            "text/plain": [
              "<tf.Tensor: shape=(68,), dtype=int32, numpy=\n",
              "array([ 1,  0,  2,  3,  1,  1,  4, 17, 30,  3,  5,  4,  6, 16,  5,  7,  6,\n",
              "        8,  7,  9,  8, 10, 16,  9, 11, 10, 12, 15, 11, 13, 12, 14, 13, 15,\n",
              "       11, 14,  5,  9,  3, 18, 17, 19, 18, 20, 29, 19, 21, 20, 22, 27, 21,\n",
              "       23, 22, 24, 23, 25, 24, 26, 27, 25, 21, 25, 28, 27, 19, 30,  3, 29],\n",
              "      dtype=int32)>"
            ]
          },
          "metadata": {},
          "execution_count": 18
        }
      ],
      "source": [
        "graph_tensor.edge_sets['bond'].adjacency.target"
      ]
    },
    {
      "cell_type": "code",
      "execution_count": 19,
      "metadata": {
        "id": "nno1mql698-8"
      },
      "outputs": [],
      "source": [
        "def draw_molecule(graph_tensor):\n",
        "    \"\"\"\n",
        "    Plot the `GraphTensor` representation of a molecule.\n",
        "    \"\"\"\n",
        "    (molecule_id,) = graph_tensor.context['molecule_id'].numpy()\n",
        "    (toxicity,) = graph_tensor.context['toxicity'].numpy()\n",
        "\n",
        "    sources = graph_tensor.edge_sets['bond'].adjacency.source.numpy()\n",
        "    targets = graph_tensor.edge_sets['bond'].adjacency.target.numpy()\n",
        "\n",
        "    pgvGraph = pgv.AGraph()\n",
        "    pgvGraph.graph_attr['label'] = f'toxicity = {toxicity}\\n\\nmolecule_id = {molecule_id.decode()}'\n",
        "\n",
        "    for edge in zip(sources, targets):\n",
        "        pgvGraph.add_edge(edge)\n",
        "\n",
        "    return Image(pgvGraph.draw(format='png', prog='dot'))"
      ]
    },
    {
      "cell_type": "code",
      "execution_count": 20,
      "metadata": {
        "id": "6VUx8pIf-eWd",
        "colab": {
          "base_uri": "https://localhost:8080/",
          "height": 1000
        },
        "outputId": "8a99f6e7-38b3-4cd7-c444-6e9bd4d8940d"
      },
      "outputs": [
        {
          "output_type": "execute_result",
          "data": {
            "image/png": "[encoded data removed]",
            "text/plain": [
              "<IPython.core.display.Image object>"
            ]
          },
          "metadata": {},
          "execution_count": 20
        }
      ],
      "source": [
        "draw_molecule(graph_tensor)"
      ]
    },
    {
      "cell_type": "markdown",
      "source": [
        "GNN PreProcesing Layer\n"
      ],
      "metadata": {
        "id": "a4RZSFRY5mw4"
      }
    },
    {
      "cell_type": "code",
      "execution_count": 21,
      "metadata": {
        "id": "fVKJ4eWft92e"
      },
      "outputs": [],
      "source": [
        "def get_initial_map_features(hidden_size, activation='relu'):\n",
        "    \"\"\"\n",
        "    Initial pre-processing layer for a GNN (use as a class constructor).\n",
        "    \"\"\"\n",
        "    def node_sets_fn(node_set, node_set_name):\n",
        "        if node_set_name == 'atom':\n",
        "            return tf.keras.layers.Dense(units=hidden_size, activation=activation)(node_set['atom_features'])\n",
        "\n",
        "    def edge_sets_fn(edge_set, edge_set_name):\n",
        "        if edge_set_name == 'bond':\n",
        "            return tf.keras.layers.Dense(units=hidden_size, activation=activation)(edge_set['bond_features'])\n",
        "\n",
        "    return tfgnn.keras.layers.MapFeatures(node_sets_fn=node_sets_fn,\n",
        "                                          edge_sets_fn=edge_sets_fn,\n",
        "                                          name='graph_embedding')"
      ]
    },
    {
      "cell_type": "code",
      "execution_count": 22,
      "metadata": {
        "id": "3AwRxOBzyVdK"
      },
      "outputs": [],
      "source": [
        "graph_embedding = get_initial_map_features(hidden_size=128)\n",
        "#sets the number of hidden units in the dense layers to 128"
      ]
    },
    {
      "cell_type": "code",
      "execution_count": 23,
      "metadata": {
        "id": "1pTixCBq78M7"
      },
      "outputs": [],
      "source": [
        "batch_size = 64\n",
        "batched_train_dataset = train_dataset.batch(batch_size)\n",
        "#grouping consecutive elements of the dataset into batches. The batch_size parameter determines the number of elements in each batch."
      ]
    },
    {
      "cell_type": "code",
      "execution_count": 24,
      "metadata": {
        "id": "-LIuPLR8748S",
        "colab": {
          "base_uri": "https://localhost:8080/"
        },
        "outputId": "9aba32b1-a0bd-4728-ba7a-bd13ec54ec6e"
      },
      "outputs": [
        {
          "output_type": "execute_result",
          "data": {
            "text/plain": [
              "1"
            ]
          },
          "metadata": {},
          "execution_count": 24
        }
      ],
      "source": [
        "graph_tensor_batch = next(iter(batched_train_dataset))\n",
        "graph_tensor_batch.rank"
      ]
    },
    {
      "cell_type": "code",
      "execution_count": 25,
      "metadata": {
        "id": "IHMXJ5x_7zAT",
        "colab": {
          "base_uri": "https://localhost:8080/"
        },
        "outputId": "a8d7c908-e834-4d34-862c-31e0a75558a4"
      },
      "outputs": [
        {
          "output_type": "execute_result",
          "data": {
            "text/plain": [
              "TensorShape([64, None, 12])"
            ]
          },
          "metadata": {},
          "execution_count": 25
        }
      ],
      "source": [
        "graph_tensor_batch.node_sets['atom']['atom_features'].shape\n",
        "graph_tensor_batch.edge_sets['bond']['bond_features'].shape"
      ]
    },
    {
      "cell_type": "code",
      "execution_count": 26,
      "metadata": {
        "id": "oCCKlwA67vNq",
        "colab": {
          "base_uri": "https://localhost:8080/"
        },
        "outputId": "acba9171-f54b-4fa5-b2a9-63cfc3e25616"
      },
      "outputs": [
        {
          "output_type": "execute_result",
          "data": {
            "text/plain": [
              "0"
            ]
          },
          "metadata": {},
          "execution_count": 26
        }
      ],
      "source": [
        "scalar_graph_tensor = graph_tensor_batch.merge_batch_to_components()\n",
        "scalar_graph_tensor.rank"
      ]
    },
    {
      "cell_type": "code",
      "execution_count": 27,
      "metadata": {
        "id": "amPWYEBqyXHB"
      },
      "outputs": [],
      "source": [
        "embedded_graph = graph_embedding(scalar_graph_tensor)\n",
        "#It passes the scalar_graph_tensor through the graph_embedding layer to obtain the embedded representation of the graph."
      ]
    },
    {
      "cell_type": "code",
      "execution_count": 28,
      "metadata": {
        "id": "5gxYg1S1yY7h",
        "colab": {
          "base_uri": "https://localhost:8080/"
        },
        "outputId": "888dac3a-02a3-494e-94e4-ce27913b3108"
      },
      "outputs": [
        {
          "output_type": "execute_result",
          "data": {
            "text/plain": [
              "{'hidden_state': <tf.Tensor: shape=(1562, 128), dtype=float32, numpy=\n",
              "array([[0.        , 0.        , 0.2505649 , ..., 0.13627534, 0.0054878 ,\n",
              "        0.        ],\n",
              "       [0.        , 0.        , 0.10854989, ..., 0.281776  , 0.        ,\n",
              "        0.        ],\n",
              "       [0.        , 0.        , 0.10854989, ..., 0.281776  , 0.        ,\n",
              "        0.        ],\n",
              "       ...,\n",
              "       [0.        , 0.        , 0.57229686, ..., 0.21351361, 0.        ,\n",
              "        0.1424334 ],\n",
              "       [0.        , 0.        , 0.6335486 , ..., 0.5030669 , 0.        ,\n",
              "        0.        ],\n",
              "       [0.        , 0.        , 0.45647454, ..., 0.56208825, 0.        ,\n",
              "        0.        ]], dtype=float32)>}"
            ]
          },
          "metadata": {},
          "execution_count": 28
        }
      ],
      "source": [
        "embedded_graph.node_sets['atom'].features"
      ]
    },
    {
      "cell_type": "code",
      "execution_count": 29,
      "metadata": {
        "id": "3vrDfp-Sybbr",
        "colab": {
          "base_uri": "https://localhost:8080/"
        },
        "outputId": "02e8c8dc-08b8-4415-a3db-f1dff5e206dd"
      },
      "outputs": [
        {
          "output_type": "execute_result",
          "data": {
            "text/plain": [
              "{'hidden_state': <tf.Tensor: shape=(3370, 128), dtype=float32, numpy=\n",
              "array([[0.        , 0.4103431 , 0.        , ..., 0.10970341, 0.4382473 ,\n",
              "        0.        ],\n",
              "       [0.        , 0.4103431 , 0.        , ..., 0.10970341, 0.4382473 ,\n",
              "        0.        ],\n",
              "       [0.        , 0.09852085, 0.        , ..., 0.06564828, 0.15134813,\n",
              "        0.        ],\n",
              "       ...,\n",
              "       [0.        , 0.24268883, 0.        , ..., 0.17677099, 0.4252922 ,\n",
              "        0.        ],\n",
              "       [0.        , 0.24268883, 0.        , ..., 0.17677099, 0.4252922 ,\n",
              "        0.        ],\n",
              "       [0.        , 0.24268883, 0.        , ..., 0.17677099, 0.4252922 ,\n",
              "        0.        ]], dtype=float32)>}"
            ]
          },
          "metadata": {},
          "execution_count": 29
        }
      ],
      "source": [
        "embedded_graph.edge_sets['bond'].features"
      ]
    },
    {
      "cell_type": "code",
      "execution_count": 30,
      "metadata": {
        "id": "mZ5oZoa0yd_g"
      },
      "outputs": [],
      "source": [
        "class MPNN(tf.keras.layers.Layer):\n",
        "    \"\"\"\n",
        "    A basic stack of message-passing Graph Attention layers.\n",
        "    \"\"\"\n",
        "    def __init__(self, hidden_size, hops, name='gat_mpnn', **kwargs):\n",
        "        self.hidden_size = hidden_size\n",
        "        self.hops = hops\n",
        "        super().__init__(name=name, **kwargs)\n",
        "\n",
        "        self.mp_layers = [self._mp_factory(name=f'message_passing_{i}') for i in range(hops)]\n",
        "\n",
        "    def _mp_factory(self, name):\n",
        "        return gat_v2.GATv2GraphUpdate(num_heads=1,\n",
        "                                       per_head_channels=self.hidden_size,\n",
        "                                       edge_set_name='bond',\n",
        "                                       sender_edge_feature=tfgnn.HIDDEN_STATE,\n",
        "                                       name=name)\n",
        "\n",
        "    def get_config(self):\n",
        "        config = super().get_config()\n",
        "        config.update({\n",
        "            'hidden_size': self.hidden_size,\n",
        "            'hops': self.hops\n",
        "        })\n",
        "        return config\n",
        "\n",
        "    def call(self, graph_tensor):\n",
        "        for layer in self.mp_layers:\n",
        "            graph_tensor = layer(graph_tensor)\n",
        "        return graph_tensor"
      ]
    },
    {
      "cell_type": "code",
      "execution_count": 31,
      "metadata": {
        "id": "GC2Zp_7vyozZ"
      },
      "outputs": [],
      "source": [
        "mpnn = MPNN(hidden_size=128, hops=20)"
      ]
    },
    {
      "cell_type": "code",
      "execution_count": 32,
      "metadata": {
        "id": "u3mclKVwyjhp"
      },
      "outputs": [],
      "source": [
        "def vanilla_mpnn_model(graph_tensor_spec, init_states_fn, pass_messages_fn):\n",
        "    \"\"\"\n",
        "    Chain an initialization layer and a message-passing stack to produce a `tf.keras.Model`.\n",
        "    \"\"\"\n",
        "    graph_tensor = tf.keras.layers.Input(type_spec=graph_tensor_spec)\n",
        "    embedded_graph = init_states_fn(graph_tensor)\n",
        "    hidden_graph = pass_messages_fn(embedded_graph)\n",
        "    return tf.keras.Model(inputs=graph_tensor, outputs=hidden_graph)"
      ]
    },
    {
      "cell_type": "code",
      "execution_count": 33,
      "metadata": {
        "id": "E0Tww766yk_o",
        "colab": {
          "base_uri": "https://localhost:8080/"
        },
        "outputId": "a5d1938b-156f-4acd-89a9-361408b4a4c4"
      },
      "outputs": [
        {
          "output_type": "stream",
          "name": "stdout",
          "text": [
            "Model: \"model_2\"\n",
            "_________________________________________________________________\n",
            " Layer (type)                Output Shape              Param #   \n",
            "=================================================================\n",
            " input_3 (InputLayer)        [()]                      0         \n",
            "                                                                 \n",
            " graph_embedding (MapFeature  ()                       5248      \n",
            " s)                                                              \n",
            "                                                                 \n",
            " gat_mpnn (MPNN)             ()                        990720    \n",
            "                                                                 \n",
            "=================================================================\n",
            "Total params: 995,968\n",
            "Trainable params: 995,968\n",
            "Non-trainable params: 0\n",
            "_________________________________________________________________\n"
          ]
        }
      ],
      "source": [
        "model = vanilla_mpnn_model(graph_tensor_spec=graph_spec,\n",
        "                           init_states_fn=graph_embedding,\n",
        "                           pass_messages_fn=mpnn)\n",
        "model.summary()"
      ]
    },
    {
      "cell_type": "code",
      "execution_count": 34,
      "metadata": {
        "id": "zIqoetFf9JpE"
      },
      "outputs": [],
      "source": [
        "def get_model_creation_fn(hidden_size, hops, activation='relu', l2_coefficient=1e-3):\n",
        "    \"\"\"\n",
        "    Return a model constructor for a given set of hyperparameters.\n",
        "    \"\"\"\n",
        "    def model_creation_fn(graph_tensor_spec):\n",
        "        initial_map_features = get_initial_map_features(hidden_size=hidden_size, activation=activation)\n",
        "        mpnn = MPNN(hidden_size=hidden_size, hops=hops)\n",
        "\n",
        "        model = vanilla_mpnn_model(graph_tensor_spec=graph_tensor_spec,\n",
        "                                   init_states_fn=initial_map_features,\n",
        "                                   pass_messages_fn=mpnn)\n",
        "        model.add_loss(lambda: tf.reduce_sum([tf.keras.regularizers.l2(l2=l2_coefficient)(weight) for weight in model.trainable_weights]))\n",
        "        return model\n",
        "    return model_creation_fn"
      ]
    },
    {
      "cell_type": "code",
      "execution_count": 35,
      "metadata": {
        "id": "IVhzdGi99PFi"
      },
      "outputs": [],
      "source": [
        "mpnn_creation_fn = get_model_creation_fn(hidden_size=256, hops=16)"
      ]
    },
    {
      "cell_type": "code",
      "execution_count": 36,
      "metadata": {
        "id": "g5C-R8fr9Qmq",
        "colab": {
          "base_uri": "https://localhost:8080/"
        },
        "outputId": "4350e0c2-fa23-4ab1-9e46-2f3f17a79d9d"
      },
      "outputs": [
        {
          "output_type": "stream",
          "name": "stdout",
          "text": [
            "Model: \"model_3\"\n",
            "_________________________________________________________________\n",
            " Layer (type)                Output Shape              Param #   \n",
            "=================================================================\n",
            " input_4 (InputLayer)        [()]                      0         \n",
            "                                                                 \n",
            " graph_embedding (MapFeature  ()                       10496     \n",
            " s)                                                              \n",
            "                                                                 \n",
            " gat_mpnn (MPNN)             ()                        3158016   \n",
            "                                                                 \n",
            "=================================================================\n",
            "Total params: 3,168,512\n",
            "Trainable params: 3,168,512\n",
            "Non-trainable params: 0\n",
            "_________________________________________________________________\n"
          ]
        }
      ],
      "source": [
        "model = mpnn_creation_fn(graph_spec)\n",
        "model.summary()\n",
        "model.compile()\n"
      ]
    },
    {
      "cell_type": "code",
      "execution_count": 37,
      "metadata": {
        "id": "kW6uKS_-9SLi"
      },
      "outputs": [],
      "source": [
        "def extract_labels(graph_tensor):\n",
        "    \"\"\"\n",
        "    Extract the toxicity class label from the `GraphTensor` representation of a molecule.\n",
        "    Return a pair compatible with the `tf.keras.Model.fit` method.\n",
        "    \"\"\"\n",
        "    return graph_tensor, graph_tensor.context['toxicity']"
      ]
    },
    {
      "cell_type": "code",
      "execution_count": 38,
      "metadata": {
        "id": "aypdbpInAntN"
      },
      "outputs": [],
      "source": [
        "class GraphBinaryClassification(runner.GraphBinaryClassification):\n",
        "    \"\"\"\n",
        "    A GraphBinaryClassification task with a hidden layer in the prediction head, and additional metrics.\n",
        "    \"\"\"\n",
        "    def __init__(self, hidden_dim, *args, **kwargs):\n",
        "        self._hidden_dim = hidden_dim\n",
        "        super().__init__(*args, **kwargs)\n",
        "\n",
        "    def adapt(self, model):\n",
        "        hidden_state = tfgnn.pool_nodes_to_context(model.output,\n",
        "                                                   node_set_name=self._node_set_name,\n",
        "                                                   reduce_type=self._reduce_type,\n",
        "                                                   feature_name=self._state_name)\n",
        "\n",
        "        hidden_state = tf.keras.layers.Dense(units=self._hidden_dim, activation='relu', name='hidden_layer')(hidden_state)\n",
        "\n",
        "        logits = tf.keras.layers.Dense(units=self._units, name='logits')(hidden_state)\n",
        "\n",
        "        return tf.keras.Model(inputs=model.inputs, outputs=logits)\n",
        "\n",
        "    def metrics(self):\n",
        "        return (*super().metrics(), AUROC(name='AUROC'))"
      ]
    },
    {
      "cell_type": "code",
      "execution_count": 39,
      "metadata": {
        "id": "LN5B71VmAkd9"
      },
      "outputs": [],
      "source": [
        "task = GraphBinaryClassification(hidden_dim=256, node_set_name='atom', num_classes=2)"
      ]
    },
    {
      "cell_type": "code",
      "execution_count": 40,
      "metadata": {
        "id": "MWKjWXGpAwCF"
      },
      "outputs": [],
      "source": [
        "trainer = runner.KerasTrainer(strategy=tf.distribute.get_strategy(), model_dir='model')"
      ]
    },
    {
      "cell_type": "code",
      "execution_count": 41,
      "metadata": {
        "id": "cAKulEpHLNhb"
      },
      "outputs": [],
      "source": [
        "class AUROC(tf.keras.metrics.AUC):\n",
        "    \"\"\"\n",
        "    AUROC metric computation for binary classification from logits.\n",
        "\n",
        "    y_true: true labels, with shape (batch_size,)\n",
        "    y_pred: predicted logits, with shape (batch_size, 2)\n",
        "    \"\"\"\n",
        "    def update_state(self, y_true, y_pred, sample_weight=None):\n",
        "        super().update_state(y_true, tf.math.softmax(y_pred, axis=-1)[:,1])"
      ]
    },
    {
      "cell_type": "code",
      "execution_count": 42,
      "metadata": {
        "id": "3lcIgDOALPrS"
      },
      "outputs": [],
      "source": [
        "class GraphBinaryClassification(runner.GraphBinaryClassification):\n",
        "    \"\"\"\n",
        "    A GraphBinaryClassification task with a hidden layer in the prediction head, and additional metrics.\n",
        "    \"\"\"\n",
        "    def __init__(self, hidden_dim, *args, **kwargs):\n",
        "        self._hidden_dim = hidden_dim\n",
        "        super().__init__(*args, **kwargs)\n",
        "\n",
        "    def adapt(self, model):\n",
        "        hidden_state = tfgnn.pool_nodes_to_context(model.output,\n",
        "                                                   node_set_name=self._node_set_name,\n",
        "                                                   reduce_type=self._reduce_type,\n",
        "                                                   feature_name=self._state_name)\n",
        "\n",
        "        hidden_state = tf.keras.layers.Dense(units=self._hidden_dim, activation='relu', name='hidden_layer')(hidden_state)\n",
        "\n",
        "        logits = tf.keras.layers.Dense(units=self._units, name='logits')(hidden_state)\n",
        "\n",
        "        return tf.keras.Model(inputs=model.inputs, outputs=logits)\n"
      ]
    },
    {
      "cell_type": "code",
      "execution_count": 43,
      "metadata": {
        "colab": {
          "base_uri": "https://localhost:8080/"
        },
        "id": "3EX7c8AXAar7",
        "outputId": "13f8b65c-b588-4c5e-f7b1-1d6766745b89"
      },
      "outputs": [
        {
          "output_type": "stream",
          "name": "stdout",
          "text": [
            "Epoch 1/100\n"
          ]
        },
        {
          "output_type": "stream",
          "name": "stderr",
          "text": [
            "/usr/local/lib/python3.10/dist-packages/tensorflow/python/framework/indexed_slices.py:444: UserWarning: Converting sparse IndexedSlices(IndexedSlices(indices=Tensor(\"gradient_tape/model_6/gat_mpnn/message_passing_15/node_set_update_15/gat_v2_conv/Reshape_3:0\", shape=(None,), dtype=int32), values=Tensor(\"gradient_tape/model_6/gat_mpnn/message_passing_15/node_set_update_15/gat_v2_conv/Reshape_2:0\", shape=(None, 1, 1), dtype=float32), dense_shape=Tensor(\"gradient_tape/model_6/gat_mpnn/message_passing_15/node_set_update_15/gat_v2_conv/Cast:0\", shape=(3,), dtype=int32))) to a dense Tensor of unknown shape. This may consume a large amount of memory.\n",
            "  warnings.warn(\n",
            "/usr/local/lib/python3.10/dist-packages/tensorflow/python/framework/indexed_slices.py:444: UserWarning: Converting sparse IndexedSlices(IndexedSlices(indices=Tensor(\"gradient_tape/model_6/gat_mpnn/message_passing_15/node_set_update_15/gat_v2_conv/Reshape_6:0\", shape=(None,), dtype=int32), values=Tensor(\"gradient_tape/model_6/gat_mpnn/message_passing_15/node_set_update_15/gat_v2_conv/Reshape_5:0\", shape=(None, 1, 1), dtype=float32), dense_shape=Tensor(\"gradient_tape/model_6/gat_mpnn/message_passing_15/node_set_update_15/gat_v2_conv/Cast_1:0\", shape=(3,), dtype=int32))) to a dense Tensor of unknown shape. This may consume a large amount of memory.\n",
            "  warnings.warn(\n",
            "/usr/local/lib/python3.10/dist-packages/tensorflow/python/framework/indexed_slices.py:444: UserWarning: Converting sparse IndexedSlices(IndexedSlices(indices=Tensor(\"gradient_tape/model_6/gat_mpnn/message_passing_14/node_set_update_14/gat_v2_conv/Reshape_3:0\", shape=(None,), dtype=int32), values=Tensor(\"gradient_tape/model_6/gat_mpnn/message_passing_14/node_set_update_14/gat_v2_conv/Reshape_2:0\", shape=(None, 1, 1), dtype=float32), dense_shape=Tensor(\"gradient_tape/model_6/gat_mpnn/message_passing_14/node_set_update_14/gat_v2_conv/Cast:0\", shape=(3,), dtype=int32))) to a dense Tensor of unknown shape. This may consume a large amount of memory.\n",
            "  warnings.warn(\n",
            "/usr/local/lib/python3.10/dist-packages/tensorflow/python/framework/indexed_slices.py:444: UserWarning: Converting sparse IndexedSlices(IndexedSlices(indices=Tensor(\"gradient_tape/model_6/gat_mpnn/message_passing_14/node_set_update_14/gat_v2_conv/Reshape_6:0\", shape=(None,), dtype=int32), values=Tensor(\"gradient_tape/model_6/gat_mpnn/message_passing_14/node_set_update_14/gat_v2_conv/Reshape_5:0\", shape=(None, 1, 1), dtype=float32), dense_shape=Tensor(\"gradient_tape/model_6/gat_mpnn/message_passing_14/node_set_update_14/gat_v2_conv/Cast_1:0\", shape=(3,), dtype=int32))) to a dense Tensor of unknown shape. This may consume a large amount of memory.\n",
            "  warnings.warn(\n",
            "/usr/local/lib/python3.10/dist-packages/tensorflow/python/framework/indexed_slices.py:444: UserWarning: Converting sparse IndexedSlices(IndexedSlices(indices=Tensor(\"gradient_tape/model_6/gat_mpnn/message_passing_13/node_set_update_13/gat_v2_conv/Reshape_3:0\", shape=(None,), dtype=int32), values=Tensor(\"gradient_tape/model_6/gat_mpnn/message_passing_13/node_set_update_13/gat_v2_conv/Reshape_2:0\", shape=(None, 1, 1), dtype=float32), dense_shape=Tensor(\"gradient_tape/model_6/gat_mpnn/message_passing_13/node_set_update_13/gat_v2_conv/Cast:0\", shape=(3,), dtype=int32))) to a dense Tensor of unknown shape. This may consume a large amount of memory.\n",
            "  warnings.warn(\n",
            "/usr/local/lib/python3.10/dist-packages/tensorflow/python/framework/indexed_slices.py:444: UserWarning: Converting sparse IndexedSlices(IndexedSlices(indices=Tensor(\"gradient_tape/model_6/gat_mpnn/message_passing_13/node_set_update_13/gat_v2_conv/Reshape_6:0\", shape=(None,), dtype=int32), values=Tensor(\"gradient_tape/model_6/gat_mpnn/message_passing_13/node_set_update_13/gat_v2_conv/Reshape_5:0\", shape=(None, 1, 1), dtype=float32), dense_shape=Tensor(\"gradient_tape/model_6/gat_mpnn/message_passing_13/node_set_update_13/gat_v2_conv/Cast_1:0\", shape=(3,), dtype=int32))) to a dense Tensor of unknown shape. This may consume a large amount of memory.\n",
            "  warnings.warn(\n",
            "/usr/local/lib/python3.10/dist-packages/tensorflow/python/framework/indexed_slices.py:444: UserWarning: Converting sparse IndexedSlices(IndexedSlices(indices=Tensor(\"gradient_tape/model_6/gat_mpnn/message_passing_12/node_set_update_12/gat_v2_conv/Reshape_3:0\", shape=(None,), dtype=int32), values=Tensor(\"gradient_tape/model_6/gat_mpnn/message_passing_12/node_set_update_12/gat_v2_conv/Reshape_2:0\", shape=(None, 1, 1), dtype=float32), dense_shape=Tensor(\"gradient_tape/model_6/gat_mpnn/message_passing_12/node_set_update_12/gat_v2_conv/Cast:0\", shape=(3,), dtype=int32))) to a dense Tensor of unknown shape. This may consume a large amount of memory.\n",
            "  warnings.warn(\n",
            "/usr/local/lib/python3.10/dist-packages/tensorflow/python/framework/indexed_slices.py:444: UserWarning: Converting sparse IndexedSlices(IndexedSlices(indices=Tensor(\"gradient_tape/model_6/gat_mpnn/message_passing_12/node_set_update_12/gat_v2_conv/Reshape_6:0\", shape=(None,), dtype=int32), values=Tensor(\"gradient_tape/model_6/gat_mpnn/message_passing_12/node_set_update_12/gat_v2_conv/Reshape_5:0\", shape=(None, 1, 1), dtype=float32), dense_shape=Tensor(\"gradient_tape/model_6/gat_mpnn/message_passing_12/node_set_update_12/gat_v2_conv/Cast_1:0\", shape=(3,), dtype=int32))) to a dense Tensor of unknown shape. This may consume a large amount of memory.\n",
            "  warnings.warn(\n",
            "/usr/local/lib/python3.10/dist-packages/tensorflow/python/framework/indexed_slices.py:444: UserWarning: Converting sparse IndexedSlices(IndexedSlices(indices=Tensor(\"gradient_tape/model_6/gat_mpnn/message_passing_11/node_set_update_11/gat_v2_conv/Reshape_3:0\", shape=(None,), dtype=int32), values=Tensor(\"gradient_tape/model_6/gat_mpnn/message_passing_11/node_set_update_11/gat_v2_conv/Reshape_2:0\", shape=(None, 1, 1), dtype=float32), dense_shape=Tensor(\"gradient_tape/model_6/gat_mpnn/message_passing_11/node_set_update_11/gat_v2_conv/Cast:0\", shape=(3,), dtype=int32))) to a dense Tensor of unknown shape. This may consume a large amount of memory.\n",
            "  warnings.warn(\n",
            "/usr/local/lib/python3.10/dist-packages/tensorflow/python/framework/indexed_slices.py:444: UserWarning: Converting sparse IndexedSlices(IndexedSlices(indices=Tensor(\"gradient_tape/model_6/gat_mpnn/message_passing_11/node_set_update_11/gat_v2_conv/Reshape_6:0\", shape=(None,), dtype=int32), values=Tensor(\"gradient_tape/model_6/gat_mpnn/message_passing_11/node_set_update_11/gat_v2_conv/Reshape_5:0\", shape=(None, 1, 1), dtype=float32), dense_shape=Tensor(\"gradient_tape/model_6/gat_mpnn/message_passing_11/node_set_update_11/gat_v2_conv/Cast_1:0\", shape=(3,), dtype=int32))) to a dense Tensor of unknown shape. This may consume a large amount of memory.\n",
            "  warnings.warn(\n",
            "/usr/local/lib/python3.10/dist-packages/tensorflow/python/framework/indexed_slices.py:444: UserWarning: Converting sparse IndexedSlices(IndexedSlices(indices=Tensor(\"gradient_tape/model_6/gat_mpnn/message_passing_10/node_set_update_10/gat_v2_conv/Reshape_3:0\", shape=(None,), dtype=int32), values=Tensor(\"gradient_tape/model_6/gat_mpnn/message_passing_10/node_set_update_10/gat_v2_conv/Reshape_2:0\", shape=(None, 1, 1), dtype=float32), dense_shape=Tensor(\"gradient_tape/model_6/gat_mpnn/message_passing_10/node_set_update_10/gat_v2_conv/Cast:0\", shape=(3,), dtype=int32))) to a dense Tensor of unknown shape. This may consume a large amount of memory.\n",
            "  warnings.warn(\n",
            "/usr/local/lib/python3.10/dist-packages/tensorflow/python/framework/indexed_slices.py:444: UserWarning: Converting sparse IndexedSlices(IndexedSlices(indices=Tensor(\"gradient_tape/model_6/gat_mpnn/message_passing_10/node_set_update_10/gat_v2_conv/Reshape_6:0\", shape=(None,), dtype=int32), values=Tensor(\"gradient_tape/model_6/gat_mpnn/message_passing_10/node_set_update_10/gat_v2_conv/Reshape_5:0\", shape=(None, 1, 1), dtype=float32), dense_shape=Tensor(\"gradient_tape/model_6/gat_mpnn/message_passing_10/node_set_update_10/gat_v2_conv/Cast_1:0\", shape=(3,), dtype=int32))) to a dense Tensor of unknown shape. This may consume a large amount of memory.\n",
            "  warnings.warn(\n",
            "/usr/local/lib/python3.10/dist-packages/tensorflow/python/framework/indexed_slices.py:444: UserWarning: Converting sparse IndexedSlices(IndexedSlices(indices=Tensor(\"gradient_tape/model_6/gat_mpnn/message_passing_9/node_set_update_9/gat_v2_conv/Reshape_3:0\", shape=(None,), dtype=int32), values=Tensor(\"gradient_tape/model_6/gat_mpnn/message_passing_9/node_set_update_9/gat_v2_conv/Reshape_2:0\", shape=(None, 1, 1), dtype=float32), dense_shape=Tensor(\"gradient_tape/model_6/gat_mpnn/message_passing_9/node_set_update_9/gat_v2_conv/Cast:0\", shape=(3,), dtype=int32))) to a dense Tensor of unknown shape. This may consume a large amount of memory.\n",
            "  warnings.warn(\n",
            "/usr/local/lib/python3.10/dist-packages/tensorflow/python/framework/indexed_slices.py:444: UserWarning: Converting sparse IndexedSlices(IndexedSlices(indices=Tensor(\"gradient_tape/model_6/gat_mpnn/message_passing_9/node_set_update_9/gat_v2_conv/Reshape_6:0\", shape=(None,), dtype=int32), values=Tensor(\"gradient_tape/model_6/gat_mpnn/message_passing_9/node_set_update_9/gat_v2_conv/Reshape_5:0\", shape=(None, 1, 1), dtype=float32), dense_shape=Tensor(\"gradient_tape/model_6/gat_mpnn/message_passing_9/node_set_update_9/gat_v2_conv/Cast_1:0\", shape=(3,), dtype=int32))) to a dense Tensor of unknown shape. This may consume a large amount of memory.\n",
            "  warnings.warn(\n",
            "/usr/local/lib/python3.10/dist-packages/tensorflow/python/framework/indexed_slices.py:444: UserWarning: Converting sparse IndexedSlices(IndexedSlices(indices=Tensor(\"gradient_tape/model_6/gat_mpnn/message_passing_8/node_set_update_8/gat_v2_conv/Reshape_3:0\", shape=(None,), dtype=int32), values=Tensor(\"gradient_tape/model_6/gat_mpnn/message_passing_8/node_set_update_8/gat_v2_conv/Reshape_2:0\", shape=(None, 1, 1), dtype=float32), dense_shape=Tensor(\"gradient_tape/model_6/gat_mpnn/message_passing_8/node_set_update_8/gat_v2_conv/Cast:0\", shape=(3,), dtype=int32))) to a dense Tensor of unknown shape. This may consume a large amount of memory.\n",
            "  warnings.warn(\n",
            "/usr/local/lib/python3.10/dist-packages/tensorflow/python/framework/indexed_slices.py:444: UserWarning: Converting sparse IndexedSlices(IndexedSlices(indices=Tensor(\"gradient_tape/model_6/gat_mpnn/message_passing_8/node_set_update_8/gat_v2_conv/Reshape_6:0\", shape=(None,), dtype=int32), values=Tensor(\"gradient_tape/model_6/gat_mpnn/message_passing_8/node_set_update_8/gat_v2_conv/Reshape_5:0\", shape=(None, 1, 1), dtype=float32), dense_shape=Tensor(\"gradient_tape/model_6/gat_mpnn/message_passing_8/node_set_update_8/gat_v2_conv/Cast_1:0\", shape=(3,), dtype=int32))) to a dense Tensor of unknown shape. This may consume a large amount of memory.\n",
            "  warnings.warn(\n",
            "/usr/local/lib/python3.10/dist-packages/tensorflow/python/framework/indexed_slices.py:444: UserWarning: Converting sparse IndexedSlices(IndexedSlices(indices=Tensor(\"gradient_tape/model_6/gat_mpnn/message_passing_7/node_set_update_7/gat_v2_conv/Reshape_3:0\", shape=(None,), dtype=int32), values=Tensor(\"gradient_tape/model_6/gat_mpnn/message_passing_7/node_set_update_7/gat_v2_conv/Reshape_2:0\", shape=(None, 1, 1), dtype=float32), dense_shape=Tensor(\"gradient_tape/model_6/gat_mpnn/message_passing_7/node_set_update_7/gat_v2_conv/Cast:0\", shape=(3,), dtype=int32))) to a dense Tensor of unknown shape. This may consume a large amount of memory.\n",
            "  warnings.warn(\n",
            "/usr/local/lib/python3.10/dist-packages/tensorflow/python/framework/indexed_slices.py:444: UserWarning: Converting sparse IndexedSlices(IndexedSlices(indices=Tensor(\"gradient_tape/model_6/gat_mpnn/message_passing_7/node_set_update_7/gat_v2_conv/Reshape_6:0\", shape=(None,), dtype=int32), values=Tensor(\"gradient_tape/model_6/gat_mpnn/message_passing_7/node_set_update_7/gat_v2_conv/Reshape_5:0\", shape=(None, 1, 1), dtype=float32), dense_shape=Tensor(\"gradient_tape/model_6/gat_mpnn/message_passing_7/node_set_update_7/gat_v2_conv/Cast_1:0\", shape=(3,), dtype=int32))) to a dense Tensor of unknown shape. This may consume a large amount of memory.\n",
            "  warnings.warn(\n",
            "/usr/local/lib/python3.10/dist-packages/tensorflow/python/framework/indexed_slices.py:444: UserWarning: Converting sparse IndexedSlices(IndexedSlices(indices=Tensor(\"gradient_tape/model_6/gat_mpnn/message_passing_6/node_set_update_6/gat_v2_conv/Reshape_3:0\", shape=(None,), dtype=int32), values=Tensor(\"gradient_tape/model_6/gat_mpnn/message_passing_6/node_set_update_6/gat_v2_conv/Reshape_2:0\", shape=(None, 1, 1), dtype=float32), dense_shape=Tensor(\"gradient_tape/model_6/gat_mpnn/message_passing_6/node_set_update_6/gat_v2_conv/Cast:0\", shape=(3,), dtype=int32))) to a dense Tensor of unknown shape. This may consume a large amount of memory.\n",
            "  warnings.warn(\n",
            "/usr/local/lib/python3.10/dist-packages/tensorflow/python/framework/indexed_slices.py:444: UserWarning: Converting sparse IndexedSlices(IndexedSlices(indices=Tensor(\"gradient_tape/model_6/gat_mpnn/message_passing_6/node_set_update_6/gat_v2_conv/Reshape_6:0\", shape=(None,), dtype=int32), values=Tensor(\"gradient_tape/model_6/gat_mpnn/message_passing_6/node_set_update_6/gat_v2_conv/Reshape_5:0\", shape=(None, 1, 1), dtype=float32), dense_shape=Tensor(\"gradient_tape/model_6/gat_mpnn/message_passing_6/node_set_update_6/gat_v2_conv/Cast_1:0\", shape=(3,), dtype=int32))) to a dense Tensor of unknown shape. This may consume a large amount of memory.\n",
            "  warnings.warn(\n",
            "/usr/local/lib/python3.10/dist-packages/tensorflow/python/framework/indexed_slices.py:444: UserWarning: Converting sparse IndexedSlices(IndexedSlices(indices=Tensor(\"gradient_tape/model_6/gat_mpnn/message_passing_5/node_set_update_5/gat_v2_conv/Reshape_3:0\", shape=(None,), dtype=int32), values=Tensor(\"gradient_tape/model_6/gat_mpnn/message_passing_5/node_set_update_5/gat_v2_conv/Reshape_2:0\", shape=(None, 1, 1), dtype=float32), dense_shape=Tensor(\"gradient_tape/model_6/gat_mpnn/message_passing_5/node_set_update_5/gat_v2_conv/Cast:0\", shape=(3,), dtype=int32))) to a dense Tensor of unknown shape. This may consume a large amount of memory.\n",
            "  warnings.warn(\n",
            "/usr/local/lib/python3.10/dist-packages/tensorflow/python/framework/indexed_slices.py:444: UserWarning: Converting sparse IndexedSlices(IndexedSlices(indices=Tensor(\"gradient_tape/model_6/gat_mpnn/message_passing_5/node_set_update_5/gat_v2_conv/Reshape_6:0\", shape=(None,), dtype=int32), values=Tensor(\"gradient_tape/model_6/gat_mpnn/message_passing_5/node_set_update_5/gat_v2_conv/Reshape_5:0\", shape=(None, 1, 1), dtype=float32), dense_shape=Tensor(\"gradient_tape/model_6/gat_mpnn/message_passing_5/node_set_update_5/gat_v2_conv/Cast_1:0\", shape=(3,), dtype=int32))) to a dense Tensor of unknown shape. This may consume a large amount of memory.\n",
            "  warnings.warn(\n",
            "/usr/local/lib/python3.10/dist-packages/tensorflow/python/framework/indexed_slices.py:444: UserWarning: Converting sparse IndexedSlices(IndexedSlices(indices=Tensor(\"gradient_tape/model_6/gat_mpnn/message_passing_4/node_set_update_4/gat_v2_conv/Reshape_3:0\", shape=(None,), dtype=int32), values=Tensor(\"gradient_tape/model_6/gat_mpnn/message_passing_4/node_set_update_4/gat_v2_conv/Reshape_2:0\", shape=(None, 1, 1), dtype=float32), dense_shape=Tensor(\"gradient_tape/model_6/gat_mpnn/message_passing_4/node_set_update_4/gat_v2_conv/Cast:0\", shape=(3,), dtype=int32))) to a dense Tensor of unknown shape. This may consume a large amount of memory.\n",
            "  warnings.warn(\n",
            "/usr/local/lib/python3.10/dist-packages/tensorflow/python/framework/indexed_slices.py:444: UserWarning: Converting sparse IndexedSlices(IndexedSlices(indices=Tensor(\"gradient_tape/model_6/gat_mpnn/message_passing_4/node_set_update_4/gat_v2_conv/Reshape_6:0\", shape=(None,), dtype=int32), values=Tensor(\"gradient_tape/model_6/gat_mpnn/message_passing_4/node_set_update_4/gat_v2_conv/Reshape_5:0\", shape=(None, 1, 1), dtype=float32), dense_shape=Tensor(\"gradient_tape/model_6/gat_mpnn/message_passing_4/node_set_update_4/gat_v2_conv/Cast_1:0\", shape=(3,), dtype=int32))) to a dense Tensor of unknown shape. This may consume a large amount of memory.\n",
            "  warnings.warn(\n",
            "/usr/local/lib/python3.10/dist-packages/tensorflow/python/framework/indexed_slices.py:444: UserWarning: Converting sparse IndexedSlices(IndexedSlices(indices=Tensor(\"gradient_tape/model_6/gat_mpnn/message_passing_3/node_set_update_3/gat_v2_conv/Reshape_3:0\", shape=(None,), dtype=int32), values=Tensor(\"gradient_tape/model_6/gat_mpnn/message_passing_3/node_set_update_3/gat_v2_conv/Reshape_2:0\", shape=(None, 1, 1), dtype=float32), dense_shape=Tensor(\"gradient_tape/model_6/gat_mpnn/message_passing_3/node_set_update_3/gat_v2_conv/Cast:0\", shape=(3,), dtype=int32))) to a dense Tensor of unknown shape. This may consume a large amount of memory.\n",
            "  warnings.warn(\n",
            "/usr/local/lib/python3.10/dist-packages/tensorflow/python/framework/indexed_slices.py:444: UserWarning: Converting sparse IndexedSlices(IndexedSlices(indices=Tensor(\"gradient_tape/model_6/gat_mpnn/message_passing_3/node_set_update_3/gat_v2_conv/Reshape_6:0\", shape=(None,), dtype=int32), values=Tensor(\"gradient_tape/model_6/gat_mpnn/message_passing_3/node_set_update_3/gat_v2_conv/Reshape_5:0\", shape=(None, 1, 1), dtype=float32), dense_shape=Tensor(\"gradient_tape/model_6/gat_mpnn/message_passing_3/node_set_update_3/gat_v2_conv/Cast_1:0\", shape=(3,), dtype=int32))) to a dense Tensor of unknown shape. This may consume a large amount of memory.\n",
            "  warnings.warn(\n",
            "/usr/local/lib/python3.10/dist-packages/tensorflow/python/framework/indexed_slices.py:444: UserWarning: Converting sparse IndexedSlices(IndexedSlices(indices=Tensor(\"gradient_tape/model_6/gat_mpnn/message_passing_2/node_set_update_2/gat_v2_conv/Reshape_3:0\", shape=(None,), dtype=int32), values=Tensor(\"gradient_tape/model_6/gat_mpnn/message_passing_2/node_set_update_2/gat_v2_conv/Reshape_2:0\", shape=(None, 1, 1), dtype=float32), dense_shape=Tensor(\"gradient_tape/model_6/gat_mpnn/message_passing_2/node_set_update_2/gat_v2_conv/Cast:0\", shape=(3,), dtype=int32))) to a dense Tensor of unknown shape. This may consume a large amount of memory.\n",
            "  warnings.warn(\n",
            "/usr/local/lib/python3.10/dist-packages/tensorflow/python/framework/indexed_slices.py:444: UserWarning: Converting sparse IndexedSlices(IndexedSlices(indices=Tensor(\"gradient_tape/model_6/gat_mpnn/message_passing_2/node_set_update_2/gat_v2_conv/Reshape_6:0\", shape=(None,), dtype=int32), values=Tensor(\"gradient_tape/model_6/gat_mpnn/message_passing_2/node_set_update_2/gat_v2_conv/Reshape_5:0\", shape=(None, 1, 1), dtype=float32), dense_shape=Tensor(\"gradient_tape/model_6/gat_mpnn/message_passing_2/node_set_update_2/gat_v2_conv/Cast_1:0\", shape=(3,), dtype=int32))) to a dense Tensor of unknown shape. This may consume a large amount of memory.\n",
            "  warnings.warn(\n",
            "/usr/local/lib/python3.10/dist-packages/tensorflow/python/framework/indexed_slices.py:444: UserWarning: Converting sparse IndexedSlices(IndexedSlices(indices=Tensor(\"gradient_tape/model_6/gat_mpnn/message_passing_1/node_set_update_1/gat_v2_conv/Reshape_3:0\", shape=(None,), dtype=int32), values=Tensor(\"gradient_tape/model_6/gat_mpnn/message_passing_1/node_set_update_1/gat_v2_conv/Reshape_2:0\", shape=(None, 1, 1), dtype=float32), dense_shape=Tensor(\"gradient_tape/model_6/gat_mpnn/message_passing_1/node_set_update_1/gat_v2_conv/Cast:0\", shape=(3,), dtype=int32))) to a dense Tensor of unknown shape. This may consume a large amount of memory.\n",
            "  warnings.warn(\n",
            "/usr/local/lib/python3.10/dist-packages/tensorflow/python/framework/indexed_slices.py:444: UserWarning: Converting sparse IndexedSlices(IndexedSlices(indices=Tensor(\"gradient_tape/model_6/gat_mpnn/message_passing_1/node_set_update_1/gat_v2_conv/Reshape_6:0\", shape=(None,), dtype=int32), values=Tensor(\"gradient_tape/model_6/gat_mpnn/message_passing_1/node_set_update_1/gat_v2_conv/Reshape_5:0\", shape=(None, 1, 1), dtype=float32), dense_shape=Tensor(\"gradient_tape/model_6/gat_mpnn/message_passing_1/node_set_update_1/gat_v2_conv/Cast_1:0\", shape=(3,), dtype=int32))) to a dense Tensor of unknown shape. This may consume a large amount of memory.\n",
            "  warnings.warn(\n",
            "/usr/local/lib/python3.10/dist-packages/tensorflow/python/framework/indexed_slices.py:444: UserWarning: Converting sparse IndexedSlices(IndexedSlices(indices=Tensor(\"gradient_tape/model_6/gat_mpnn/message_passing_0/node_set_update/gat_v2_conv/Reshape_3:0\", shape=(None,), dtype=int32), values=Tensor(\"gradient_tape/model_6/gat_mpnn/message_passing_0/node_set_update/gat_v2_conv/Reshape_2:0\", shape=(None, 1, 1), dtype=float32), dense_shape=Tensor(\"gradient_tape/model_6/gat_mpnn/message_passing_0/node_set_update/gat_v2_conv/Cast:0\", shape=(3,), dtype=int32))) to a dense Tensor of unknown shape. This may consume a large amount of memory.\n",
            "  warnings.warn(\n",
            "/usr/local/lib/python3.10/dist-packages/tensorflow/python/framework/indexed_slices.py:444: UserWarning: Converting sparse IndexedSlices(IndexedSlices(indices=Tensor(\"gradient_tape/model_6/gat_mpnn/message_passing_0/node_set_update/gat_v2_conv/Reshape_6:0\", shape=(None,), dtype=int32), values=Tensor(\"gradient_tape/model_6/gat_mpnn/message_passing_0/node_set_update/gat_v2_conv/Reshape_5:0\", shape=(None, 1, 1), dtype=float32), dense_shape=Tensor(\"gradient_tape/model_6/gat_mpnn/message_passing_0/node_set_update/gat_v2_conv/Cast_1:0\", shape=(3,), dtype=int32))) to a dense Tensor of unknown shape. This may consume a large amount of memory.\n",
            "  warnings.warn(\n"
          ]
        },
        {
          "output_type": "stream",
          "name": "stdout",
          "text": [
            "50/50 [==============================] - 55s 882ms/step - loss: 0.5455 - sparse_categorical_accuracy: 0.7256 - sparse_categorical_crossentropy: 0.5455 - AUROC: 0.6527 - val_loss: 0.5153 - val_sparse_categorical_accuracy: 0.7279 - val_sparse_categorical_crossentropy: 0.5153 - val_AUROC: 0.7292\n",
            "Epoch 2/100\n",
            "50/50 [==============================] - 42s 844ms/step - loss: 0.4949 - sparse_categorical_accuracy: 0.7417 - sparse_categorical_crossentropy: 0.4949 - AUROC: 0.7499 - val_loss: 0.4905 - val_sparse_categorical_accuracy: 0.7500 - val_sparse_categorical_crossentropy: 0.4905 - val_AUROC: 0.7761\n",
            "Epoch 3/100\n",
            "50/50 [==============================] - 40s 800ms/step - loss: 0.4628 - sparse_categorical_accuracy: 0.7697 - sparse_categorical_crossentropy: 0.4628 - AUROC: 0.7937 - val_loss: 0.4717 - val_sparse_categorical_accuracy: 0.7663 - val_sparse_categorical_crossentropy: 0.4717 - val_AUROC: 0.8079\n",
            "Epoch 4/100\n",
            "50/50 [==============================] - 40s 798ms/step - loss: 0.4266 - sparse_categorical_accuracy: 0.7977 - sparse_categorical_crossentropy: 0.4266 - AUROC: 0.8351 - val_loss: 0.4414 - val_sparse_categorical_accuracy: 0.7917 - val_sparse_categorical_crossentropy: 0.4414 - val_AUROC: 0.8268\n",
            "Epoch 5/100\n",
            "50/50 [==============================] - 39s 792ms/step - loss: 0.4167 - sparse_categorical_accuracy: 0.8061 - sparse_categorical_crossentropy: 0.4167 - AUROC: 0.8438 - val_loss: 0.4264 - val_sparse_categorical_accuracy: 0.8008 - val_sparse_categorical_crossentropy: 0.4264 - val_AUROC: 0.8398\n",
            "Epoch 6/100\n",
            "50/50 [==============================] - 39s 791ms/step - loss: 0.4099 - sparse_categorical_accuracy: 0.8100 - sparse_categorical_crossentropy: 0.4099 - AUROC: 0.8497 - val_loss: 0.4287 - val_sparse_categorical_accuracy: 0.8027 - val_sparse_categorical_crossentropy: 0.4287 - val_AUROC: 0.8369\n",
            "Epoch 7/100\n",
            "50/50 [==============================] - 40s 794ms/step - loss: 0.4073 - sparse_categorical_accuracy: 0.8106 - sparse_categorical_crossentropy: 0.4073 - AUROC: 0.8523 - val_loss: 0.4388 - val_sparse_categorical_accuracy: 0.7917 - val_sparse_categorical_crossentropy: 0.4388 - val_AUROC: 0.8327\n",
            "Epoch 8/100\n",
            "50/50 [==============================] - 40s 798ms/step - loss: 0.4101 - sparse_categorical_accuracy: 0.8120 - sparse_categorical_crossentropy: 0.4101 - AUROC: 0.8495 - val_loss: 0.4368 - val_sparse_categorical_accuracy: 0.7936 - val_sparse_categorical_crossentropy: 0.4368 - val_AUROC: 0.8376\n",
            "Epoch 9/100\n",
            "50/50 [==============================] - 40s 801ms/step - loss: 0.4040 - sparse_categorical_accuracy: 0.8188 - sparse_categorical_crossentropy: 0.4040 - AUROC: 0.8548 - val_loss: 0.4242 - val_sparse_categorical_accuracy: 0.8014 - val_sparse_categorical_crossentropy: 0.4242 - val_AUROC: 0.8431\n",
            "Epoch 10/100\n",
            "50/50 [==============================] - 40s 805ms/step - loss: 0.3981 - sparse_categorical_accuracy: 0.8219 - sparse_categorical_crossentropy: 0.3981 - AUROC: 0.8591 - val_loss: 0.4265 - val_sparse_categorical_accuracy: 0.7923 - val_sparse_categorical_crossentropy: 0.4265 - val_AUROC: 0.8417\n",
            "Epoch 11/100\n",
            "50/50 [==============================] - 40s 795ms/step - loss: 0.3999 - sparse_categorical_accuracy: 0.8186 - sparse_categorical_crossentropy: 0.3999 - AUROC: 0.8581 - val_loss: 0.4273 - val_sparse_categorical_accuracy: 0.7956 - val_sparse_categorical_crossentropy: 0.4273 - val_AUROC: 0.8427\n",
            "Epoch 12/100\n",
            "50/50 [==============================] - 39s 793ms/step - loss: 0.3984 - sparse_categorical_accuracy: 0.8227 - sparse_categorical_crossentropy: 0.3984 - AUROC: 0.8593 - val_loss: 0.4362 - val_sparse_categorical_accuracy: 0.7871 - val_sparse_categorical_crossentropy: 0.4362 - val_AUROC: 0.8386\n",
            "Epoch 13/100\n",
            "50/50 [==============================] - 40s 797ms/step - loss: 0.4000 - sparse_categorical_accuracy: 0.8177 - sparse_categorical_crossentropy: 0.4000 - AUROC: 0.8580 - val_loss: 0.4211 - val_sparse_categorical_accuracy: 0.8014 - val_sparse_categorical_crossentropy: 0.4211 - val_AUROC: 0.8437\n",
            "Epoch 14/100\n",
            "50/50 [==============================] - 40s 796ms/step - loss: 0.3899 - sparse_categorical_accuracy: 0.8241 - sparse_categorical_crossentropy: 0.3899 - AUROC: 0.8654 - val_loss: 0.4217 - val_sparse_categorical_accuracy: 0.8001 - val_sparse_categorical_crossentropy: 0.4217 - val_AUROC: 0.8460\n",
            "Epoch 15/100\n",
            "50/50 [==============================] - 40s 802ms/step - loss: 0.3919 - sparse_categorical_accuracy: 0.8206 - sparse_categorical_crossentropy: 0.3919 - AUROC: 0.8639 - val_loss: 0.4150 - val_sparse_categorical_accuracy: 0.8092 - val_sparse_categorical_crossentropy: 0.4150 - val_AUROC: 0.8462\n",
            "Epoch 16/100\n",
            "50/50 [==============================] - 40s 807ms/step - loss: 0.3874 - sparse_categorical_accuracy: 0.8261 - sparse_categorical_crossentropy: 0.3874 - AUROC: 0.8677 - val_loss: 0.4184 - val_sparse_categorical_accuracy: 0.8040 - val_sparse_categorical_crossentropy: 0.4184 - val_AUROC: 0.8512\n",
            "Epoch 17/100\n",
            "50/50 [==============================] - 40s 797ms/step - loss: 0.3854 - sparse_categorical_accuracy: 0.8280 - sparse_categorical_crossentropy: 0.3854 - AUROC: 0.8695 - val_loss: 0.4173 - val_sparse_categorical_accuracy: 0.8047 - val_sparse_categorical_crossentropy: 0.4173 - val_AUROC: 0.8526\n",
            "Epoch 18/100\n",
            "50/50 [==============================] - 40s 799ms/step - loss: 0.3808 - sparse_categorical_accuracy: 0.8320 - sparse_categorical_crossentropy: 0.3808 - AUROC: 0.8716 - val_loss: 0.4314 - val_sparse_categorical_accuracy: 0.7988 - val_sparse_categorical_crossentropy: 0.4314 - val_AUROC: 0.8413\n",
            "Epoch 19/100\n",
            "50/50 [==============================] - 40s 798ms/step - loss: 0.3902 - sparse_categorical_accuracy: 0.8238 - sparse_categorical_crossentropy: 0.3902 - AUROC: 0.8653 - val_loss: 0.4137 - val_sparse_categorical_accuracy: 0.8040 - val_sparse_categorical_crossentropy: 0.4137 - val_AUROC: 0.8503\n",
            "Epoch 20/100\n",
            "50/50 [==============================] - 40s 800ms/step - loss: 0.3928 - sparse_categorical_accuracy: 0.8220 - sparse_categorical_crossentropy: 0.3928 - AUROC: 0.8630 - val_loss: 0.4245 - val_sparse_categorical_accuracy: 0.8008 - val_sparse_categorical_crossentropy: 0.4245 - val_AUROC: 0.8497\n",
            "Epoch 21/100\n",
            "50/50 [==============================] - 40s 805ms/step - loss: 0.3832 - sparse_categorical_accuracy: 0.8283 - sparse_categorical_crossentropy: 0.3832 - AUROC: 0.8702 - val_loss: 0.4075 - val_sparse_categorical_accuracy: 0.8132 - val_sparse_categorical_crossentropy: 0.4075 - val_AUROC: 0.8592\n",
            "Epoch 22/100\n",
            "50/50 [==============================] - 40s 810ms/step - loss: 0.3769 - sparse_categorical_accuracy: 0.8344 - sparse_categorical_crossentropy: 0.3769 - AUROC: 0.8743 - val_loss: 0.3920 - val_sparse_categorical_accuracy: 0.8288 - val_sparse_categorical_crossentropy: 0.3920 - val_AUROC: 0.8636\n",
            "Epoch 23/100\n",
            "50/50 [==============================] - 40s 804ms/step - loss: 0.3674 - sparse_categorical_accuracy: 0.8405 - sparse_categorical_crossentropy: 0.3674 - AUROC: 0.8815 - val_loss: 0.4008 - val_sparse_categorical_accuracy: 0.8249 - val_sparse_categorical_crossentropy: 0.4008 - val_AUROC: 0.8596\n",
            "Epoch 24/100\n",
            "50/50 [==============================] - 39s 780ms/step - loss: 0.3685 - sparse_categorical_accuracy: 0.8406 - sparse_categorical_crossentropy: 0.3685 - AUROC: 0.8798 - val_loss: 0.4077 - val_sparse_categorical_accuracy: 0.8125 - val_sparse_categorical_crossentropy: 0.4077 - val_AUROC: 0.8546\n",
            "Epoch 25/100\n",
            "50/50 [==============================] - 40s 801ms/step - loss: 0.3587 - sparse_categorical_accuracy: 0.8481 - sparse_categorical_crossentropy: 0.3587 - AUROC: 0.8873 - val_loss: 0.3997 - val_sparse_categorical_accuracy: 0.8151 - val_sparse_categorical_crossentropy: 0.3997 - val_AUROC: 0.8630\n",
            "Epoch 26/100\n",
            "50/50 [==============================] - 40s 794ms/step - loss: 0.3533 - sparse_categorical_accuracy: 0.8478 - sparse_categorical_crossentropy: 0.3533 - AUROC: 0.8909 - val_loss: 0.3948 - val_sparse_categorical_accuracy: 0.8301 - val_sparse_categorical_crossentropy: 0.3948 - val_AUROC: 0.8646\n",
            "Epoch 27/100\n",
            "50/50 [==============================] - 40s 794ms/step - loss: 0.3469 - sparse_categorical_accuracy: 0.8539 - sparse_categorical_crossentropy: 0.3469 - AUROC: 0.8948 - val_loss: 0.3992 - val_sparse_categorical_accuracy: 0.8190 - val_sparse_categorical_crossentropy: 0.3992 - val_AUROC: 0.8629\n",
            "Epoch 28/100\n",
            "50/50 [==============================] - 40s 792ms/step - loss: 0.3502 - sparse_categorical_accuracy: 0.8514 - sparse_categorical_crossentropy: 0.3502 - AUROC: 0.8932 - val_loss: 0.4032 - val_sparse_categorical_accuracy: 0.8145 - val_sparse_categorical_crossentropy: 0.4032 - val_AUROC: 0.8660\n",
            "Epoch 29/100\n",
            "50/50 [==============================] - 40s 797ms/step - loss: 0.3572 - sparse_categorical_accuracy: 0.8444 - sparse_categorical_crossentropy: 0.3572 - AUROC: 0.8889 - val_loss: 0.4008 - val_sparse_categorical_accuracy: 0.8177 - val_sparse_categorical_crossentropy: 0.4008 - val_AUROC: 0.8654\n",
            "Epoch 30/100\n",
            "50/50 [==============================] - 40s 794ms/step - loss: 0.3396 - sparse_categorical_accuracy: 0.8542 - sparse_categorical_crossentropy: 0.3396 - AUROC: 0.9005 - val_loss: 0.3909 - val_sparse_categorical_accuracy: 0.8372 - val_sparse_categorical_crossentropy: 0.3909 - val_AUROC: 0.8627\n",
            "Epoch 31/100\n",
            "50/50 [==============================] - 40s 795ms/step - loss: 0.3414 - sparse_categorical_accuracy: 0.8569 - sparse_categorical_crossentropy: 0.3414 - AUROC: 0.8994 - val_loss: 0.3760 - val_sparse_categorical_accuracy: 0.8431 - val_sparse_categorical_crossentropy: 0.3760 - val_AUROC: 0.8775\n",
            "Epoch 32/100\n",
            "50/50 [==============================] - 39s 778ms/step - loss: 0.3386 - sparse_categorical_accuracy: 0.8556 - sparse_categorical_crossentropy: 0.3386 - AUROC: 0.9015 - val_loss: 0.3883 - val_sparse_categorical_accuracy: 0.8366 - val_sparse_categorical_crossentropy: 0.3883 - val_AUROC: 0.8734\n",
            "Epoch 33/100\n",
            "50/50 [==============================] - 40s 792ms/step - loss: 0.3442 - sparse_categorical_accuracy: 0.8531 - sparse_categorical_crossentropy: 0.3442 - AUROC: 0.8984 - val_loss: 0.4011 - val_sparse_categorical_accuracy: 0.8275 - val_sparse_categorical_crossentropy: 0.4011 - val_AUROC: 0.8645\n",
            "Epoch 34/100\n",
            "50/50 [==============================] - 40s 787ms/step - loss: 0.3357 - sparse_categorical_accuracy: 0.8566 - sparse_categorical_crossentropy: 0.3357 - AUROC: 0.9025 - val_loss: 0.3792 - val_sparse_categorical_accuracy: 0.8411 - val_sparse_categorical_crossentropy: 0.3792 - val_AUROC: 0.8778\n",
            "Epoch 35/100\n",
            "50/50 [==============================] - 40s 796ms/step - loss: 0.3381 - sparse_categorical_accuracy: 0.8605 - sparse_categorical_crossentropy: 0.3381 - AUROC: 0.9010 - val_loss: 0.3933 - val_sparse_categorical_accuracy: 0.8242 - val_sparse_categorical_crossentropy: 0.3933 - val_AUROC: 0.8706\n",
            "Epoch 36/100\n",
            "50/50 [==============================] - 40s 790ms/step - loss: 0.3340 - sparse_categorical_accuracy: 0.8569 - sparse_categorical_crossentropy: 0.3340 - AUROC: 0.9033 - val_loss: 0.3969 - val_sparse_categorical_accuracy: 0.8327 - val_sparse_categorical_crossentropy: 0.3969 - val_AUROC: 0.8656\n",
            "Epoch 37/100\n",
            "50/50 [==============================] - 39s 778ms/step - loss: 0.3300 - sparse_categorical_accuracy: 0.8616 - sparse_categorical_crossentropy: 0.3300 - AUROC: 0.9067 - val_loss: 0.3780 - val_sparse_categorical_accuracy: 0.8405 - val_sparse_categorical_crossentropy: 0.3780 - val_AUROC: 0.8774\n",
            "Epoch 38/100\n",
            "50/50 [==============================] - 40s 788ms/step - loss: 0.3147 - sparse_categorical_accuracy: 0.8684 - sparse_categorical_crossentropy: 0.3147 - AUROC: 0.9163 - val_loss: 0.3825 - val_sparse_categorical_accuracy: 0.8385 - val_sparse_categorical_crossentropy: 0.3825 - val_AUROC: 0.8786\n",
            "Epoch 39/100\n",
            "50/50 [==============================] - 40s 795ms/step - loss: 0.3107 - sparse_categorical_accuracy: 0.8706 - sparse_categorical_crossentropy: 0.3107 - AUROC: 0.9172 - val_loss: 0.3753 - val_sparse_categorical_accuracy: 0.8431 - val_sparse_categorical_crossentropy: 0.3753 - val_AUROC: 0.8818\n",
            "Epoch 40/100\n",
            "50/50 [==============================] - 42s 838ms/step - loss: 0.3203 - sparse_categorical_accuracy: 0.8639 - sparse_categorical_crossentropy: 0.3203 - AUROC: 0.9127 - val_loss: 0.3856 - val_sparse_categorical_accuracy: 0.8314 - val_sparse_categorical_crossentropy: 0.3856 - val_AUROC: 0.8770\n",
            "Epoch 41/100\n",
            "50/50 [==============================] - 41s 814ms/step - loss: 0.3036 - sparse_categorical_accuracy: 0.8761 - sparse_categorical_crossentropy: 0.3036 - AUROC: 0.9215 - val_loss: 0.3878 - val_sparse_categorical_accuracy: 0.8314 - val_sparse_categorical_crossentropy: 0.3878 - val_AUROC: 0.8774\n",
            "Epoch 42/100\n",
            "50/50 [==============================] - 41s 818ms/step - loss: 0.3068 - sparse_categorical_accuracy: 0.8727 - sparse_categorical_crossentropy: 0.3068 - AUROC: 0.9192 - val_loss: 0.3819 - val_sparse_categorical_accuracy: 0.8333 - val_sparse_categorical_crossentropy: 0.3819 - val_AUROC: 0.8750\n",
            "Epoch 43/100\n",
            "50/50 [==============================] - 41s 821ms/step - loss: 0.3027 - sparse_categorical_accuracy: 0.8745 - sparse_categorical_crossentropy: 0.3027 - AUROC: 0.9225 - val_loss: 0.3815 - val_sparse_categorical_accuracy: 0.8379 - val_sparse_categorical_crossentropy: 0.3815 - val_AUROC: 0.8827\n",
            "Epoch 44/100\n",
            "50/50 [==============================] - 41s 815ms/step - loss: 0.3084 - sparse_categorical_accuracy: 0.8750 - sparse_categorical_crossentropy: 0.3084 - AUROC: 0.9187 - val_loss: 0.3924 - val_sparse_categorical_accuracy: 0.8190 - val_sparse_categorical_crossentropy: 0.3924 - val_AUROC: 0.8813\n",
            "Epoch 45/100\n",
            "50/50 [==============================] - 41s 818ms/step - loss: 0.2953 - sparse_categorical_accuracy: 0.8800 - sparse_categorical_crossentropy: 0.2953 - AUROC: 0.9256 - val_loss: 0.3904 - val_sparse_categorical_accuracy: 0.8392 - val_sparse_categorical_crossentropy: 0.3904 - val_AUROC: 0.8776\n",
            "Epoch 46/100\n",
            "50/50 [==============================] - 41s 814ms/step - loss: 0.2852 - sparse_categorical_accuracy: 0.8819 - sparse_categorical_crossentropy: 0.2852 - AUROC: 0.9316 - val_loss: 0.3769 - val_sparse_categorical_accuracy: 0.8438 - val_sparse_categorical_crossentropy: 0.3769 - val_AUROC: 0.8847\n",
            "Epoch 47/100\n",
            "50/50 [==============================] - 41s 816ms/step - loss: 0.2846 - sparse_categorical_accuracy: 0.8855 - sparse_categorical_crossentropy: 0.2846 - AUROC: 0.9315 - val_loss: 0.3768 - val_sparse_categorical_accuracy: 0.8359 - val_sparse_categorical_crossentropy: 0.3768 - val_AUROC: 0.8825\n",
            "Epoch 48/100\n",
            "50/50 [==============================] - 41s 825ms/step - loss: 0.2842 - sparse_categorical_accuracy: 0.8808 - sparse_categorical_crossentropy: 0.2842 - AUROC: 0.9319 - val_loss: 0.3798 - val_sparse_categorical_accuracy: 0.8405 - val_sparse_categorical_crossentropy: 0.3798 - val_AUROC: 0.8866\n",
            "Epoch 49/100\n",
            "50/50 [==============================] - 41s 825ms/step - loss: 0.2848 - sparse_categorical_accuracy: 0.8817 - sparse_categorical_crossentropy: 0.2848 - AUROC: 0.9318 - val_loss: 0.3710 - val_sparse_categorical_accuracy: 0.8438 - val_sparse_categorical_crossentropy: 0.3710 - val_AUROC: 0.8890\n",
            "Epoch 50/100\n",
            "50/50 [==============================] - 41s 826ms/step - loss: 0.2858 - sparse_categorical_accuracy: 0.8884 - sparse_categorical_crossentropy: 0.2858 - AUROC: 0.9292 - val_loss: 0.3736 - val_sparse_categorical_accuracy: 0.8424 - val_sparse_categorical_crossentropy: 0.3736 - val_AUROC: 0.8852\n",
            "Epoch 51/100\n",
            "50/50 [==============================] - 43s 867ms/step - loss: 0.2801 - sparse_categorical_accuracy: 0.8870 - sparse_categorical_crossentropy: 0.2801 - AUROC: 0.9337 - val_loss: 0.3890 - val_sparse_categorical_accuracy: 0.8327 - val_sparse_categorical_crossentropy: 0.3890 - val_AUROC: 0.8843\n",
            "Epoch 52/100\n",
            "50/50 [==============================] - 41s 827ms/step - loss: 0.2718 - sparse_categorical_accuracy: 0.8900 - sparse_categorical_crossentropy: 0.2718 - AUROC: 0.9371 - val_loss: 0.3734 - val_sparse_categorical_accuracy: 0.8438 - val_sparse_categorical_crossentropy: 0.3734 - val_AUROC: 0.8922\n",
            "Epoch 53/100\n",
            "50/50 [==============================] - 41s 805ms/step - loss: 0.2613 - sparse_categorical_accuracy: 0.8958 - sparse_categorical_crossentropy: 0.2613 - AUROC: 0.9415 - val_loss: 0.3887 - val_sparse_categorical_accuracy: 0.8424 - val_sparse_categorical_crossentropy: 0.3887 - val_AUROC: 0.8798\n",
            "Epoch 54/100\n",
            "50/50 [==============================] - 43s 860ms/step - loss: 0.2745 - sparse_categorical_accuracy: 0.8859 - sparse_categorical_crossentropy: 0.2745 - AUROC: 0.9359 - val_loss: 0.4082 - val_sparse_categorical_accuracy: 0.8340 - val_sparse_categorical_crossentropy: 0.4082 - val_AUROC: 0.8785\n",
            "Epoch 55/100\n",
            "50/50 [==============================] - 41s 815ms/step - loss: 0.2788 - sparse_categorical_accuracy: 0.8850 - sparse_categorical_crossentropy: 0.2788 - AUROC: 0.9336 - val_loss: 0.3711 - val_sparse_categorical_accuracy: 0.8418 - val_sparse_categorical_crossentropy: 0.3711 - val_AUROC: 0.8893\n",
            "Epoch 56/100\n",
            "50/50 [==============================] - 41s 813ms/step - loss: 0.2689 - sparse_categorical_accuracy: 0.8923 - sparse_categorical_crossentropy: 0.2689 - AUROC: 0.9390 - val_loss: 0.3718 - val_sparse_categorical_accuracy: 0.8496 - val_sparse_categorical_crossentropy: 0.3718 - val_AUROC: 0.8915\n",
            "Epoch 57/100\n",
            "50/50 [==============================] - 41s 820ms/step - loss: 0.2827 - sparse_categorical_accuracy: 0.8838 - sparse_categorical_crossentropy: 0.2827 - AUROC: 0.9316 - val_loss: 0.3856 - val_sparse_categorical_accuracy: 0.8411 - val_sparse_categorical_crossentropy: 0.3856 - val_AUROC: 0.8791\n",
            "Epoch 58/100\n",
            "50/50 [==============================] - 41s 813ms/step - loss: 0.2824 - sparse_categorical_accuracy: 0.8867 - sparse_categorical_crossentropy: 0.2824 - AUROC: 0.9322 - val_loss: 0.4001 - val_sparse_categorical_accuracy: 0.8333 - val_sparse_categorical_crossentropy: 0.4001 - val_AUROC: 0.8787\n",
            "Epoch 59/100\n",
            "50/50 [==============================] - 41s 821ms/step - loss: 0.2573 - sparse_categorical_accuracy: 0.8934 - sparse_categorical_crossentropy: 0.2573 - AUROC: 0.9448 - val_loss: 0.3966 - val_sparse_categorical_accuracy: 0.8438 - val_sparse_categorical_crossentropy: 0.3966 - val_AUROC: 0.8827\n",
            "Epoch 60/100\n",
            "50/50 [==============================] - 41s 810ms/step - loss: 0.2640 - sparse_categorical_accuracy: 0.8945 - sparse_categorical_crossentropy: 0.2640 - AUROC: 0.9427 - val_loss: 0.3854 - val_sparse_categorical_accuracy: 0.8535 - val_sparse_categorical_crossentropy: 0.3854 - val_AUROC: 0.8916\n",
            "Epoch 61/100\n",
            "50/50 [==============================] - 40s 796ms/step - loss: 0.2521 - sparse_categorical_accuracy: 0.8984 - sparse_categorical_crossentropy: 0.2521 - AUROC: 0.9465 - val_loss: 0.3837 - val_sparse_categorical_accuracy: 0.8535 - val_sparse_categorical_crossentropy: 0.3837 - val_AUROC: 0.8861\n",
            "Epoch 62/100\n",
            "50/50 [==============================] - 42s 840ms/step - loss: 0.2524 - sparse_categorical_accuracy: 0.8973 - sparse_categorical_crossentropy: 0.2524 - AUROC: 0.9460 - val_loss: 0.3913 - val_sparse_categorical_accuracy: 0.8470 - val_sparse_categorical_crossentropy: 0.3913 - val_AUROC: 0.8847\n",
            "Epoch 63/100\n",
            "50/50 [==============================] - 40s 812ms/step - loss: 0.2425 - sparse_categorical_accuracy: 0.9053 - sparse_categorical_crossentropy: 0.2425 - AUROC: 0.9508 - val_loss: 0.3789 - val_sparse_categorical_accuracy: 0.8477 - val_sparse_categorical_crossentropy: 0.3789 - val_AUROC: 0.8910\n",
            "Epoch 64/100\n",
            "50/50 [==============================] - 40s 806ms/step - loss: 0.2433 - sparse_categorical_accuracy: 0.8991 - sparse_categorical_crossentropy: 0.2433 - AUROC: 0.9520 - val_loss: 0.3810 - val_sparse_categorical_accuracy: 0.8457 - val_sparse_categorical_crossentropy: 0.3810 - val_AUROC: 0.8886\n",
            "Epoch 65/100\n",
            "50/50 [==============================] - 41s 816ms/step - loss: 0.2358 - sparse_categorical_accuracy: 0.9080 - sparse_categorical_crossentropy: 0.2358 - AUROC: 0.9532 - val_loss: 0.3994 - val_sparse_categorical_accuracy: 0.8379 - val_sparse_categorical_crossentropy: 0.3994 - val_AUROC: 0.8770\n",
            "Epoch 66/100\n",
            "50/50 [==============================] - 40s 807ms/step - loss: 0.2632 - sparse_categorical_accuracy: 0.8920 - sparse_categorical_crossentropy: 0.2632 - AUROC: 0.9424 - val_loss: 0.3777 - val_sparse_categorical_accuracy: 0.8385 - val_sparse_categorical_crossentropy: 0.3777 - val_AUROC: 0.8885\n",
            "Epoch 67/100\n",
            "50/50 [==============================] - 40s 811ms/step - loss: 0.2472 - sparse_categorical_accuracy: 0.9008 - sparse_categorical_crossentropy: 0.2472 - AUROC: 0.9483 - val_loss: 0.3935 - val_sparse_categorical_accuracy: 0.8431 - val_sparse_categorical_crossentropy: 0.3935 - val_AUROC: 0.8831\n",
            "Epoch 68/100\n",
            "50/50 [==============================] - 40s 808ms/step - loss: 0.2515 - sparse_categorical_accuracy: 0.9016 - sparse_categorical_crossentropy: 0.2515 - AUROC: 0.9462 - val_loss: 0.4057 - val_sparse_categorical_accuracy: 0.8457 - val_sparse_categorical_crossentropy: 0.4057 - val_AUROC: 0.8843\n",
            "Epoch 69/100\n",
            "50/50 [==============================] - 40s 806ms/step - loss: 0.2415 - sparse_categorical_accuracy: 0.9020 - sparse_categorical_crossentropy: 0.2415 - AUROC: 0.9514 - val_loss: 0.4112 - val_sparse_categorical_accuracy: 0.8457 - val_sparse_categorical_crossentropy: 0.4112 - val_AUROC: 0.8808\n",
            "Epoch 70/100\n",
            "50/50 [==============================] - 40s 792ms/step - loss: 0.2280 - sparse_categorical_accuracy: 0.9112 - sparse_categorical_crossentropy: 0.2280 - AUROC: 0.9561 - val_loss: 0.3881 - val_sparse_categorical_accuracy: 0.8568 - val_sparse_categorical_crossentropy: 0.3881 - val_AUROC: 0.8908\n",
            "Epoch 71/100\n",
            "50/50 [==============================] - 39s 776ms/step - loss: 0.2227 - sparse_categorical_accuracy: 0.9119 - sparse_categorical_crossentropy: 0.2227 - AUROC: 0.9582 - val_loss: 0.4231 - val_sparse_categorical_accuracy: 0.8379 - val_sparse_categorical_crossentropy: 0.4231 - val_AUROC: 0.8823\n",
            "Epoch 72/100\n",
            "50/50 [==============================] - 41s 827ms/step - loss: 0.2562 - sparse_categorical_accuracy: 0.8944 - sparse_categorical_crossentropy: 0.2562 - AUROC: 0.9452 - val_loss: 0.3976 - val_sparse_categorical_accuracy: 0.8405 - val_sparse_categorical_crossentropy: 0.3976 - val_AUROC: 0.8822\n",
            "Epoch 73/100\n",
            "50/50 [==============================] - 42s 845ms/step - loss: 0.2624 - sparse_categorical_accuracy: 0.8934 - sparse_categorical_crossentropy: 0.2624 - AUROC: 0.9419 - val_loss: 0.3979 - val_sparse_categorical_accuracy: 0.8477 - val_sparse_categorical_crossentropy: 0.3979 - val_AUROC: 0.8813\n",
            "Epoch 74/100\n",
            "50/50 [==============================] - 40s 803ms/step - loss: 0.2461 - sparse_categorical_accuracy: 0.8994 - sparse_categorical_crossentropy: 0.2461 - AUROC: 0.9494 - val_loss: 0.3882 - val_sparse_categorical_accuracy: 0.8418 - val_sparse_categorical_crossentropy: 0.3882 - val_AUROC: 0.8929\n",
            "Epoch 75/100\n",
            "50/50 [==============================] - 41s 813ms/step - loss: 0.2246 - sparse_categorical_accuracy: 0.9147 - sparse_categorical_crossentropy: 0.2246 - AUROC: 0.9570 - val_loss: 0.4208 - val_sparse_categorical_accuracy: 0.8411 - val_sparse_categorical_crossentropy: 0.4208 - val_AUROC: 0.8816\n",
            "Epoch 76/100\n",
            "50/50 [==============================] - 41s 820ms/step - loss: 0.2372 - sparse_categorical_accuracy: 0.9058 - sparse_categorical_crossentropy: 0.2372 - AUROC: 0.9525 - val_loss: 0.4372 - val_sparse_categorical_accuracy: 0.8353 - val_sparse_categorical_crossentropy: 0.4372 - val_AUROC: 0.8845\n",
            "Epoch 77/100\n",
            "50/50 [==============================] - 41s 809ms/step - loss: 0.2146 - sparse_categorical_accuracy: 0.9167 - sparse_categorical_crossentropy: 0.2146 - AUROC: 0.9616 - val_loss: 0.4334 - val_sparse_categorical_accuracy: 0.8405 - val_sparse_categorical_crossentropy: 0.4334 - val_AUROC: 0.8813\n",
            "Epoch 78/100\n",
            "50/50 [==============================] - 40s 802ms/step - loss: 0.2078 - sparse_categorical_accuracy: 0.9161 - sparse_categorical_crossentropy: 0.2078 - AUROC: 0.9640 - val_loss: 0.4420 - val_sparse_categorical_accuracy: 0.8509 - val_sparse_categorical_crossentropy: 0.4420 - val_AUROC: 0.8812\n",
            "Epoch 79/100\n",
            "50/50 [==============================] - 42s 842ms/step - loss: 0.2134 - sparse_categorical_accuracy: 0.9161 - sparse_categorical_crossentropy: 0.2134 - AUROC: 0.9619 - val_loss: 0.4238 - val_sparse_categorical_accuracy: 0.8587 - val_sparse_categorical_crossentropy: 0.4238 - val_AUROC: 0.8854\n",
            "Epoch 80/100\n",
            "50/50 [==============================] - 43s 857ms/step - loss: 0.2058 - sparse_categorical_accuracy: 0.9172 - sparse_categorical_crossentropy: 0.2058 - AUROC: 0.9650 - val_loss: 0.4403 - val_sparse_categorical_accuracy: 0.8607 - val_sparse_categorical_crossentropy: 0.4403 - val_AUROC: 0.8837\n",
            "Epoch 81/100\n",
            "50/50 [==============================] - 41s 820ms/step - loss: 0.1928 - sparse_categorical_accuracy: 0.9255 - sparse_categorical_crossentropy: 0.1928 - AUROC: 0.9691 - val_loss: 0.4129 - val_sparse_categorical_accuracy: 0.8568 - val_sparse_categorical_crossentropy: 0.4129 - val_AUROC: 0.8903\n",
            "Epoch 82/100\n",
            "50/50 [==============================] - 41s 821ms/step - loss: 0.1931 - sparse_categorical_accuracy: 0.9241 - sparse_categorical_crossentropy: 0.1931 - AUROC: 0.9690 - val_loss: 0.4580 - val_sparse_categorical_accuracy: 0.8444 - val_sparse_categorical_crossentropy: 0.4580 - val_AUROC: 0.8867\n",
            "Epoch 83/100\n",
            "50/50 [==============================] - 41s 822ms/step - loss: 0.2176 - sparse_categorical_accuracy: 0.9173 - sparse_categorical_crossentropy: 0.2176 - AUROC: 0.9611 - val_loss: 0.4162 - val_sparse_categorical_accuracy: 0.8457 - val_sparse_categorical_crossentropy: 0.4162 - val_AUROC: 0.8852\n",
            "Epoch 84/100\n",
            "50/50 [==============================] - 41s 807ms/step - loss: 0.2144 - sparse_categorical_accuracy: 0.9153 - sparse_categorical_crossentropy: 0.2144 - AUROC: 0.9618 - val_loss: 0.4218 - val_sparse_categorical_accuracy: 0.8600 - val_sparse_categorical_crossentropy: 0.4218 - val_AUROC: 0.8880\n",
            "Epoch 85/100\n",
            "50/50 [==============================] - 40s 794ms/step - loss: 0.1946 - sparse_categorical_accuracy: 0.9261 - sparse_categorical_crossentropy: 0.1946 - AUROC: 0.9682 - val_loss: 0.4309 - val_sparse_categorical_accuracy: 0.8594 - val_sparse_categorical_crossentropy: 0.4309 - val_AUROC: 0.8901\n",
            "Epoch 86/100\n",
            "50/50 [==============================] - 40s 797ms/step - loss: 0.2155 - sparse_categorical_accuracy: 0.9167 - sparse_categorical_crossentropy: 0.2155 - AUROC: 0.9608 - val_loss: 0.4778 - val_sparse_categorical_accuracy: 0.8529 - val_sparse_categorical_crossentropy: 0.4778 - val_AUROC: 0.8652\n",
            "Epoch 87/100\n",
            "50/50 [==============================] - 40s 803ms/step - loss: 0.2017 - sparse_categorical_accuracy: 0.9177 - sparse_categorical_crossentropy: 0.2017 - AUROC: 0.9665 - val_loss: 0.4292 - val_sparse_categorical_accuracy: 0.8457 - val_sparse_categorical_crossentropy: 0.4292 - val_AUROC: 0.8842\n",
            "Epoch 88/100\n",
            "50/50 [==============================] - 42s 842ms/step - loss: 0.1950 - sparse_categorical_accuracy: 0.9228 - sparse_categorical_crossentropy: 0.1950 - AUROC: 0.9683 - val_loss: 0.4715 - val_sparse_categorical_accuracy: 0.8555 - val_sparse_categorical_crossentropy: 0.4715 - val_AUROC: 0.8793\n",
            "Epoch 89/100\n",
            "50/50 [==============================] - 43s 856ms/step - loss: 0.1768 - sparse_categorical_accuracy: 0.9320 - sparse_categorical_crossentropy: 0.1768 - AUROC: 0.9742 - val_loss: 0.4445 - val_sparse_categorical_accuracy: 0.8620 - val_sparse_categorical_crossentropy: 0.4445 - val_AUROC: 0.8893\n",
            "Epoch 90/100\n",
            "50/50 [==============================] - 41s 817ms/step - loss: 0.1968 - sparse_categorical_accuracy: 0.9234 - sparse_categorical_crossentropy: 0.1968 - AUROC: 0.9675 - val_loss: 0.4845 - val_sparse_categorical_accuracy: 0.8535 - val_sparse_categorical_crossentropy: 0.4845 - val_AUROC: 0.8770\n",
            "Epoch 91/100\n",
            "50/50 [==============================] - 41s 816ms/step - loss: 0.2005 - sparse_categorical_accuracy: 0.9212 - sparse_categorical_crossentropy: 0.2005 - AUROC: 0.9672 - val_loss: 0.4855 - val_sparse_categorical_accuracy: 0.8464 - val_sparse_categorical_crossentropy: 0.4855 - val_AUROC: 0.8704\n",
            "Epoch 92/100\n",
            "50/50 [==============================] - 40s 807ms/step - loss: 0.1909 - sparse_categorical_accuracy: 0.9264 - sparse_categorical_crossentropy: 0.1909 - AUROC: 0.9696 - val_loss: 0.4831 - val_sparse_categorical_accuracy: 0.8411 - val_sparse_categorical_crossentropy: 0.4831 - val_AUROC: 0.8786\n",
            "Epoch 93/100\n",
            "50/50 [==============================] - 41s 817ms/step - loss: 0.1799 - sparse_categorical_accuracy: 0.9319 - sparse_categorical_crossentropy: 0.1799 - AUROC: 0.9734 - val_loss: 0.4851 - val_sparse_categorical_accuracy: 0.8451 - val_sparse_categorical_crossentropy: 0.4851 - val_AUROC: 0.8723\n",
            "Epoch 94/100\n",
            "50/50 [==============================] - 41s 817ms/step - loss: 0.1720 - sparse_categorical_accuracy: 0.9309 - sparse_categorical_crossentropy: 0.1720 - AUROC: 0.9760 - val_loss: 0.4655 - val_sparse_categorical_accuracy: 0.8490 - val_sparse_categorical_crossentropy: 0.4655 - val_AUROC: 0.8865\n",
            "Epoch 95/100\n",
            "50/50 [==============================] - 41s 820ms/step - loss: 0.1709 - sparse_categorical_accuracy: 0.9347 - sparse_categorical_crossentropy: 0.1709 - AUROC: 0.9756 - val_loss: 0.5104 - val_sparse_categorical_accuracy: 0.8509 - val_sparse_categorical_crossentropy: 0.5104 - val_AUROC: 0.8797\n",
            "Epoch 96/100\n",
            "50/50 [==============================] - 40s 809ms/step - loss: 0.1641 - sparse_categorical_accuracy: 0.9358 - sparse_categorical_crossentropy: 0.1641 - AUROC: 0.9781 - val_loss: 0.5007 - val_sparse_categorical_accuracy: 0.8581 - val_sparse_categorical_crossentropy: 0.5007 - val_AUROC: 0.8814\n",
            "Epoch 97/100\n",
            "50/50 [==============================] - 42s 840ms/step - loss: 0.1528 - sparse_categorical_accuracy: 0.9406 - sparse_categorical_crossentropy: 0.1528 - AUROC: 0.9810 - val_loss: 0.5102 - val_sparse_categorical_accuracy: 0.8600 - val_sparse_categorical_crossentropy: 0.5102 - val_AUROC: 0.8823\n",
            "Epoch 98/100\n",
            "50/50 [==============================] - 41s 827ms/step - loss: 0.1439 - sparse_categorical_accuracy: 0.9430 - sparse_categorical_crossentropy: 0.1439 - AUROC: 0.9828 - val_loss: 0.5372 - val_sparse_categorical_accuracy: 0.8535 - val_sparse_categorical_crossentropy: 0.5372 - val_AUROC: 0.8733\n",
            "Epoch 99/100\n",
            "50/50 [==============================] - 41s 819ms/step - loss: 0.1538 - sparse_categorical_accuracy: 0.9389 - sparse_categorical_crossentropy: 0.1538 - AUROC: 0.9808 - val_loss: 0.5557 - val_sparse_categorical_accuracy: 0.8340 - val_sparse_categorical_crossentropy: 0.5557 - val_AUROC: 0.8833\n",
            "Epoch 100/100\n",
            "50/50 [==============================] - 41s 822ms/step - loss: 0.1655 - sparse_categorical_accuracy: 0.9362 - sparse_categorical_crossentropy: 0.1655 - AUROC: 0.9769 - val_loss: 0.5301 - val_sparse_categorical_accuracy: 0.8464 - val_sparse_categorical_crossentropy: 0.5301 - val_AUROC: 0.8727\n"
          ]
        },
        {
          "output_type": "stream",
          "name": "stderr",
          "text": [
            "WARNING:absl:Found untraced functions such as message_passing_0_layer_call_fn, message_passing_0_layer_call_and_return_conditional_losses, message_passing_1_layer_call_fn, message_passing_1_layer_call_and_return_conditional_losses, message_passing_2_layer_call_fn while saving (showing 5 of 256). These functions will not be directly callable after loading.\n",
            "/usr/local/lib/python3.10/dist-packages/tensorflow/python/saved_model/nested_structure_coder.py:522: UserWarning: Encoding a StructuredValue with type tensorflow_gnn.GraphTensorSpec; loading this StructuredValue will require that this type be imported and registered.\n",
            "  warnings.warn(\"Encoding a StructuredValue with type %s; loading this \"\n",
            "/usr/local/lib/python3.10/dist-packages/tensorflow/python/saved_model/nested_structure_coder.py:522: UserWarning: Encoding a StructuredValue with type tensorflow_gnn.ContextSpec.v2; loading this StructuredValue will require that this type be imported and registered.\n",
            "  warnings.warn(\"Encoding a StructuredValue with type %s; loading this \"\n",
            "/usr/local/lib/python3.10/dist-packages/tensorflow/python/saved_model/nested_structure_coder.py:522: UserWarning: Encoding a StructuredValue with type tensorflow_gnn.NodeSetSpec; loading this StructuredValue will require that this type be imported and registered.\n",
            "  warnings.warn(\"Encoding a StructuredValue with type %s; loading this \"\n",
            "/usr/local/lib/python3.10/dist-packages/tensorflow/python/saved_model/nested_structure_coder.py:522: UserWarning: Encoding a StructuredValue with type tensorflow_gnn.EdgeSetSpec; loading this StructuredValue will require that this type be imported and registered.\n",
            "  warnings.warn(\"Encoding a StructuredValue with type %s; loading this \"\n",
            "/usr/local/lib/python3.10/dist-packages/tensorflow/python/saved_model/nested_structure_coder.py:522: UserWarning: Encoding a StructuredValue with type tensorflow_gnn.AdjacencySpec; loading this StructuredValue will require that this type be imported and registered.\n",
            "  warnings.warn(\"Encoding a StructuredValue with type %s; loading this \"\n"
          ]
        }
      ],
      "source": [
        "runner.run(\n",
        "    train_ds_provider=train_dataset_provider,\n",
        "    valid_ds_provider=valid_dataset_provider,\n",
        "    feature_processors=[extract_labels],\n",
        "    model_fn=get_model_creation_fn(hidden_size=128, hops=16),\n",
        "    task=task,\n",
        "    trainer=trainer,\n",
        "    epochs=100,\n",
        "    optimizer_fn=tf.keras.optimizers.Adam,\n",
        "    gtspec=graph_spec,\n",
        "    global_batch_size=128\n",
        ")"
      ]
    },
    {
      "cell_type": "code",
      "source": [
        "import tensorflow as tf\n",
        "from tensorflow.keras.models import Sequential\n",
        "from tensorflow.keras.layers import Conv2D, UpSampling2D\n",
        "import numpy as np\n",
        "\n",
        "# Define the CNN model\n",
        "def create_model():\n",
        "    model = Sequential()\n",
        "\n",
        "    # Encoder\n",
        "    model.add(Conv2D(64, kernel_size=(3, 3), activation='relu', padding='same', input_shape=(None, None, 1)))\n",
        "    model.add(Conv2D(128, kernel_size=(3, 3), activation='relu', strides=(2, 2), padding='same'))\n",
        "    model.add(Conv2D(256, kernel_size=(3, 3), activation='relu', strides=(2, 2), padding='same'))\n",
        "\n",
        "    # Decoder\n",
        "    model.add(Conv2D(128, kernel_size=(3, 3), activation='relu', padding='same'))\n",
        "    model.add(UpSampling2D((2, 2)))\n",
        "    model.add(Conv2D(64, kernel_size=(3, 3), activation='relu', padding='same'))\n",
        "    model.add(UpSampling2D((2, 2)))\n",
        "    model.add(Conv2D(2, kernel_size=(3, 3), activation='tanh', padding='same'))\n",
        "\n",
        "    return model\n",
        "\n",
        "\n",
        "\n"
      ],
      "metadata": {
        "id": "ZsJ4XuUaH_H7"
      },
      "execution_count": 44,
      "outputs": []
    },
    {
      "cell_type": "code",
      "source": [
        "# Create the model\n",
        "model = create_model()\n"
      ],
      "metadata": {
        "id": "h0esRexcIHSm"
      },
      "execution_count": 45,
      "outputs": []
    },
    {
      "cell_type": "code",
      "source": [
        "# Compile the model\n",
        "model.compile(optimizer='adam', loss='mse', metrics=['accuracy'])\n",
        "\n",
        "# Load pre-trained weights (if available)\n",
        "# model.load_weights('colorization_model_weights.h5')\n",
        "\n",
        "# Load the input black and white image\n",
        "# Assuming the input image is in grayscale and has the shape (height, width, 1)\n",
        "input_image = np.load('input_image.npy')\n",
        "\n"
      ],
      "metadata": {
        "id": "CAg6jitGIFyu"
      },
      "execution_count": null,
      "outputs": []
    },
    {
      "cell_type": "code",
      "source": [
        "\n",
        "# Preprocess the input image\n",
        "input_image = np.expand_dims(input_image, axis=0)\n",
        "\n",
        "# Normalize the input image\n",
        "input_image = input_image.astype('float32') / 255.0\n",
        "\n",
        "# Predict the output color image\n",
        "output_image = model.predict(input_image)\n",
        "\n",
        "# Denormalize the output image\n",
        "output_image = (output_image * 255.0).astype('uint8')\n"
      ],
      "metadata": {
        "id": "VBgETI7wIDuH"
      },
      "execution_count": null,
      "outputs": []
    },
    {
      "cell_type": "code",
      "source": [
        "# Save the output color image\n",
        "# Assuming you want to save the output as 'output_image.jpg'\n",
        "# You can change the output format as per your requirement\n",
        "output_image_path = 'output_image.jpg'\n",
        "Image.fromarray(output_image[0]).save(output_image_path)\n",
        "\n",
        "# Print the predicted output color image\n",
        "print(\"Output image saved at:\", output_image_path)"
      ],
      "metadata": {
        "id": "W30lIkVSIB1f"
      },
      "execution_count": null,
      "outputs": []
    },
    {
      "cell_type": "markdown",
      "source": [
        "Validation AUROC accuracy = 90.24%"
      ],
      "metadata": {
        "id": "wej_Au8sAbzA"
      }
    }
  ],
  "metadata": {
    "accelerator": "GPU",
    "colab": {
      "provenance": [],
      "gpuType": "T4"
    },
    "gpuClass": "standard",
    "kernelspec": {
      "display_name": "Python 3",
      "name": "python3"
    },
    "language_info": {
      "name": "python"
    },
    "widgets": {
      "application/vnd.jupyter.widget-state+json": {
        "099556ee853c466694cff1918c8b74c6": {
          "model_module": "@jupyter-widgets/controls",
          "model_name": "HBoxModel",
          "model_module_version": "1.5.0",
          "state": {
            "_dom_classes": [],
            "_model_module": "@jupyter-widgets/controls",
            "_model_module_version": "1.5.0",
            "_model_name": "HBoxModel",
            "_view_count": null,
            "_view_module": "@jupyter-widgets/controls",
            "_view_module_version": "1.5.0",
            "_view_name": "HBoxView",
            "box_style": "",
            "children": [
              "IPY_MODEL_ac37888256a049a7bb791bfd0926c79b",
              "IPY_MODEL_27afda310f554cf2b6c6ca35595b56f3",
              "IPY_MODEL_de34edd71ec3419698e701f12a2fc76d"
            ],
            "layout": "IPY_MODEL_0375ae94185d41ab957be40ccb332eef"
          }
        },
        "ac37888256a049a7bb791bfd0926c79b": {
          "model_module": "@jupyter-widgets/controls",
          "model_name": "HTMLModel",
          "model_module_version": "1.5.0",
          "state": {
            "_dom_classes": [],
            "_model_module": "@jupyter-widgets/controls",
            "_model_module_version": "1.5.0",
            "_model_name": "HTMLModel",
            "_view_count": null,
            "_view_module": "@jupyter-widgets/controls",
            "_view_module_version": "1.5.0",
            "_view_name": "HTMLView",
            "description": "",
            "description_tooltip": null,
            "layout": "IPY_MODEL_d26e26bfdb714584bb8545ff28b596a3",
            "placeholder": "​",
            "style": "IPY_MODEL_ed19f09268a74703af1947809597741a",
            "value": "Generating splits...: 100%"
          }
        },
        "27afda310f554cf2b6c6ca35595b56f3": {
          "model_module": "@jupyter-widgets/controls",
          "model_name": "FloatProgressModel",
          "model_module_version": "1.5.0",
          "state": {
            "_dom_classes": [],
            "_model_module": "@jupyter-widgets/controls",
            "_model_module_version": "1.5.0",
            "_model_name": "FloatProgressModel",
            "_view_count": null,
            "_view_module": "@jupyter-widgets/controls",
            "_view_module_version": "1.5.0",
            "_view_name": "ProgressView",
            "bar_style": "",
            "description": "",
            "description_tooltip": null,
            "layout": "IPY_MODEL_b2f359c55be440c39e0eece1d1600f33",
            "max": 4,
            "min": 0,
            "orientation": "horizontal",
            "style": "IPY_MODEL_b8aa0156aac5412c8f1c064aecd71caf",
            "value": 4
          }
        },
        "de34edd71ec3419698e701f12a2fc76d": {
          "model_module": "@jupyter-widgets/controls",
          "model_name": "HTMLModel",
          "model_module_version": "1.5.0",
          "state": {
            "_dom_classes": [],
            "_model_module": "@jupyter-widgets/controls",
            "_model_module_version": "1.5.0",
            "_model_name": "HTMLModel",
            "_view_count": null,
            "_view_module": "@jupyter-widgets/controls",
            "_view_module_version": "1.5.0",
            "_view_name": "HTMLView",
            "description": "",
            "description_tooltip": null,
            "layout": "IPY_MODEL_ff26f73a9e0b41c2920783f22938d0ec",
            "placeholder": "​",
            "style": "IPY_MODEL_82e8f78549cb488ca309d5cd6f20d9bc",
            "value": " 4/4 [03:23&lt;00:00, 32.39s/ splits]"
          }
        },
        "0375ae94185d41ab957be40ccb332eef": {
          "model_module": "@jupyter-widgets/base",
          "model_name": "LayoutModel",
          "model_module_version": "1.2.0",
          "state": {
            "_model_module": "@jupyter-widgets/base",
            "_model_module_version": "1.2.0",
            "_model_name": "LayoutModel",
            "_view_count": null,
            "_view_module": "@jupyter-widgets/base",
            "_view_module_version": "1.2.0",
            "_view_name": "LayoutView",
            "align_content": null,
            "align_items": null,
            "align_self": null,
            "border": null,
            "bottom": null,
            "display": null,
            "flex": null,
            "flex_flow": null,
            "grid_area": null,
            "grid_auto_columns": null,
            "grid_auto_flow": null,
            "grid_auto_rows": null,
            "grid_column": null,
            "grid_gap": null,
            "grid_row": null,
            "grid_template_areas": null,
            "grid_template_columns": null,
            "grid_template_rows": null,
            "height": null,
            "justify_content": null,
            "justify_items": null,
            "left": null,
            "margin": null,
            "max_height": null,
            "max_width": null,
            "min_height": null,
            "min_width": null,
            "object_fit": null,
            "object_position": null,
            "order": null,
            "overflow": null,
            "overflow_x": null,
            "overflow_y": null,
            "padding": null,
            "right": null,
            "top": null,
            "visibility": "hidden",
            "width": null
          }
        },
        "d26e26bfdb714584bb8545ff28b596a3": {
          "model_module": "@jupyter-widgets/base",
          "model_name": "LayoutModel",
          "model_module_version": "1.2.0",
          "state": {
            "_model_module": "@jupyter-widgets/base",
            "_model_module_version": "1.2.0",
            "_model_name": "LayoutModel",
            "_view_count": null,
            "_view_module": "@jupyter-widgets/base",
            "_view_module_version": "1.2.0",
            "_view_name": "LayoutView",
            "align_content": null,
            "align_items": null,
            "align_self": null,
            "border": null,
            "bottom": null,
            "display": null,
            "flex": null,
            "flex_flow": null,
            "grid_area": null,
            "grid_auto_columns": null,
            "grid_auto_flow": null,
            "grid_auto_rows": null,
            "grid_column": null,
            "grid_gap": null,
            "grid_row": null,
            "grid_template_areas": null,
            "grid_template_columns": null,
            "grid_template_rows": null,
            "height": null,
            "justify_content": null,
            "justify_items": null,
            "left": null,
            "margin": null,
            "max_height": null,
            "max_width": null,
            "min_height": null,
            "min_width": null,
            "object_fit": null,
            "object_position": null,
            "order": null,
            "overflow": null,
            "overflow_x": null,
            "overflow_y": null,
            "padding": null,
            "right": null,
            "top": null,
            "visibility": null,
            "width": null
          }
        },
        "ed19f09268a74703af1947809597741a": {
          "model_module": "@jupyter-widgets/controls",
          "model_name": "DescriptionStyleModel",
          "model_module_version": "1.5.0",
          "state": {
            "_model_module": "@jupyter-widgets/controls",
            "_model_module_version": "1.5.0",
            "_model_name": "DescriptionStyleModel",
            "_view_count": null,
            "_view_module": "@jupyter-widgets/base",
            "_view_module_version": "1.2.0",
            "_view_name": "StyleView",
            "description_width": ""
          }
        },
        "b2f359c55be440c39e0eece1d1600f33": {
          "model_module": "@jupyter-widgets/base",
          "model_name": "LayoutModel",
          "model_module_version": "1.2.0",
          "state": {
            "_model_module": "@jupyter-widgets/base",
            "_model_module_version": "1.2.0",
            "_model_name": "LayoutModel",
            "_view_count": null,
            "_view_module": "@jupyter-widgets/base",
            "_view_module_version": "1.2.0",
            "_view_name": "LayoutView",
            "align_content": null,
            "align_items": null,
            "align_self": null,
            "border": null,
            "bottom": null,
            "display": null,
            "flex": null,
            "flex_flow": null,
            "grid_area": null,
            "grid_auto_columns": null,
            "grid_auto_flow": null,
            "grid_auto_rows": null,
            "grid_column": null,
            "grid_gap": null,
            "grid_row": null,
            "grid_template_areas": null,
            "grid_template_columns": null,
            "grid_template_rows": null,
            "height": null,
            "justify_content": null,
            "justify_items": null,
            "left": null,
            "margin": null,
            "max_height": null,
            "max_width": null,
            "min_height": null,
            "min_width": null,
            "object_fit": null,
            "object_position": null,
            "order": null,
            "overflow": null,
            "overflow_x": null,
            "overflow_y": null,
            "padding": null,
            "right": null,
            "top": null,
            "visibility": null,
            "width": null
          }
        },
        "b8aa0156aac5412c8f1c064aecd71caf": {
          "model_module": "@jupyter-widgets/controls",
          "model_name": "ProgressStyleModel",
          "model_module_version": "1.5.0",
          "state": {
            "_model_module": "@jupyter-widgets/controls",
            "_model_module_version": "1.5.0",
            "_model_name": "ProgressStyleModel",
            "_view_count": null,
            "_view_module": "@jupyter-widgets/base",
            "_view_module_version": "1.2.0",
            "_view_name": "StyleView",
            "bar_color": null,
            "description_width": ""
          }
        },
        "ff26f73a9e0b41c2920783f22938d0ec": {
          "model_module": "@jupyter-widgets/base",
          "model_name": "LayoutModel",
          "model_module_version": "1.2.0",
          "state": {
            "_model_module": "@jupyter-widgets/base",
            "_model_module_version": "1.2.0",
            "_model_name": "LayoutModel",
            "_view_count": null,
            "_view_module": "@jupyter-widgets/base",
            "_view_module_version": "1.2.0",
            "_view_name": "LayoutView",
            "align_content": null,
            "align_items": null,
            "align_self": null,
            "border": null,
            "bottom": null,
            "display": null,
            "flex": null,
            "flex_flow": null,
            "grid_area": null,
            "grid_auto_columns": null,
            "grid_auto_flow": null,
            "grid_auto_rows": null,
            "grid_column": null,
            "grid_gap": null,
            "grid_row": null,
            "grid_template_areas": null,
            "grid_template_columns": null,
            "grid_template_rows": null,
            "height": null,
            "justify_content": null,
            "justify_items": null,
            "left": null,
            "margin": null,
            "max_height": null,
            "max_width": null,
            "min_height": null,
            "min_width": null,
            "object_fit": null,
            "object_position": null,
            "order": null,
            "overflow": null,
            "overflow_x": null,
            "overflow_y": null,
            "padding": null,
            "right": null,
            "top": null,
            "visibility": null,
            "width": null
          }
        },
        "82e8f78549cb488ca309d5cd6f20d9bc": {
          "model_module": "@jupyter-widgets/controls",
          "model_name": "DescriptionStyleModel",
          "model_module_version": "1.5.0",
          "state": {
            "_model_module": "@jupyter-widgets/controls",
            "_model_module_version": "1.5.0",
            "_model_name": "DescriptionStyleModel",
            "_view_count": null,
            "_view_module": "@jupyter-widgets/base",
            "_view_module_version": "1.2.0",
            "_view_name": "StyleView",
            "description_width": ""
          }
        },
        "70a2a1fed4bc45e18ab3efb8276db72b": {
          "model_module": "@jupyter-widgets/controls",
          "model_name": "HBoxModel",
          "model_module_version": "1.5.0",
          "state": {
            "_dom_classes": [],
            "_model_module": "@jupyter-widgets/controls",
            "_model_module_version": "1.5.0",
            "_model_name": "HBoxModel",
            "_view_count": null,
            "_view_module": "@jupyter-widgets/controls",
            "_view_module_version": "1.5.0",
            "_view_name": "HBoxView",
            "box_style": "",
            "children": [
              "IPY_MODEL_700084dfef1e4199b2b9102192d839c2",
              "IPY_MODEL_16573da2d2a940259c20d92bdaa82ec5",
              "IPY_MODEL_686f52ae26e6491d88e9581ae57c3539"
            ],
            "layout": "IPY_MODEL_616e568a6a954c03a7bd55916e7d9d6f"
          }
        },
        "700084dfef1e4199b2b9102192d839c2": {
          "model_module": "@jupyter-widgets/controls",
          "model_name": "HTMLModel",
          "model_module_version": "1.5.0",
          "state": {
            "_dom_classes": [],
            "_model_module": "@jupyter-widgets/controls",
            "_model_module_version": "1.5.0",
            "_model_name": "HTMLModel",
            "_view_count": null,
            "_view_module": "@jupyter-widgets/controls",
            "_view_module_version": "1.5.0",
            "_view_name": "HTMLView",
            "description": "",
            "description_tooltip": null,
            "layout": "IPY_MODEL_5d8ce9e8f07749eebbeb04147f274caf",
            "placeholder": "​",
            "style": "IPY_MODEL_f3179c65c6ac48bbb2d817ee5f636b93",
            "value": "Generating train examples...:  99%"
          }
        },
        "16573da2d2a940259c20d92bdaa82ec5": {
          "model_module": "@jupyter-widgets/controls",
          "model_name": "FloatProgressModel",
          "model_module_version": "1.5.0",
          "state": {
            "_dom_classes": [],
            "_model_module": "@jupyter-widgets/controls",
            "_model_module_version": "1.5.0",
            "_model_name": "FloatProgressModel",
            "_view_count": null,
            "_view_module": "@jupyter-widgets/controls",
            "_view_module_version": "1.5.0",
            "_view_name": "ProgressView",
            "bar_style": "",
            "description": "",
            "description_tooltip": null,
            "layout": "IPY_MODEL_18571c43f7ef43279e293d4773f2d6eb",
            "max": 6523,
            "min": 0,
            "orientation": "horizontal",
            "style": "IPY_MODEL_edfcd39e0b5e4d88888d8345fa249607",
            "value": 6523
          }
        },
        "686f52ae26e6491d88e9581ae57c3539": {
          "model_module": "@jupyter-widgets/controls",
          "model_name": "HTMLModel",
          "model_module_version": "1.5.0",
          "state": {
            "_dom_classes": [],
            "_model_module": "@jupyter-widgets/controls",
            "_model_module_version": "1.5.0",
            "_model_name": "HTMLModel",
            "_view_count": null,
            "_view_module": "@jupyter-widgets/controls",
            "_view_module_version": "1.5.0",
            "_view_name": "HTMLView",
            "description": "",
            "description_tooltip": null,
            "layout": "IPY_MODEL_f2a58f8f66734a5e8e96202c6b3a7056",
            "placeholder": "​",
            "style": "IPY_MODEL_ba2eb56759844e1a9f318d6a1adb6edc",
            "value": " 6464/6523 [01:50&lt;00:00, 68.55 examples/s]"
          }
        },
        "616e568a6a954c03a7bd55916e7d9d6f": {
          "model_module": "@jupyter-widgets/base",
          "model_name": "LayoutModel",
          "model_module_version": "1.2.0",
          "state": {
            "_model_module": "@jupyter-widgets/base",
            "_model_module_version": "1.2.0",
            "_model_name": "LayoutModel",
            "_view_count": null,
            "_view_module": "@jupyter-widgets/base",
            "_view_module_version": "1.2.0",
            "_view_name": "LayoutView",
            "align_content": null,
            "align_items": null,
            "align_self": null,
            "border": null,
            "bottom": null,
            "display": null,
            "flex": null,
            "flex_flow": null,
            "grid_area": null,
            "grid_auto_columns": null,
            "grid_auto_flow": null,
            "grid_auto_rows": null,
            "grid_column": null,
            "grid_gap": null,
            "grid_row": null,
            "grid_template_areas": null,
            "grid_template_columns": null,
            "grid_template_rows": null,
            "height": null,
            "justify_content": null,
            "justify_items": null,
            "left": null,
            "margin": null,
            "max_height": null,
            "max_width": null,
            "min_height": null,
            "min_width": null,
            "object_fit": null,
            "object_position": null,
            "order": null,
            "overflow": null,
            "overflow_x": null,
            "overflow_y": null,
            "padding": null,
            "right": null,
            "top": null,
            "visibility": "hidden",
            "width": null
          }
        },
        "5d8ce9e8f07749eebbeb04147f274caf": {
          "model_module": "@jupyter-widgets/base",
          "model_name": "LayoutModel",
          "model_module_version": "1.2.0",
          "state": {
            "_model_module": "@jupyter-widgets/base",
            "_model_module_version": "1.2.0",
            "_model_name": "LayoutModel",
            "_view_count": null,
            "_view_module": "@jupyter-widgets/base",
            "_view_module_version": "1.2.0",
            "_view_name": "LayoutView",
            "align_content": null,
            "align_items": null,
            "align_self": null,
            "border": null,
            "bottom": null,
            "display": null,
            "flex": null,
            "flex_flow": null,
            "grid_area": null,
            "grid_auto_columns": null,
            "grid_auto_flow": null,
            "grid_auto_rows": null,
            "grid_column": null,
            "grid_gap": null,
            "grid_row": null,
            "grid_template_areas": null,
            "grid_template_columns": null,
            "grid_template_rows": null,
            "height": null,
            "justify_content": null,
            "justify_items": null,
            "left": null,
            "margin": null,
            "max_height": null,
            "max_width": null,
            "min_height": null,
            "min_width": null,
            "object_fit": null,
            "object_position": null,
            "order": null,
            "overflow": null,
            "overflow_x": null,
            "overflow_y": null,
            "padding": null,
            "right": null,
            "top": null,
            "visibility": null,
            "width": null
          }
        },
        "f3179c65c6ac48bbb2d817ee5f636b93": {
          "model_module": "@jupyter-widgets/controls",
          "model_name": "DescriptionStyleModel",
          "model_module_version": "1.5.0",
          "state": {
            "_model_module": "@jupyter-widgets/controls",
            "_model_module_version": "1.5.0",
            "_model_name": "DescriptionStyleModel",
            "_view_count": null,
            "_view_module": "@jupyter-widgets/base",
            "_view_module_version": "1.2.0",
            "_view_name": "StyleView",
            "description_width": ""
          }
        },
        "18571c43f7ef43279e293d4773f2d6eb": {
          "model_module": "@jupyter-widgets/base",
          "model_name": "LayoutModel",
          "model_module_version": "1.2.0",
          "state": {
            "_model_module": "@jupyter-widgets/base",
            "_model_module_version": "1.2.0",
            "_model_name": "LayoutModel",
            "_view_count": null,
            "_view_module": "@jupyter-widgets/base",
            "_view_module_version": "1.2.0",
            "_view_name": "LayoutView",
            "align_content": null,
            "align_items": null,
            "align_self": null,
            "border": null,
            "bottom": null,
            "display": null,
            "flex": null,
            "flex_flow": null,
            "grid_area": null,
            "grid_auto_columns": null,
            "grid_auto_flow": null,
            "grid_auto_rows": null,
            "grid_column": null,
            "grid_gap": null,
            "grid_row": null,
            "grid_template_areas": null,
            "grid_template_columns": null,
            "grid_template_rows": null,
            "height": null,
            "justify_content": null,
            "justify_items": null,
            "left": null,
            "margin": null,
            "max_height": null,
            "max_width": null,
            "min_height": null,
            "min_width": null,
            "object_fit": null,
            "object_position": null,
            "order": null,
            "overflow": null,
            "overflow_x": null,
            "overflow_y": null,
            "padding": null,
            "right": null,
            "top": null,
            "visibility": null,
            "width": null
          }
        },
        "edfcd39e0b5e4d88888d8345fa249607": {
          "model_module": "@jupyter-widgets/controls",
          "model_name": "ProgressStyleModel",
          "model_module_version": "1.5.0",
          "state": {
            "_model_module": "@jupyter-widgets/controls",
            "_model_module_version": "1.5.0",
            "_model_name": "ProgressStyleModel",
            "_view_count": null,
            "_view_module": "@jupyter-widgets/base",
            "_view_module_version": "1.2.0",
            "_view_name": "StyleView",
            "bar_color": null,
            "description_width": ""
          }
        },
        "f2a58f8f66734a5e8e96202c6b3a7056": {
          "model_module": "@jupyter-widgets/base",
          "model_name": "LayoutModel",
          "model_module_version": "1.2.0",
          "state": {
            "_model_module": "@jupyter-widgets/base",
            "_model_module_version": "1.2.0",
            "_model_name": "LayoutModel",
            "_view_count": null,
            "_view_module": "@jupyter-widgets/base",
            "_view_module_version": "1.2.0",
            "_view_name": "LayoutView",
            "align_content": null,
            "align_items": null,
            "align_self": null,
            "border": null,
            "bottom": null,
            "display": null,
            "flex": null,
            "flex_flow": null,
            "grid_area": null,
            "grid_auto_columns": null,
            "grid_auto_flow": null,
            "grid_auto_rows": null,
            "grid_column": null,
            "grid_gap": null,
            "grid_row": null,
            "grid_template_areas": null,
            "grid_template_columns": null,
            "grid_template_rows": null,
            "height": null,
            "justify_content": null,
            "justify_items": null,
            "left": null,
            "margin": null,
            "max_height": null,
            "max_width": null,
            "min_height": null,
            "min_width": null,
            "object_fit": null,
            "object_position": null,
            "order": null,
            "overflow": null,
            "overflow_x": null,
            "overflow_y": null,
            "padding": null,
            "right": null,
            "top": null,
            "visibility": null,
            "width": null
          }
        },
        "ba2eb56759844e1a9f318d6a1adb6edc": {
          "model_module": "@jupyter-widgets/controls",
          "model_name": "DescriptionStyleModel",
          "model_module_version": "1.5.0",
          "state": {
            "_model_module": "@jupyter-widgets/controls",
            "_model_module_version": "1.5.0",
            "_model_name": "DescriptionStyleModel",
            "_view_count": null,
            "_view_module": "@jupyter-widgets/base",
            "_view_module_version": "1.2.0",
            "_view_name": "StyleView",
            "description_width": ""
          }
        },
        "f42191773b0c46869fcffbfb896419f2": {
          "model_module": "@jupyter-widgets/controls",
          "model_name": "HBoxModel",
          "model_module_version": "1.5.0",
          "state": {
            "_dom_classes": [],
            "_model_module": "@jupyter-widgets/controls",
            "_model_module_version": "1.5.0",
            "_model_name": "HBoxModel",
            "_view_count": null,
            "_view_module": "@jupyter-widgets/controls",
            "_view_module_version": "1.5.0",
            "_view_name": "HBoxView",
            "box_style": "",
            "children": [
              "IPY_MODEL_f24b10ff9e544ec9a61d7f92e3a1d111",
              "IPY_MODEL_697b4ef536164c1cb50666b64969ed63",
              "IPY_MODEL_ba9fff71d2b04d50b83c657a280a8a86"
            ],
            "layout": "IPY_MODEL_497735443c6843faada3012952286176"
          }
        },
        "f24b10ff9e544ec9a61d7f92e3a1d111": {
          "model_module": "@jupyter-widgets/controls",
          "model_name": "HTMLModel",
          "model_module_version": "1.5.0",
          "state": {
            "_dom_classes": [],
            "_model_module": "@jupyter-widgets/controls",
            "_model_module_version": "1.5.0",
            "_model_name": "HTMLModel",
            "_view_count": null,
            "_view_module": "@jupyter-widgets/controls",
            "_view_module_version": "1.5.0",
            "_view_name": "HTMLView",
            "description": "",
            "description_tooltip": null,
            "layout": "IPY_MODEL_0f75b6f0e43d4ac6827ad4a513309186",
            "placeholder": "​",
            "style": "IPY_MODEL_c61ce5a31b6246cbaee667febec647e9",
            "value": "Shuffling data/tfds/cardiotox/1.0.0.incomplete977SGX/cardiotox-train.tfrecord*...:  99%"
          }
        },
        "697b4ef536164c1cb50666b64969ed63": {
          "model_module": "@jupyter-widgets/controls",
          "model_name": "FloatProgressModel",
          "model_module_version": "1.5.0",
          "state": {
            "_dom_classes": [],
            "_model_module": "@jupyter-widgets/controls",
            "_model_module_version": "1.5.0",
            "_model_name": "FloatProgressModel",
            "_view_count": null,
            "_view_module": "@jupyter-widgets/controls",
            "_view_module_version": "1.5.0",
            "_view_name": "ProgressView",
            "bar_style": "",
            "description": "",
            "description_tooltip": null,
            "layout": "IPY_MODEL_c937a627de4945a8b1873a609a41a151",
            "max": 6523,
            "min": 0,
            "orientation": "horizontal",
            "style": "IPY_MODEL_72ae150b74c144638281b37fd68e3f40",
            "value": 6523
          }
        },
        "ba9fff71d2b04d50b83c657a280a8a86": {
          "model_module": "@jupyter-widgets/controls",
          "model_name": "HTMLModel",
          "model_module_version": "1.5.0",
          "state": {
            "_dom_classes": [],
            "_model_module": "@jupyter-widgets/controls",
            "_model_module_version": "1.5.0",
            "_model_name": "HTMLModel",
            "_view_count": null,
            "_view_module": "@jupyter-widgets/controls",
            "_view_module_version": "1.5.0",
            "_view_name": "HTMLView",
            "description": "",
            "description_tooltip": null,
            "layout": "IPY_MODEL_57315831e24d486a81dd84de02f97e9f",
            "placeholder": "​",
            "style": "IPY_MODEL_4471397187f54b68ad22f47707ad870d",
            "value": " 6471/6523 [00:04&lt;00:00, 1277.68 examples/s]"
          }
        },
        "497735443c6843faada3012952286176": {
          "model_module": "@jupyter-widgets/base",
          "model_name": "LayoutModel",
          "model_module_version": "1.2.0",
          "state": {
            "_model_module": "@jupyter-widgets/base",
            "_model_module_version": "1.2.0",
            "_model_name": "LayoutModel",
            "_view_count": null,
            "_view_module": "@jupyter-widgets/base",
            "_view_module_version": "1.2.0",
            "_view_name": "LayoutView",
            "align_content": null,
            "align_items": null,
            "align_self": null,
            "border": null,
            "bottom": null,
            "display": null,
            "flex": null,
            "flex_flow": null,
            "grid_area": null,
            "grid_auto_columns": null,
            "grid_auto_flow": null,
            "grid_auto_rows": null,
            "grid_column": null,
            "grid_gap": null,
            "grid_row": null,
            "grid_template_areas": null,
            "grid_template_columns": null,
            "grid_template_rows": null,
            "height": null,
            "justify_content": null,
            "justify_items": null,
            "left": null,
            "margin": null,
            "max_height": null,
            "max_width": null,
            "min_height": null,
            "min_width": null,
            "object_fit": null,
            "object_position": null,
            "order": null,
            "overflow": null,
            "overflow_x": null,
            "overflow_y": null,
            "padding": null,
            "right": null,
            "top": null,
            "visibility": "hidden",
            "width": null
          }
        },
        "0f75b6f0e43d4ac6827ad4a513309186": {
          "model_module": "@jupyter-widgets/base",
          "model_name": "LayoutModel",
          "model_module_version": "1.2.0",
          "state": {
            "_model_module": "@jupyter-widgets/base",
            "_model_module_version": "1.2.0",
            "_model_name": "LayoutModel",
            "_view_count": null,
            "_view_module": "@jupyter-widgets/base",
            "_view_module_version": "1.2.0",
            "_view_name": "LayoutView",
            "align_content": null,
            "align_items": null,
            "align_self": null,
            "border": null,
            "bottom": null,
            "display": null,
            "flex": null,
            "flex_flow": null,
            "grid_area": null,
            "grid_auto_columns": null,
            "grid_auto_flow": null,
            "grid_auto_rows": null,
            "grid_column": null,
            "grid_gap": null,
            "grid_row": null,
            "grid_template_areas": null,
            "grid_template_columns": null,
            "grid_template_rows": null,
            "height": null,
            "justify_content": null,
            "justify_items": null,
            "left": null,
            "margin": null,
            "max_height": null,
            "max_width": null,
            "min_height": null,
            "min_width": null,
            "object_fit": null,
            "object_position": null,
            "order": null,
            "overflow": null,
            "overflow_x": null,
            "overflow_y": null,
            "padding": null,
            "right": null,
            "top": null,
            "visibility": null,
            "width": null
          }
        },
        "c61ce5a31b6246cbaee667febec647e9": {
          "model_module": "@jupyter-widgets/controls",
          "model_name": "DescriptionStyleModel",
          "model_module_version": "1.5.0",
          "state": {
            "_model_module": "@jupyter-widgets/controls",
            "_model_module_version": "1.5.0",
            "_model_name": "DescriptionStyleModel",
            "_view_count": null,
            "_view_module": "@jupyter-widgets/base",
            "_view_module_version": "1.2.0",
            "_view_name": "StyleView",
            "description_width": ""
          }
        },
        "c937a627de4945a8b1873a609a41a151": {
          "model_module": "@jupyter-widgets/base",
          "model_name": "LayoutModel",
          "model_module_version": "1.2.0",
          "state": {
            "_model_module": "@jupyter-widgets/base",
            "_model_module_version": "1.2.0",
            "_model_name": "LayoutModel",
            "_view_count": null,
            "_view_module": "@jupyter-widgets/base",
            "_view_module_version": "1.2.0",
            "_view_name": "LayoutView",
            "align_content": null,
            "align_items": null,
            "align_self": null,
            "border": null,
            "bottom": null,
            "display": null,
            "flex": null,
            "flex_flow": null,
            "grid_area": null,
            "grid_auto_columns": null,
            "grid_auto_flow": null,
            "grid_auto_rows": null,
            "grid_column": null,
            "grid_gap": null,
            "grid_row": null,
            "grid_template_areas": null,
            "grid_template_columns": null,
            "grid_template_rows": null,
            "height": null,
            "justify_content": null,
            "justify_items": null,
            "left": null,
            "margin": null,
            "max_height": null,
            "max_width": null,
            "min_height": null,
            "min_width": null,
            "object_fit": null,
            "object_position": null,
            "order": null,
            "overflow": null,
            "overflow_x": null,
            "overflow_y": null,
            "padding": null,
            "right": null,
            "top": null,
            "visibility": null,
            "width": null
          }
        },
        "72ae150b74c144638281b37fd68e3f40": {
          "model_module": "@jupyter-widgets/controls",
          "model_name": "ProgressStyleModel",
          "model_module_version": "1.5.0",
          "state": {
            "_model_module": "@jupyter-widgets/controls",
            "_model_module_version": "1.5.0",
            "_model_name": "ProgressStyleModel",
            "_view_count": null,
            "_view_module": "@jupyter-widgets/base",
            "_view_module_version": "1.2.0",
            "_view_name": "StyleView",
            "bar_color": null,
            "description_width": ""
          }
        },
        "57315831e24d486a81dd84de02f97e9f": {
          "model_module": "@jupyter-widgets/base",
          "model_name": "LayoutModel",
          "model_module_version": "1.2.0",
          "state": {
            "_model_module": "@jupyter-widgets/base",
            "_model_module_version": "1.2.0",
            "_model_name": "LayoutModel",
            "_view_count": null,
            "_view_module": "@jupyter-widgets/base",
            "_view_module_version": "1.2.0",
            "_view_name": "LayoutView",
            "align_content": null,
            "align_items": null,
            "align_self": null,
            "border": null,
            "bottom": null,
            "display": null,
            "flex": null,
            "flex_flow": null,
            "grid_area": null,
            "grid_auto_columns": null,
            "grid_auto_flow": null,
            "grid_auto_rows": null,
            "grid_column": null,
            "grid_gap": null,
            "grid_row": null,
            "grid_template_areas": null,
            "grid_template_columns": null,
            "grid_template_rows": null,
            "height": null,
            "justify_content": null,
            "justify_items": null,
            "left": null,
            "margin": null,
            "max_height": null,
            "max_width": null,
            "min_height": null,
            "min_width": null,
            "object_fit": null,
            "object_position": null,
            "order": null,
            "overflow": null,
            "overflow_x": null,
            "overflow_y": null,
            "padding": null,
            "right": null,
            "top": null,
            "visibility": null,
            "width": null
          }
        },
        "4471397187f54b68ad22f47707ad870d": {
          "model_module": "@jupyter-widgets/controls",
          "model_name": "DescriptionStyleModel",
          "model_module_version": "1.5.0",
          "state": {
            "_model_module": "@jupyter-widgets/controls",
            "_model_module_version": "1.5.0",
            "_model_name": "DescriptionStyleModel",
            "_view_count": null,
            "_view_module": "@jupyter-widgets/base",
            "_view_module_version": "1.2.0",
            "_view_name": "StyleView",
            "description_width": ""
          }
        },
        "3c64260513e3451dae7a43742e9caba1": {
          "model_module": "@jupyter-widgets/controls",
          "model_name": "HBoxModel",
          "model_module_version": "1.5.0",
          "state": {
            "_dom_classes": [],
            "_model_module": "@jupyter-widgets/controls",
            "_model_module_version": "1.5.0",
            "_model_name": "HBoxModel",
            "_view_count": null,
            "_view_module": "@jupyter-widgets/controls",
            "_view_module_version": "1.5.0",
            "_view_name": "HBoxView",
            "box_style": "",
            "children": [
              "IPY_MODEL_b6bca1d53b124f05879706582e3ab93e",
              "IPY_MODEL_cbffeccb46d74dfbb9de021515aee5f8",
              "IPY_MODEL_7248985458b44de69d09d706ca04fed2"
            ],
            "layout": "IPY_MODEL_438c6b2d8a754046a0ccd166d81f1e79"
          }
        },
        "b6bca1d53b124f05879706582e3ab93e": {
          "model_module": "@jupyter-widgets/controls",
          "model_name": "HTMLModel",
          "model_module_version": "1.5.0",
          "state": {
            "_dom_classes": [],
            "_model_module": "@jupyter-widgets/controls",
            "_model_module_version": "1.5.0",
            "_model_name": "HTMLModel",
            "_view_count": null,
            "_view_module": "@jupyter-widgets/controls",
            "_view_module_version": "1.5.0",
            "_view_name": "HTMLView",
            "description": "",
            "description_tooltip": null,
            "layout": "IPY_MODEL_9d0b3da462aa4e34a98e1fcc5b9f6503",
            "placeholder": "​",
            "style": "IPY_MODEL_00aefc0576454e0787e7e17d38c4bb6b",
            "value": "Generating validation examples...:  97%"
          }
        },
        "cbffeccb46d74dfbb9de021515aee5f8": {
          "model_module": "@jupyter-widgets/controls",
          "model_name": "FloatProgressModel",
          "model_module_version": "1.5.0",
          "state": {
            "_dom_classes": [],
            "_model_module": "@jupyter-widgets/controls",
            "_model_module_version": "1.5.0",
            "_model_name": "FloatProgressModel",
            "_view_count": null,
            "_view_module": "@jupyter-widgets/controls",
            "_view_module_version": "1.5.0",
            "_view_name": "ProgressView",
            "bar_style": "",
            "description": "",
            "description_tooltip": null,
            "layout": "IPY_MODEL_6a70a8b0a88248458ed54ad9d468cd3e",
            "max": 1631,
            "min": 0,
            "orientation": "horizontal",
            "style": "IPY_MODEL_f19763d0ba624382b89cddeaa365a900",
            "value": 1631
          }
        },
        "7248985458b44de69d09d706ca04fed2": {
          "model_module": "@jupyter-widgets/controls",
          "model_name": "HTMLModel",
          "model_module_version": "1.5.0",
          "state": {
            "_dom_classes": [],
            "_model_module": "@jupyter-widgets/controls",
            "_model_module_version": "1.5.0",
            "_model_name": "HTMLModel",
            "_view_count": null,
            "_view_module": "@jupyter-widgets/controls",
            "_view_module_version": "1.5.0",
            "_view_name": "HTMLView",
            "description": "",
            "description_tooltip": null,
            "layout": "IPY_MODEL_4add97223ed3482ba8a76ec4376f7f07",
            "placeholder": "​",
            "style": "IPY_MODEL_21a85897a8f6478ea6b0b042e9f10ff4",
            "value": " 1574/1631 [00:33&lt;00:00, 75.18 examples/s]"
          }
        },
        "438c6b2d8a754046a0ccd166d81f1e79": {
          "model_module": "@jupyter-widgets/base",
          "model_name": "LayoutModel",
          "model_module_version": "1.2.0",
          "state": {
            "_model_module": "@jupyter-widgets/base",
            "_model_module_version": "1.2.0",
            "_model_name": "LayoutModel",
            "_view_count": null,
            "_view_module": "@jupyter-widgets/base",
            "_view_module_version": "1.2.0",
            "_view_name": "LayoutView",
            "align_content": null,
            "align_items": null,
            "align_self": null,
            "border": null,
            "bottom": null,
            "display": null,
            "flex": null,
            "flex_flow": null,
            "grid_area": null,
            "grid_auto_columns": null,
            "grid_auto_flow": null,
            "grid_auto_rows": null,
            "grid_column": null,
            "grid_gap": null,
            "grid_row": null,
            "grid_template_areas": null,
            "grid_template_columns": null,
            "grid_template_rows": null,
            "height": null,
            "justify_content": null,
            "justify_items": null,
            "left": null,
            "margin": null,
            "max_height": null,
            "max_width": null,
            "min_height": null,
            "min_width": null,
            "object_fit": null,
            "object_position": null,
            "order": null,
            "overflow": null,
            "overflow_x": null,
            "overflow_y": null,
            "padding": null,
            "right": null,
            "top": null,
            "visibility": "hidden",
            "width": null
          }
        },
        "9d0b3da462aa4e34a98e1fcc5b9f6503": {
          "model_module": "@jupyter-widgets/base",
          "model_name": "LayoutModel",
          "model_module_version": "1.2.0",
          "state": {
            "_model_module": "@jupyter-widgets/base",
            "_model_module_version": "1.2.0",
            "_model_name": "LayoutModel",
            "_view_count": null,
            "_view_module": "@jupyter-widgets/base",
            "_view_module_version": "1.2.0",
            "_view_name": "LayoutView",
            "align_content": null,
            "align_items": null,
            "align_self": null,
            "border": null,
            "bottom": null,
            "display": null,
            "flex": null,
            "flex_flow": null,
            "grid_area": null,
            "grid_auto_columns": null,
            "grid_auto_flow": null,
            "grid_auto_rows": null,
            "grid_column": null,
            "grid_gap": null,
            "grid_row": null,
            "grid_template_areas": null,
            "grid_template_columns": null,
            "grid_template_rows": null,
            "height": null,
            "justify_content": null,
            "justify_items": null,
            "left": null,
            "margin": null,
            "max_height": null,
            "max_width": null,
            "min_height": null,
            "min_width": null,
            "object_fit": null,
            "object_position": null,
            "order": null,
            "overflow": null,
            "overflow_x": null,
            "overflow_y": null,
            "padding": null,
            "right": null,
            "top": null,
            "visibility": null,
            "width": null
          }
        },
        "00aefc0576454e0787e7e17d38c4bb6b": {
          "model_module": "@jupyter-widgets/controls",
          "model_name": "DescriptionStyleModel",
          "model_module_version": "1.5.0",
          "state": {
            "_model_module": "@jupyter-widgets/controls",
            "_model_module_version": "1.5.0",
            "_model_name": "DescriptionStyleModel",
            "_view_count": null,
            "_view_module": "@jupyter-widgets/base",
            "_view_module_version": "1.2.0",
            "_view_name": "StyleView",
            "description_width": ""
          }
        },
        "6a70a8b0a88248458ed54ad9d468cd3e": {
          "model_module": "@jupyter-widgets/base",
          "model_name": "LayoutModel",
          "model_module_version": "1.2.0",
          "state": {
            "_model_module": "@jupyter-widgets/base",
            "_model_module_version": "1.2.0",
            "_model_name": "LayoutModel",
            "_view_count": null,
            "_view_module": "@jupyter-widgets/base",
            "_view_module_version": "1.2.0",
            "_view_name": "LayoutView",
            "align_content": null,
            "align_items": null,
            "align_self": null,
            "border": null,
            "bottom": null,
            "display": null,
            "flex": null,
            "flex_flow": null,
            "grid_area": null,
            "grid_auto_columns": null,
            "grid_auto_flow": null,
            "grid_auto_rows": null,
            "grid_column": null,
            "grid_gap": null,
            "grid_row": null,
            "grid_template_areas": null,
            "grid_template_columns": null,
            "grid_template_rows": null,
            "height": null,
            "justify_content": null,
            "justify_items": null,
            "left": null,
            "margin": null,
            "max_height": null,
            "max_width": null,
            "min_height": null,
            "min_width": null,
            "object_fit": null,
            "object_position": null,
            "order": null,
            "overflow": null,
            "overflow_x": null,
            "overflow_y": null,
            "padding": null,
            "right": null,
            "top": null,
            "visibility": null,
            "width": null
          }
        },
        "f19763d0ba624382b89cddeaa365a900": {
          "model_module": "@jupyter-widgets/controls",
          "model_name": "ProgressStyleModel",
          "model_module_version": "1.5.0",
          "state": {
            "_model_module": "@jupyter-widgets/controls",
            "_model_module_version": "1.5.0",
            "_model_name": "ProgressStyleModel",
            "_view_count": null,
            "_view_module": "@jupyter-widgets/base",
            "_view_module_version": "1.2.0",
            "_view_name": "StyleView",
            "bar_color": null,
            "description_width": ""
          }
        },
        "4add97223ed3482ba8a76ec4376f7f07": {
          "model_module": "@jupyter-widgets/base",
          "model_name": "LayoutModel",
          "model_module_version": "1.2.0",
          "state": {
            "_model_module": "@jupyter-widgets/base",
            "_model_module_version": "1.2.0",
            "_model_name": "LayoutModel",
            "_view_count": null,
            "_view_module": "@jupyter-widgets/base",
            "_view_module_version": "1.2.0",
            "_view_name": "LayoutView",
            "align_content": null,
            "align_items": null,
            "align_self": null,
            "border": null,
            "bottom": null,
            "display": null,
            "flex": null,
            "flex_flow": null,
            "grid_area": null,
            "grid_auto_columns": null,
            "grid_auto_flow": null,
            "grid_auto_rows": null,
            "grid_column": null,
            "grid_gap": null,
            "grid_row": null,
            "grid_template_areas": null,
            "grid_template_columns": null,
            "grid_template_rows": null,
            "height": null,
            "justify_content": null,
            "justify_items": null,
            "left": null,
            "margin": null,
            "max_height": null,
            "max_width": null,
            "min_height": null,
            "min_width": null,
            "object_fit": null,
            "object_position": null,
            "order": null,
            "overflow": null,
            "overflow_x": null,
            "overflow_y": null,
            "padding": null,
            "right": null,
            "top": null,
            "visibility": null,
            "width": null
          }
        },
        "21a85897a8f6478ea6b0b042e9f10ff4": {
          "model_module": "@jupyter-widgets/controls",
          "model_name": "DescriptionStyleModel",
          "model_module_version": "1.5.0",
          "state": {
            "_model_module": "@jupyter-widgets/controls",
            "_model_module_version": "1.5.0",
            "_model_name": "DescriptionStyleModel",
            "_view_count": null,
            "_view_module": "@jupyter-widgets/base",
            "_view_module_version": "1.2.0",
            "_view_name": "StyleView",
            "description_width": ""
          }
        },
        "be1b88468c5a4a02a7638e5b656f4082": {
          "model_module": "@jupyter-widgets/controls",
          "model_name": "HBoxModel",
          "model_module_version": "1.5.0",
          "state": {
            "_dom_classes": [],
            "_model_module": "@jupyter-widgets/controls",
            "_model_module_version": "1.5.0",
            "_model_name": "HBoxModel",
            "_view_count": null,
            "_view_module": "@jupyter-widgets/controls",
            "_view_module_version": "1.5.0",
            "_view_name": "HBoxView",
            "box_style": "",
            "children": [
              "IPY_MODEL_22fb3bb0384c4591ae8383638b8091d9",
              "IPY_MODEL_8efbd0c1a2be4323bd22b79fb01d07d6",
              "IPY_MODEL_0ef70d1399e64094848be8b0caa7a27f"
            ],
            "layout": "IPY_MODEL_daee0dc255544ad5bf7dfe6d231dc1cc"
          }
        },
        "22fb3bb0384c4591ae8383638b8091d9": {
          "model_module": "@jupyter-widgets/controls",
          "model_name": "HTMLModel",
          "model_module_version": "1.5.0",
          "state": {
            "_dom_classes": [],
            "_model_module": "@jupyter-widgets/controls",
            "_model_module_version": "1.5.0",
            "_model_name": "HTMLModel",
            "_view_count": null,
            "_view_module": "@jupyter-widgets/controls",
            "_view_module_version": "1.5.0",
            "_view_name": "HTMLView",
            "description": "",
            "description_tooltip": null,
            "layout": "IPY_MODEL_4b5ab4ed49494f83bbe6c5fc5d68ea09",
            "placeholder": "​",
            "style": "IPY_MODEL_bf645d0b860b451195b6cf63e70bd77e",
            "value": "Shuffling data/tfds/cardiotox/1.0.0.incomplete977SGX/cardiotox-validation.tfrecord*...:  84%"
          }
        },
        "8efbd0c1a2be4323bd22b79fb01d07d6": {
          "model_module": "@jupyter-widgets/controls",
          "model_name": "FloatProgressModel",
          "model_module_version": "1.5.0",
          "state": {
            "_dom_classes": [],
            "_model_module": "@jupyter-widgets/controls",
            "_model_module_version": "1.5.0",
            "_model_name": "FloatProgressModel",
            "_view_count": null,
            "_view_module": "@jupyter-widgets/controls",
            "_view_module_version": "1.5.0",
            "_view_name": "ProgressView",
            "bar_style": "",
            "description": "",
            "description_tooltip": null,
            "layout": "IPY_MODEL_fd03a04b6f824214a367c26bc00b5af7",
            "max": 1631,
            "min": 0,
            "orientation": "horizontal",
            "style": "IPY_MODEL_b6c05dbef9824a2183fad5e741cfd928",
            "value": 1631
          }
        },
        "0ef70d1399e64094848be8b0caa7a27f": {
          "model_module": "@jupyter-widgets/controls",
          "model_name": "HTMLModel",
          "model_module_version": "1.5.0",
          "state": {
            "_dom_classes": [],
            "_model_module": "@jupyter-widgets/controls",
            "_model_module_version": "1.5.0",
            "_model_name": "HTMLModel",
            "_view_count": null,
            "_view_module": "@jupyter-widgets/controls",
            "_view_module_version": "1.5.0",
            "_view_name": "HTMLView",
            "description": "",
            "description_tooltip": null,
            "layout": "IPY_MODEL_1d83350aa60d4498a4fa36a21bf72ee0",
            "placeholder": "​",
            "style": "IPY_MODEL_91b985aad556426683ae35a2c1e3fb93",
            "value": " 1375/1631 [00:00&lt;00:00, 2297.24 examples/s]"
          }
        },
        "daee0dc255544ad5bf7dfe6d231dc1cc": {
          "model_module": "@jupyter-widgets/base",
          "model_name": "LayoutModel",
          "model_module_version": "1.2.0",
          "state": {
            "_model_module": "@jupyter-widgets/base",
            "_model_module_version": "1.2.0",
            "_model_name": "LayoutModel",
            "_view_count": null,
            "_view_module": "@jupyter-widgets/base",
            "_view_module_version": "1.2.0",
            "_view_name": "LayoutView",
            "align_content": null,
            "align_items": null,
            "align_self": null,
            "border": null,
            "bottom": null,
            "display": null,
            "flex": null,
            "flex_flow": null,
            "grid_area": null,
            "grid_auto_columns": null,
            "grid_auto_flow": null,
            "grid_auto_rows": null,
            "grid_column": null,
            "grid_gap": null,
            "grid_row": null,
            "grid_template_areas": null,
            "grid_template_columns": null,
            "grid_template_rows": null,
            "height": null,
            "justify_content": null,
            "justify_items": null,
            "left": null,
            "margin": null,
            "max_height": null,
            "max_width": null,
            "min_height": null,
            "min_width": null,
            "object_fit": null,
            "object_position": null,
            "order": null,
            "overflow": null,
            "overflow_x": null,
            "overflow_y": null,
            "padding": null,
            "right": null,
            "top": null,
            "visibility": "hidden",
            "width": null
          }
        },
        "4b5ab4ed49494f83bbe6c5fc5d68ea09": {
          "model_module": "@jupyter-widgets/base",
          "model_name": "LayoutModel",
          "model_module_version": "1.2.0",
          "state": {
            "_model_module": "@jupyter-widgets/base",
            "_model_module_version": "1.2.0",
            "_model_name": "LayoutModel",
            "_view_count": null,
            "_view_module": "@jupyter-widgets/base",
            "_view_module_version": "1.2.0",
            "_view_name": "LayoutView",
            "align_content": null,
            "align_items": null,
            "align_self": null,
            "border": null,
            "bottom": null,
            "display": null,
            "flex": null,
            "flex_flow": null,
            "grid_area": null,
            "grid_auto_columns": null,
            "grid_auto_flow": null,
            "grid_auto_rows": null,
            "grid_column": null,
            "grid_gap": null,
            "grid_row": null,
            "grid_template_areas": null,
            "grid_template_columns": null,
            "grid_template_rows": null,
            "height": null,
            "justify_content": null,
            "justify_items": null,
            "left": null,
            "margin": null,
            "max_height": null,
            "max_width": null,
            "min_height": null,
            "min_width": null,
            "object_fit": null,
            "object_position": null,
            "order": null,
            "overflow": null,
            "overflow_x": null,
            "overflow_y": null,
            "padding": null,
            "right": null,
            "top": null,
            "visibility": null,
            "width": null
          }
        },
        "bf645d0b860b451195b6cf63e70bd77e": {
          "model_module": "@jupyter-widgets/controls",
          "model_name": "DescriptionStyleModel",
          "model_module_version": "1.5.0",
          "state": {
            "_model_module": "@jupyter-widgets/controls",
            "_model_module_version": "1.5.0",
            "_model_name": "DescriptionStyleModel",
            "_view_count": null,
            "_view_module": "@jupyter-widgets/base",
            "_view_module_version": "1.2.0",
            "_view_name": "StyleView",
            "description_width": ""
          }
        },
        "fd03a04b6f824214a367c26bc00b5af7": {
          "model_module": "@jupyter-widgets/base",
          "model_name": "LayoutModel",
          "model_module_version": "1.2.0",
          "state": {
            "_model_module": "@jupyter-widgets/base",
            "_model_module_version": "1.2.0",
            "_model_name": "LayoutModel",
            "_view_count": null,
            "_view_module": "@jupyter-widgets/base",
            "_view_module_version": "1.2.0",
            "_view_name": "LayoutView",
            "align_content": null,
            "align_items": null,
            "align_self": null,
            "border": null,
            "bottom": null,
            "display": null,
            "flex": null,
            "flex_flow": null,
            "grid_area": null,
            "grid_auto_columns": null,
            "grid_auto_flow": null,
            "grid_auto_rows": null,
            "grid_column": null,
            "grid_gap": null,
            "grid_row": null,
            "grid_template_areas": null,
            "grid_template_columns": null,
            "grid_template_rows": null,
            "height": null,
            "justify_content": null,
            "justify_items": null,
            "left": null,
            "margin": null,
            "max_height": null,
            "max_width": null,
            "min_height": null,
            "min_width": null,
            "object_fit": null,
            "object_position": null,
            "order": null,
            "overflow": null,
            "overflow_x": null,
            "overflow_y": null,
            "padding": null,
            "right": null,
            "top": null,
            "visibility": null,
            "width": null
          }
        },
        "b6c05dbef9824a2183fad5e741cfd928": {
          "model_module": "@jupyter-widgets/controls",
          "model_name": "ProgressStyleModel",
          "model_module_version": "1.5.0",
          "state": {
            "_model_module": "@jupyter-widgets/controls",
            "_model_module_version": "1.5.0",
            "_model_name": "ProgressStyleModel",
            "_view_count": null,
            "_view_module": "@jupyter-widgets/base",
            "_view_module_version": "1.2.0",
            "_view_name": "StyleView",
            "bar_color": null,
            "description_width": ""
          }
        },
        "1d83350aa60d4498a4fa36a21bf72ee0": {
          "model_module": "@jupyter-widgets/base",
          "model_name": "LayoutModel",
          "model_module_version": "1.2.0",
          "state": {
            "_model_module": "@jupyter-widgets/base",
            "_model_module_version": "1.2.0",
            "_model_name": "LayoutModel",
            "_view_count": null,
            "_view_module": "@jupyter-widgets/base",
            "_view_module_version": "1.2.0",
            "_view_name": "LayoutView",
            "align_content": null,
            "align_items": null,
            "align_self": null,
            "border": null,
            "bottom": null,
            "display": null,
            "flex": null,
            "flex_flow": null,
            "grid_area": null,
            "grid_auto_columns": null,
            "grid_auto_flow": null,
            "grid_auto_rows": null,
            "grid_column": null,
            "grid_gap": null,
            "grid_row": null,
            "grid_template_areas": null,
            "grid_template_columns": null,
            "grid_template_rows": null,
            "height": null,
            "justify_content": null,
            "justify_items": null,
            "left": null,
            "margin": null,
            "max_height": null,
            "max_width": null,
            "min_height": null,
            "min_width": null,
            "object_fit": null,
            "object_position": null,
            "order": null,
            "overflow": null,
            "overflow_x": null,
            "overflow_y": null,
            "padding": null,
            "right": null,
            "top": null,
            "visibility": null,
            "width": null
          }
        },
        "91b985aad556426683ae35a2c1e3fb93": {
          "model_module": "@jupyter-widgets/controls",
          "model_name": "DescriptionStyleModel",
          "model_module_version": "1.5.0",
          "state": {
            "_model_module": "@jupyter-widgets/controls",
            "_model_module_version": "1.5.0",
            "_model_name": "DescriptionStyleModel",
            "_view_count": null,
            "_view_module": "@jupyter-widgets/base",
            "_view_module_version": "1.2.0",
            "_view_name": "StyleView",
            "description_width": ""
          }
        },
        "477df783d9654d0daa4e4e7121494735": {
          "model_module": "@jupyter-widgets/controls",
          "model_name": "HBoxModel",
          "model_module_version": "1.5.0",
          "state": {
            "_dom_classes": [],
            "_model_module": "@jupyter-widgets/controls",
            "_model_module_version": "1.5.0",
            "_model_name": "HBoxModel",
            "_view_count": null,
            "_view_module": "@jupyter-widgets/controls",
            "_view_module_version": "1.5.0",
            "_view_name": "HBoxView",
            "box_style": "",
            "children": [
              "IPY_MODEL_aec0edba0255446bb0b4ec42e8b890f3",
              "IPY_MODEL_afc563838a8345588781c4bd1d4699bc",
              "IPY_MODEL_ef912f4d8551464093142f8a2d457502"
            ],
            "layout": "IPY_MODEL_c1f9dfb5a977414b94fe4c23d12be322"
          }
        },
        "aec0edba0255446bb0b4ec42e8b890f3": {
          "model_module": "@jupyter-widgets/controls",
          "model_name": "HTMLModel",
          "model_module_version": "1.5.0",
          "state": {
            "_dom_classes": [],
            "_model_module": "@jupyter-widgets/controls",
            "_model_module_version": "1.5.0",
            "_model_name": "HTMLModel",
            "_view_count": null,
            "_view_module": "@jupyter-widgets/controls",
            "_view_module_version": "1.5.0",
            "_view_name": "HTMLView",
            "description": "",
            "description_tooltip": null,
            "layout": "IPY_MODEL_5cb9f532bf6d46178a74fb36ff394b77",
            "placeholder": "​",
            "style": "IPY_MODEL_08a1d9ab37204d1ea2ba9c652bda637b",
            "value": "Generating test examples...:  99%"
          }
        },
        "afc563838a8345588781c4bd1d4699bc": {
          "model_module": "@jupyter-widgets/controls",
          "model_name": "FloatProgressModel",
          "model_module_version": "1.5.0",
          "state": {
            "_dom_classes": [],
            "_model_module": "@jupyter-widgets/controls",
            "_model_module_version": "1.5.0",
            "_model_name": "FloatProgressModel",
            "_view_count": null,
            "_view_module": "@jupyter-widgets/controls",
            "_view_module_version": "1.5.0",
            "_view_name": "ProgressView",
            "bar_style": "",
            "description": "",
            "description_tooltip": null,
            "layout": "IPY_MODEL_e48f382d4cae4b32b55b09abe861c872",
            "max": 839,
            "min": 0,
            "orientation": "horizontal",
            "style": "IPY_MODEL_f063ed4f7f494fe3b7c72904cdf565c9",
            "value": 839
          }
        },
        "ef912f4d8551464093142f8a2d457502": {
          "model_module": "@jupyter-widgets/controls",
          "model_name": "HTMLModel",
          "model_module_version": "1.5.0",
          "state": {
            "_dom_classes": [],
            "_model_module": "@jupyter-widgets/controls",
            "_model_module_version": "1.5.0",
            "_model_name": "HTMLModel",
            "_view_count": null,
            "_view_module": "@jupyter-widgets/controls",
            "_view_module_version": "1.5.0",
            "_view_name": "HTMLView",
            "description": "",
            "description_tooltip": null,
            "layout": "IPY_MODEL_05fd504fe95e40b4bd2c3a591a0b59e7",
            "placeholder": "​",
            "style": "IPY_MODEL_8656ee314e744a26baf809164ba836c0",
            "value": " 829/839 [00:11&lt;00:00, 75.79 examples/s]"
          }
        },
        "c1f9dfb5a977414b94fe4c23d12be322": {
          "model_module": "@jupyter-widgets/base",
          "model_name": "LayoutModel",
          "model_module_version": "1.2.0",
          "state": {
            "_model_module": "@jupyter-widgets/base",
            "_model_module_version": "1.2.0",
            "_model_name": "LayoutModel",
            "_view_count": null,
            "_view_module": "@jupyter-widgets/base",
            "_view_module_version": "1.2.0",
            "_view_name": "LayoutView",
            "align_content": null,
            "align_items": null,
            "align_self": null,
            "border": null,
            "bottom": null,
            "display": null,
            "flex": null,
            "flex_flow": null,
            "grid_area": null,
            "grid_auto_columns": null,
            "grid_auto_flow": null,
            "grid_auto_rows": null,
            "grid_column": null,
            "grid_gap": null,
            "grid_row": null,
            "grid_template_areas": null,
            "grid_template_columns": null,
            "grid_template_rows": null,
            "height": null,
            "justify_content": null,
            "justify_items": null,
            "left": null,
            "margin": null,
            "max_height": null,
            "max_width": null,
            "min_height": null,
            "min_width": null,
            "object_fit": null,
            "object_position": null,
            "order": null,
            "overflow": null,
            "overflow_x": null,
            "overflow_y": null,
            "padding": null,
            "right": null,
            "top": null,
            "visibility": "hidden",
            "width": null
          }
        },
        "5cb9f532bf6d46178a74fb36ff394b77": {
          "model_module": "@jupyter-widgets/base",
          "model_name": "LayoutModel",
          "model_module_version": "1.2.0",
          "state": {
            "_model_module": "@jupyter-widgets/base",
            "_model_module_version": "1.2.0",
            "_model_name": "LayoutModel",
            "_view_count": null,
            "_view_module": "@jupyter-widgets/base",
            "_view_module_version": "1.2.0",
            "_view_name": "LayoutView",
            "align_content": null,
            "align_items": null,
            "align_self": null,
            "border": null,
            "bottom": null,
            "display": null,
            "flex": null,
            "flex_flow": null,
            "grid_area": null,
            "grid_auto_columns": null,
            "grid_auto_flow": null,
            "grid_auto_rows": null,
            "grid_column": null,
            "grid_gap": null,
            "grid_row": null,
            "grid_template_areas": null,
            "grid_template_columns": null,
            "grid_template_rows": null,
            "height": null,
            "justify_content": null,
            "justify_items": null,
            "left": null,
            "margin": null,
            "max_height": null,
            "max_width": null,
            "min_height": null,
            "min_width": null,
            "object_fit": null,
            "object_position": null,
            "order": null,
            "overflow": null,
            "overflow_x": null,
            "overflow_y": null,
            "padding": null,
            "right": null,
            "top": null,
            "visibility": null,
            "width": null
          }
        },
        "08a1d9ab37204d1ea2ba9c652bda637b": {
          "model_module": "@jupyter-widgets/controls",
          "model_name": "DescriptionStyleModel",
          "model_module_version": "1.5.0",
          "state": {
            "_model_module": "@jupyter-widgets/controls",
            "_model_module_version": "1.5.0",
            "_model_name": "DescriptionStyleModel",
            "_view_count": null,
            "_view_module": "@jupyter-widgets/base",
            "_view_module_version": "1.2.0",
            "_view_name": "StyleView",
            "description_width": ""
          }
        },
        "e48f382d4cae4b32b55b09abe861c872": {
          "model_module": "@jupyter-widgets/base",
          "model_name": "LayoutModel",
          "model_module_version": "1.2.0",
          "state": {
            "_model_module": "@jupyter-widgets/base",
            "_model_module_version": "1.2.0",
            "_model_name": "LayoutModel",
            "_view_count": null,
            "_view_module": "@jupyter-widgets/base",
            "_view_module_version": "1.2.0",
            "_view_name": "LayoutView",
            "align_content": null,
            "align_items": null,
            "align_self": null,
            "border": null,
            "bottom": null,
            "display": null,
            "flex": null,
            "flex_flow": null,
            "grid_area": null,
            "grid_auto_columns": null,
            "grid_auto_flow": null,
            "grid_auto_rows": null,
            "grid_column": null,
            "grid_gap": null,
            "grid_row": null,
            "grid_template_areas": null,
            "grid_template_columns": null,
            "grid_template_rows": null,
            "height": null,
            "justify_content": null,
            "justify_items": null,
            "left": null,
            "margin": null,
            "max_height": null,
            "max_width": null,
            "min_height": null,
            "min_width": null,
            "object_fit": null,
            "object_position": null,
            "order": null,
            "overflow": null,
            "overflow_x": null,
            "overflow_y": null,
            "padding": null,
            "right": null,
            "top": null,
            "visibility": null,
            "width": null
          }
        },
        "f063ed4f7f494fe3b7c72904cdf565c9": {
          "model_module": "@jupyter-widgets/controls",
          "model_name": "ProgressStyleModel",
          "model_module_version": "1.5.0",
          "state": {
            "_model_module": "@jupyter-widgets/controls",
            "_model_module_version": "1.5.0",
            "_model_name": "ProgressStyleModel",
            "_view_count": null,
            "_view_module": "@jupyter-widgets/base",
            "_view_module_version": "1.2.0",
            "_view_name": "StyleView",
            "bar_color": null,
            "description_width": ""
          }
        },
        "05fd504fe95e40b4bd2c3a591a0b59e7": {
          "model_module": "@jupyter-widgets/base",
          "model_name": "LayoutModel",
          "model_module_version": "1.2.0",
          "state": {
            "_model_module": "@jupyter-widgets/base",
            "_model_module_version": "1.2.0",
            "_model_name": "LayoutModel",
            "_view_count": null,
            "_view_module": "@jupyter-widgets/base",
            "_view_module_version": "1.2.0",
            "_view_name": "LayoutView",
            "align_content": null,
            "align_items": null,
            "align_self": null,
            "border": null,
            "bottom": null,
            "display": null,
            "flex": null,
            "flex_flow": null,
            "grid_area": null,
            "grid_auto_columns": null,
            "grid_auto_flow": null,
            "grid_auto_rows": null,
            "grid_column": null,
            "grid_gap": null,
            "grid_row": null,
            "grid_template_areas": null,
            "grid_template_columns": null,
            "grid_template_rows": null,
            "height": null,
            "justify_content": null,
            "justify_items": null,
            "left": null,
            "margin": null,
            "max_height": null,
            "max_width": null,
            "min_height": null,
            "min_width": null,
            "object_fit": null,
            "object_position": null,
            "order": null,
            "overflow": null,
            "overflow_x": null,
            "overflow_y": null,
            "padding": null,
            "right": null,
            "top": null,
            "visibility": null,
            "width": null
          }
        },
        "8656ee314e744a26baf809164ba836c0": {
          "model_module": "@jupyter-widgets/controls",
          "model_name": "DescriptionStyleModel",
          "model_module_version": "1.5.0",
          "state": {
            "_model_module": "@jupyter-widgets/controls",
            "_model_module_version": "1.5.0",
            "_model_name": "DescriptionStyleModel",
            "_view_count": null,
            "_view_module": "@jupyter-widgets/base",
            "_view_module_version": "1.2.0",
            "_view_name": "StyleView",
            "description_width": ""
          }
        },
        "96a424318ebb4a11b4ed139131daa33d": {
          "model_module": "@jupyter-widgets/controls",
          "model_name": "HBoxModel",
          "model_module_version": "1.5.0",
          "state": {
            "_dom_classes": [],
            "_model_module": "@jupyter-widgets/controls",
            "_model_module_version": "1.5.0",
            "_model_name": "HBoxModel",
            "_view_count": null,
            "_view_module": "@jupyter-widgets/controls",
            "_view_module_version": "1.5.0",
            "_view_name": "HBoxView",
            "box_style": "",
            "children": [
              "IPY_MODEL_803bbc89aaf5453c8a4c52d5bb858cd1",
              "IPY_MODEL_d16c88cfcc1b40a7bccd274134efcf86",
              "IPY_MODEL_d814aa87f05c456cb1d43c5a8599e4c5"
            ],
            "layout": "IPY_MODEL_49f443c1f3f24fbe8537ca6b65391098"
          }
        },
        "803bbc89aaf5453c8a4c52d5bb858cd1": {
          "model_module": "@jupyter-widgets/controls",
          "model_name": "HTMLModel",
          "model_module_version": "1.5.0",
          "state": {
            "_dom_classes": [],
            "_model_module": "@jupyter-widgets/controls",
            "_model_module_version": "1.5.0",
            "_model_name": "HTMLModel",
            "_view_count": null,
            "_view_module": "@jupyter-widgets/controls",
            "_view_module_version": "1.5.0",
            "_view_name": "HTMLView",
            "description": "",
            "description_tooltip": null,
            "layout": "IPY_MODEL_c0f9f3794431454f8fcbd82b8be9adcb",
            "placeholder": "​",
            "style": "IPY_MODEL_7b6e4d7ae10f4b76bbd886ddc7d88e44",
            "value": "Shuffling data/tfds/cardiotox/1.0.0.incomplete977SGX/cardiotox-test.tfrecord*...:  77%"
          }
        },
        "d16c88cfcc1b40a7bccd274134efcf86": {
          "model_module": "@jupyter-widgets/controls",
          "model_name": "FloatProgressModel",
          "model_module_version": "1.5.0",
          "state": {
            "_dom_classes": [],
            "_model_module": "@jupyter-widgets/controls",
            "_model_module_version": "1.5.0",
            "_model_name": "FloatProgressModel",
            "_view_count": null,
            "_view_module": "@jupyter-widgets/controls",
            "_view_module_version": "1.5.0",
            "_view_name": "ProgressView",
            "bar_style": "",
            "description": "",
            "description_tooltip": null,
            "layout": "IPY_MODEL_3d4cf36e6ea4421cbda57be7987a88e4",
            "max": 839,
            "min": 0,
            "orientation": "horizontal",
            "style": "IPY_MODEL_1a2eff253ab54e19a50de77162c8ab49",
            "value": 839
          }
        },
        "d814aa87f05c456cb1d43c5a8599e4c5": {
          "model_module": "@jupyter-widgets/controls",
          "model_name": "HTMLModel",
          "model_module_version": "1.5.0",
          "state": {
            "_dom_classes": [],
            "_model_module": "@jupyter-widgets/controls",
            "_model_module_version": "1.5.0",
            "_model_name": "HTMLModel",
            "_view_count": null,
            "_view_module": "@jupyter-widgets/controls",
            "_view_module_version": "1.5.0",
            "_view_name": "HTMLView",
            "description": "",
            "description_tooltip": null,
            "layout": "IPY_MODEL_b524ce5d74f3419c92a2010e8fd0e168",
            "placeholder": "​",
            "style": "IPY_MODEL_70033644463249febf9d2dcb6a49db82",
            "value": " 648/839 [00:00&lt;00:00, 2911.48 examples/s]"
          }
        },
        "49f443c1f3f24fbe8537ca6b65391098": {
          "model_module": "@jupyter-widgets/base",
          "model_name": "LayoutModel",
          "model_module_version": "1.2.0",
          "state": {
            "_model_module": "@jupyter-widgets/base",
            "_model_module_version": "1.2.0",
            "_model_name": "LayoutModel",
            "_view_count": null,
            "_view_module": "@jupyter-widgets/base",
            "_view_module_version": "1.2.0",
            "_view_name": "LayoutView",
            "align_content": null,
            "align_items": null,
            "align_self": null,
            "border": null,
            "bottom": null,
            "display": null,
            "flex": null,
            "flex_flow": null,
            "grid_area": null,
            "grid_auto_columns": null,
            "grid_auto_flow": null,
            "grid_auto_rows": null,
            "grid_column": null,
            "grid_gap": null,
            "grid_row": null,
            "grid_template_areas": null,
            "grid_template_columns": null,
            "grid_template_rows": null,
            "height": null,
            "justify_content": null,
            "justify_items": null,
            "left": null,
            "margin": null,
            "max_height": null,
            "max_width": null,
            "min_height": null,
            "min_width": null,
            "object_fit": null,
            "object_position": null,
            "order": null,
            "overflow": null,
            "overflow_x": null,
            "overflow_y": null,
            "padding": null,
            "right": null,
            "top": null,
            "visibility": "hidden",
            "width": null
          }
        },
        "c0f9f3794431454f8fcbd82b8be9adcb": {
          "model_module": "@jupyter-widgets/base",
          "model_name": "LayoutModel",
          "model_module_version": "1.2.0",
          "state": {
            "_model_module": "@jupyter-widgets/base",
            "_model_module_version": "1.2.0",
            "_model_name": "LayoutModel",
            "_view_count": null,
            "_view_module": "@jupyter-widgets/base",
            "_view_module_version": "1.2.0",
            "_view_name": "LayoutView",
            "align_content": null,
            "align_items": null,
            "align_self": null,
            "border": null,
            "bottom": null,
            "display": null,
            "flex": null,
            "flex_flow": null,
            "grid_area": null,
            "grid_auto_columns": null,
            "grid_auto_flow": null,
            "grid_auto_rows": null,
            "grid_column": null,
            "grid_gap": null,
            "grid_row": null,
            "grid_template_areas": null,
            "grid_template_columns": null,
            "grid_template_rows": null,
            "height": null,
            "justify_content": null,
            "justify_items": null,
            "left": null,
            "margin": null,
            "max_height": null,
            "max_width": null,
            "min_height": null,
            "min_width": null,
            "object_fit": null,
            "object_position": null,
            "order": null,
            "overflow": null,
            "overflow_x": null,
            "overflow_y": null,
            "padding": null,
            "right": null,
            "top": null,
            "visibility": null,
            "width": null
          }
        },
        "7b6e4d7ae10f4b76bbd886ddc7d88e44": {
          "model_module": "@jupyter-widgets/controls",
          "model_name": "DescriptionStyleModel",
          "model_module_version": "1.5.0",
          "state": {
            "_model_module": "@jupyter-widgets/controls",
            "_model_module_version": "1.5.0",
            "_model_name": "DescriptionStyleModel",
            "_view_count": null,
            "_view_module": "@jupyter-widgets/base",
            "_view_module_version": "1.2.0",
            "_view_name": "StyleView",
            "description_width": ""
          }
        },
        "3d4cf36e6ea4421cbda57be7987a88e4": {
          "model_module": "@jupyter-widgets/base",
          "model_name": "LayoutModel",
          "model_module_version": "1.2.0",
          "state": {
            "_model_module": "@jupyter-widgets/base",
            "_model_module_version": "1.2.0",
            "_model_name": "LayoutModel",
            "_view_count": null,
            "_view_module": "@jupyter-widgets/base",
            "_view_module_version": "1.2.0",
            "_view_name": "LayoutView",
            "align_content": null,
            "align_items": null,
            "align_self": null,
            "border": null,
            "bottom": null,
            "display": null,
            "flex": null,
            "flex_flow": null,
            "grid_area": null,
            "grid_auto_columns": null,
            "grid_auto_flow": null,
            "grid_auto_rows": null,
            "grid_column": null,
            "grid_gap": null,
            "grid_row": null,
            "grid_template_areas": null,
            "grid_template_columns": null,
            "grid_template_rows": null,
            "height": null,
            "justify_content": null,
            "justify_items": null,
            "left": null,
            "margin": null,
            "max_height": null,
            "max_width": null,
            "min_height": null,
            "min_width": null,
            "object_fit": null,
            "object_position": null,
            "order": null,
            "overflow": null,
            "overflow_x": null,
            "overflow_y": null,
            "padding": null,
            "right": null,
            "top": null,
            "visibility": null,
            "width": null
          }
        },
        "1a2eff253ab54e19a50de77162c8ab49": {
          "model_module": "@jupyter-widgets/controls",
          "model_name": "ProgressStyleModel",
          "model_module_version": "1.5.0",
          "state": {
            "_model_module": "@jupyter-widgets/controls",
            "_model_module_version": "1.5.0",
            "_model_name": "ProgressStyleModel",
            "_view_count": null,
            "_view_module": "@jupyter-widgets/base",
            "_view_module_version": "1.2.0",
            "_view_name": "StyleView",
            "bar_color": null,
            "description_width": ""
          }
        },
        "b524ce5d74f3419c92a2010e8fd0e168": {
          "model_module": "@jupyter-widgets/base",
          "model_name": "LayoutModel",
          "model_module_version": "1.2.0",
          "state": {
            "_model_module": "@jupyter-widgets/base",
            "_model_module_version": "1.2.0",
            "_model_name": "LayoutModel",
            "_view_count": null,
            "_view_module": "@jupyter-widgets/base",
            "_view_module_version": "1.2.0",
            "_view_name": "LayoutView",
            "align_content": null,
            "align_items": null,
            "align_self": null,
            "border": null,
            "bottom": null,
            "display": null,
            "flex": null,
            "flex_flow": null,
            "grid_area": null,
            "grid_auto_columns": null,
            "grid_auto_flow": null,
            "grid_auto_rows": null,
            "grid_column": null,
            "grid_gap": null,
            "grid_row": null,
            "grid_template_areas": null,
            "grid_template_columns": null,
            "grid_template_rows": null,
            "height": null,
            "justify_content": null,
            "justify_items": null,
            "left": null,
            "margin": null,
            "max_height": null,
            "max_width": null,
            "min_height": null,
            "min_width": null,
            "object_fit": null,
            "object_position": null,
            "order": null,
            "overflow": null,
            "overflow_x": null,
            "overflow_y": null,
            "padding": null,
            "right": null,
            "top": null,
            "visibility": null,
            "width": null
          }
        },
        "70033644463249febf9d2dcb6a49db82": {
          "model_module": "@jupyter-widgets/controls",
          "model_name": "DescriptionStyleModel",
          "model_module_version": "1.5.0",
          "state": {
            "_model_module": "@jupyter-widgets/controls",
            "_model_module_version": "1.5.0",
            "_model_name": "DescriptionStyleModel",
            "_view_count": null,
            "_view_module": "@jupyter-widgets/base",
            "_view_module_version": "1.2.0",
            "_view_name": "StyleView",
            "description_width": ""
          }
        },
        "c039375d826d478c8554c06bf58142f1": {
          "model_module": "@jupyter-widgets/controls",
          "model_name": "HBoxModel",
          "model_module_version": "1.5.0",
          "state": {
            "_dom_classes": [],
            "_model_module": "@jupyter-widgets/controls",
            "_model_module_version": "1.5.0",
            "_model_name": "HBoxModel",
            "_view_count": null,
            "_view_module": "@jupyter-widgets/controls",
            "_view_module_version": "1.5.0",
            "_view_name": "HBoxView",
            "box_style": "",
            "children": [
              "IPY_MODEL_4ee45710c5e44151a84e339e52cd4aa3",
              "IPY_MODEL_ab4c113337534f4dbfd0e5f3dc492c44",
              "IPY_MODEL_e175a48190b4405b85c939558f432d3b"
            ],
            "layout": "IPY_MODEL_84636ecb7a904a268bc41adc2d7a9354"
          }
        },
        "4ee45710c5e44151a84e339e52cd4aa3": {
          "model_module": "@jupyter-widgets/controls",
          "model_name": "HTMLModel",
          "model_module_version": "1.5.0",
          "state": {
            "_dom_classes": [],
            "_model_module": "@jupyter-widgets/controls",
            "_model_module_version": "1.5.0",
            "_model_name": "HTMLModel",
            "_view_count": null,
            "_view_module": "@jupyter-widgets/controls",
            "_view_module_version": "1.5.0",
            "_view_name": "HTMLView",
            "description": "",
            "description_tooltip": null,
            "layout": "IPY_MODEL_31e51ddd85f54c789ba0c67a2fdad001",
            "placeholder": "​",
            "style": "IPY_MODEL_7cc2d4a671274b03b350b91d2c3a57f1",
            "value": "Generating test2 examples...:  85%"
          }
        },
        "ab4c113337534f4dbfd0e5f3dc492c44": {
          "model_module": "@jupyter-widgets/controls",
          "model_name": "FloatProgressModel",
          "model_module_version": "1.5.0",
          "state": {
            "_dom_classes": [],
            "_model_module": "@jupyter-widgets/controls",
            "_model_module_version": "1.5.0",
            "_model_name": "FloatProgressModel",
            "_view_count": null,
            "_view_module": "@jupyter-widgets/controls",
            "_view_module_version": "1.5.0",
            "_view_name": "ProgressView",
            "bar_style": "",
            "description": "",
            "description_tooltip": null,
            "layout": "IPY_MODEL_e1eb588d00c84c1a80a479c2a2979565",
            "max": 177,
            "min": 0,
            "orientation": "horizontal",
            "style": "IPY_MODEL_6e0590887d754b04afabeb6a83a9daba",
            "value": 177
          }
        },
        "e175a48190b4405b85c939558f432d3b": {
          "model_module": "@jupyter-widgets/controls",
          "model_name": "HTMLModel",
          "model_module_version": "1.5.0",
          "state": {
            "_dom_classes": [],
            "_model_module": "@jupyter-widgets/controls",
            "_model_module_version": "1.5.0",
            "_model_name": "HTMLModel",
            "_view_count": null,
            "_view_module": "@jupyter-widgets/controls",
            "_view_module_version": "1.5.0",
            "_view_name": "HTMLView",
            "description": "",
            "description_tooltip": null,
            "layout": "IPY_MODEL_6440a3dcd37849f0b0991a01a9f01e80",
            "placeholder": "​",
            "style": "IPY_MODEL_e5e0b6ad039444638d0bc00a234452b5",
            "value": " 150/177 [00:02&lt;00:00, 76.36 examples/s]"
          }
        },
        "84636ecb7a904a268bc41adc2d7a9354": {
          "model_module": "@jupyter-widgets/base",
          "model_name": "LayoutModel",
          "model_module_version": "1.2.0",
          "state": {
            "_model_module": "@jupyter-widgets/base",
            "_model_module_version": "1.2.0",
            "_model_name": "LayoutModel",
            "_view_count": null,
            "_view_module": "@jupyter-widgets/base",
            "_view_module_version": "1.2.0",
            "_view_name": "LayoutView",
            "align_content": null,
            "align_items": null,
            "align_self": null,
            "border": null,
            "bottom": null,
            "display": null,
            "flex": null,
            "flex_flow": null,
            "grid_area": null,
            "grid_auto_columns": null,
            "grid_auto_flow": null,
            "grid_auto_rows": null,
            "grid_column": null,
            "grid_gap": null,
            "grid_row": null,
            "grid_template_areas": null,
            "grid_template_columns": null,
            "grid_template_rows": null,
            "height": null,
            "justify_content": null,
            "justify_items": null,
            "left": null,
            "margin": null,
            "max_height": null,
            "max_width": null,
            "min_height": null,
            "min_width": null,
            "object_fit": null,
            "object_position": null,
            "order": null,
            "overflow": null,
            "overflow_x": null,
            "overflow_y": null,
            "padding": null,
            "right": null,
            "top": null,
            "visibility": "hidden",
            "width": null
          }
        },
        "31e51ddd85f54c789ba0c67a2fdad001": {
          "model_module": "@jupyter-widgets/base",
          "model_name": "LayoutModel",
          "model_module_version": "1.2.0",
          "state": {
            "_model_module": "@jupyter-widgets/base",
            "_model_module_version": "1.2.0",
            "_model_name": "LayoutModel",
            "_view_count": null,
            "_view_module": "@jupyter-widgets/base",
            "_view_module_version": "1.2.0",
            "_view_name": "LayoutView",
            "align_content": null,
            "align_items": null,
            "align_self": null,
            "border": null,
            "bottom": null,
            "display": null,
            "flex": null,
            "flex_flow": null,
            "grid_area": null,
            "grid_auto_columns": null,
            "grid_auto_flow": null,
            "grid_auto_rows": null,
            "grid_column": null,
            "grid_gap": null,
            "grid_row": null,
            "grid_template_areas": null,
            "grid_template_columns": null,
            "grid_template_rows": null,
            "height": null,
            "justify_content": null,
            "justify_items": null,
            "left": null,
            "margin": null,
            "max_height": null,
            "max_width": null,
            "min_height": null,
            "min_width": null,
            "object_fit": null,
            "object_position": null,
            "order": null,
            "overflow": null,
            "overflow_x": null,
            "overflow_y": null,
            "padding": null,
            "right": null,
            "top": null,
            "visibility": null,
            "width": null
          }
        },
        "7cc2d4a671274b03b350b91d2c3a57f1": {
          "model_module": "@jupyter-widgets/controls",
          "model_name": "DescriptionStyleModel",
          "model_module_version": "1.5.0",
          "state": {
            "_model_module": "@jupyter-widgets/controls",
            "_model_module_version": "1.5.0",
            "_model_name": "DescriptionStyleModel",
            "_view_count": null,
            "_view_module": "@jupyter-widgets/base",
            "_view_module_version": "1.2.0",
            "_view_name": "StyleView",
            "description_width": ""
          }
        },
        "e1eb588d00c84c1a80a479c2a2979565": {
          "model_module": "@jupyter-widgets/base",
          "model_name": "LayoutModel",
          "model_module_version": "1.2.0",
          "state": {
            "_model_module": "@jupyter-widgets/base",
            "_model_module_version": "1.2.0",
            "_model_name": "LayoutModel",
            "_view_count": null,
            "_view_module": "@jupyter-widgets/base",
            "_view_module_version": "1.2.0",
            "_view_name": "LayoutView",
            "align_content": null,
            "align_items": null,
            "align_self": null,
            "border": null,
            "bottom": null,
            "display": null,
            "flex": null,
            "flex_flow": null,
            "grid_area": null,
            "grid_auto_columns": null,
            "grid_auto_flow": null,
            "grid_auto_rows": null,
            "grid_column": null,
            "grid_gap": null,
            "grid_row": null,
            "grid_template_areas": null,
            "grid_template_columns": null,
            "grid_template_rows": null,
            "height": null,
            "justify_content": null,
            "justify_items": null,
            "left": null,
            "margin": null,
            "max_height": null,
            "max_width": null,
            "min_height": null,
            "min_width": null,
            "object_fit": null,
            "object_position": null,
            "order": null,
            "overflow": null,
            "overflow_x": null,
            "overflow_y": null,
            "padding": null,
            "right": null,
            "top": null,
            "visibility": null,
            "width": null
          }
        },
        "6e0590887d754b04afabeb6a83a9daba": {
          "model_module": "@jupyter-widgets/controls",
          "model_name": "ProgressStyleModel",
          "model_module_version": "1.5.0",
          "state": {
            "_model_module": "@jupyter-widgets/controls",
            "_model_module_version": "1.5.0",
            "_model_name": "ProgressStyleModel",
            "_view_count": null,
            "_view_module": "@jupyter-widgets/base",
            "_view_module_version": "1.2.0",
            "_view_name": "StyleView",
            "bar_color": null,
            "description_width": ""
          }
        },
        "6440a3dcd37849f0b0991a01a9f01e80": {
          "model_module": "@jupyter-widgets/base",
          "model_name": "LayoutModel",
          "model_module_version": "1.2.0",
          "state": {
            "_model_module": "@jupyter-widgets/base",
            "_model_module_version": "1.2.0",
            "_model_name": "LayoutModel",
            "_view_count": null,
            "_view_module": "@jupyter-widgets/base",
            "_view_module_version": "1.2.0",
            "_view_name": "LayoutView",
            "align_content": null,
            "align_items": null,
            "align_self": null,
            "border": null,
            "bottom": null,
            "display": null,
            "flex": null,
            "flex_flow": null,
            "grid_area": null,
            "grid_auto_columns": null,
            "grid_auto_flow": null,
            "grid_auto_rows": null,
            "grid_column": null,
            "grid_gap": null,
            "grid_row": null,
            "grid_template_areas": null,
            "grid_template_columns": null,
            "grid_template_rows": null,
            "height": null,
            "justify_content": null,
            "justify_items": null,
            "left": null,
            "margin": null,
            "max_height": null,
            "max_width": null,
            "min_height": null,
            "min_width": null,
            "object_fit": null,
            "object_position": null,
            "order": null,
            "overflow": null,
            "overflow_x": null,
            "overflow_y": null,
            "padding": null,
            "right": null,
            "top": null,
            "visibility": null,
            "width": null
          }
        },
        "e5e0b6ad039444638d0bc00a234452b5": {
          "model_module": "@jupyter-widgets/controls",
          "model_name": "DescriptionStyleModel",
          "model_module_version": "1.5.0",
          "state": {
            "_model_module": "@jupyter-widgets/controls",
            "_model_module_version": "1.5.0",
            "_model_name": "DescriptionStyleModel",
            "_view_count": null,
            "_view_module": "@jupyter-widgets/base",
            "_view_module_version": "1.2.0",
            "_view_name": "StyleView",
            "description_width": ""
          }
        },
        "4c303776484c4a54a147ead501663045": {
          "model_module": "@jupyter-widgets/controls",
          "model_name": "HBoxModel",
          "model_module_version": "1.5.0",
          "state": {
            "_dom_classes": [],
            "_model_module": "@jupyter-widgets/controls",
            "_model_module_version": "1.5.0",
            "_model_name": "HBoxModel",
            "_view_count": null,
            "_view_module": "@jupyter-widgets/controls",
            "_view_module_version": "1.5.0",
            "_view_name": "HBoxView",
            "box_style": "",
            "children": [
              "IPY_MODEL_2604345b6c0f4d3d9838d4e95644752e",
              "IPY_MODEL_32baa93fa54741048f6c2d90dba3c403",
              "IPY_MODEL_1210ff69a1244745876e57d6644ff3e5"
            ],
            "layout": "IPY_MODEL_d933eea6be6144a195c6d6e747714a82"
          }
        },
        "2604345b6c0f4d3d9838d4e95644752e": {
          "model_module": "@jupyter-widgets/controls",
          "model_name": "HTMLModel",
          "model_module_version": "1.5.0",
          "state": {
            "_dom_classes": [],
            "_model_module": "@jupyter-widgets/controls",
            "_model_module_version": "1.5.0",
            "_model_name": "HTMLModel",
            "_view_count": null,
            "_view_module": "@jupyter-widgets/controls",
            "_view_module_version": "1.5.0",
            "_view_name": "HTMLView",
            "description": "",
            "description_tooltip": null,
            "layout": "IPY_MODEL_77a20c38f9a64293a4db26572fe2710d",
            "placeholder": "​",
            "style": "IPY_MODEL_b3dc72a3f5eb4f32adb64a4bfb0d9086",
            "value": "Shuffling data/tfds/cardiotox/1.0.0.incomplete977SGX/cardiotox-test2.tfrecord*...:   0%"
          }
        },
        "32baa93fa54741048f6c2d90dba3c403": {
          "model_module": "@jupyter-widgets/controls",
          "model_name": "FloatProgressModel",
          "model_module_version": "1.5.0",
          "state": {
            "_dom_classes": [],
            "_model_module": "@jupyter-widgets/controls",
            "_model_module_version": "1.5.0",
            "_model_name": "FloatProgressModel",
            "_view_count": null,
            "_view_module": "@jupyter-widgets/controls",
            "_view_module_version": "1.5.0",
            "_view_name": "ProgressView",
            "bar_style": "",
            "description": "",
            "description_tooltip": null,
            "layout": "IPY_MODEL_52ba2adf72474e53967eea8e3f39f3d3",
            "max": 177,
            "min": 0,
            "orientation": "horizontal",
            "style": "IPY_MODEL_45c7903385f94471bf3f73a72167de4d",
            "value": 177
          }
        },
        "1210ff69a1244745876e57d6644ff3e5": {
          "model_module": "@jupyter-widgets/controls",
          "model_name": "HTMLModel",
          "model_module_version": "1.5.0",
          "state": {
            "_dom_classes": [],
            "_model_module": "@jupyter-widgets/controls",
            "_model_module_version": "1.5.0",
            "_model_name": "HTMLModel",
            "_view_count": null,
            "_view_module": "@jupyter-widgets/controls",
            "_view_module_version": "1.5.0",
            "_view_name": "HTMLView",
            "description": "",
            "description_tooltip": null,
            "layout": "IPY_MODEL_6d21c3e95d944af3a7ca6d3622c3373e",
            "placeholder": "​",
            "style": "IPY_MODEL_6af1a7e1dff04f399faacff01f9d0590",
            "value": " 0/177 [00:00&lt;?, ? examples/s]"
          }
        },
        "d933eea6be6144a195c6d6e747714a82": {
          "model_module": "@jupyter-widgets/base",
          "model_name": "LayoutModel",
          "model_module_version": "1.2.0",
          "state": {
            "_model_module": "@jupyter-widgets/base",
            "_model_module_version": "1.2.0",
            "_model_name": "LayoutModel",
            "_view_count": null,
            "_view_module": "@jupyter-widgets/base",
            "_view_module_version": "1.2.0",
            "_view_name": "LayoutView",
            "align_content": null,
            "align_items": null,
            "align_self": null,
            "border": null,
            "bottom": null,
            "display": null,
            "flex": null,
            "flex_flow": null,
            "grid_area": null,
            "grid_auto_columns": null,
            "grid_auto_flow": null,
            "grid_auto_rows": null,
            "grid_column": null,
            "grid_gap": null,
            "grid_row": null,
            "grid_template_areas": null,
            "grid_template_columns": null,
            "grid_template_rows": null,
            "height": null,
            "justify_content": null,
            "justify_items": null,
            "left": null,
            "margin": null,
            "max_height": null,
            "max_width": null,
            "min_height": null,
            "min_width": null,
            "object_fit": null,
            "object_position": null,
            "order": null,
            "overflow": null,
            "overflow_x": null,
            "overflow_y": null,
            "padding": null,
            "right": null,
            "top": null,
            "visibility": "hidden",
            "width": null
          }
        },
        "77a20c38f9a64293a4db26572fe2710d": {
          "model_module": "@jupyter-widgets/base",
          "model_name": "LayoutModel",
          "model_module_version": "1.2.0",
          "state": {
            "_model_module": "@jupyter-widgets/base",
            "_model_module_version": "1.2.0",
            "_model_name": "LayoutModel",
            "_view_count": null,
            "_view_module": "@jupyter-widgets/base",
            "_view_module_version": "1.2.0",
            "_view_name": "LayoutView",
            "align_content": null,
            "align_items": null,
            "align_self": null,
            "border": null,
            "bottom": null,
            "display": null,
            "flex": null,
            "flex_flow": null,
            "grid_area": null,
            "grid_auto_columns": null,
            "grid_auto_flow": null,
            "grid_auto_rows": null,
            "grid_column": null,
            "grid_gap": null,
            "grid_row": null,
            "grid_template_areas": null,
            "grid_template_columns": null,
            "grid_template_rows": null,
            "height": null,
            "justify_content": null,
            "justify_items": null,
            "left": null,
            "margin": null,
            "max_height": null,
            "max_width": null,
            "min_height": null,
            "min_width": null,
            "object_fit": null,
            "object_position": null,
            "order": null,
            "overflow": null,
            "overflow_x": null,
            "overflow_y": null,
            "padding": null,
            "right": null,
            "top": null,
            "visibility": null,
            "width": null
          }
        },
        "b3dc72a3f5eb4f32adb64a4bfb0d9086": {
          "model_module": "@jupyter-widgets/controls",
          "model_name": "DescriptionStyleModel",
          "model_module_version": "1.5.0",
          "state": {
            "_model_module": "@jupyter-widgets/controls",
            "_model_module_version": "1.5.0",
            "_model_name": "DescriptionStyleModel",
            "_view_count": null,
            "_view_module": "@jupyter-widgets/base",
            "_view_module_version": "1.2.0",
            "_view_name": "StyleView",
            "description_width": ""
          }
        },
        "52ba2adf72474e53967eea8e3f39f3d3": {
          "model_module": "@jupyter-widgets/base",
          "model_name": "LayoutModel",
          "model_module_version": "1.2.0",
          "state": {
            "_model_module": "@jupyter-widgets/base",
            "_model_module_version": "1.2.0",
            "_model_name": "LayoutModel",
            "_view_count": null,
            "_view_module": "@jupyter-widgets/base",
            "_view_module_version": "1.2.0",
            "_view_name": "LayoutView",
            "align_content": null,
            "align_items": null,
            "align_self": null,
            "border": null,
            "bottom": null,
            "display": null,
            "flex": null,
            "flex_flow": null,
            "grid_area": null,
            "grid_auto_columns": null,
            "grid_auto_flow": null,
            "grid_auto_rows": null,
            "grid_column": null,
            "grid_gap": null,
            "grid_row": null,
            "grid_template_areas": null,
            "grid_template_columns": null,
            "grid_template_rows": null,
            "height": null,
            "justify_content": null,
            "justify_items": null,
            "left": null,
            "margin": null,
            "max_height": null,
            "max_width": null,
            "min_height": null,
            "min_width": null,
            "object_fit": null,
            "object_position": null,
            "order": null,
            "overflow": null,
            "overflow_x": null,
            "overflow_y": null,
            "padding": null,
            "right": null,
            "top": null,
            "visibility": null,
            "width": null
          }
        },
        "45c7903385f94471bf3f73a72167de4d": {
          "model_module": "@jupyter-widgets/controls",
          "model_name": "ProgressStyleModel",
          "model_module_version": "1.5.0",
          "state": {
            "_model_module": "@jupyter-widgets/controls",
            "_model_module_version": "1.5.0",
            "_model_name": "ProgressStyleModel",
            "_view_count": null,
            "_view_module": "@jupyter-widgets/base",
            "_view_module_version": "1.2.0",
            "_view_name": "StyleView",
            "bar_color": null,
            "description_width": ""
          }
        },
        "6d21c3e95d944af3a7ca6d3622c3373e": {
          "model_module": "@jupyter-widgets/base",
          "model_name": "LayoutModel",
          "model_module_version": "1.2.0",
          "state": {
            "_model_module": "@jupyter-widgets/base",
            "_model_module_version": "1.2.0",
            "_model_name": "LayoutModel",
            "_view_count": null,
            "_view_module": "@jupyter-widgets/base",
            "_view_module_version": "1.2.0",
            "_view_name": "LayoutView",
            "align_content": null,
            "align_items": null,
            "align_self": null,
            "border": null,
            "bottom": null,
            "display": null,
            "flex": null,
            "flex_flow": null,
            "grid_area": null,
            "grid_auto_columns": null,
            "grid_auto_flow": null,
            "grid_auto_rows": null,
            "grid_column": null,
            "grid_gap": null,
            "grid_row": null,
            "grid_template_areas": null,
            "grid_template_columns": null,
            "grid_template_rows": null,
            "height": null,
            "justify_content": null,
            "justify_items": null,
            "left": null,
            "margin": null,
            "max_height": null,
            "max_width": null,
            "min_height": null,
            "min_width": null,
            "object_fit": null,
            "object_position": null,
            "order": null,
            "overflow": null,
            "overflow_x": null,
            "overflow_y": null,
            "padding": null,
            "right": null,
            "top": null,
            "visibility": null,
            "width": null
          }
        },
        "6af1a7e1dff04f399faacff01f9d0590": {
          "model_module": "@jupyter-widgets/controls",
          "model_name": "DescriptionStyleModel",
          "model_module_version": "1.5.0",
          "state": {
            "_model_module": "@jupyter-widgets/controls",
            "_model_module_version": "1.5.0",
            "_model_name": "DescriptionStyleModel",
            "_view_count": null,
            "_view_module": "@jupyter-widgets/base",
            "_view_module_version": "1.2.0",
            "_view_name": "StyleView",
            "description_width": ""
          }
        }
      }
    }
  },
  "nbformat": 4,
  "nbformat_minor": 0
}